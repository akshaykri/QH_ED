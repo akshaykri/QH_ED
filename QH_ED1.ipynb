{
 "cells": [
  {
   "cell_type": "code",
   "execution_count": 1,
   "metadata": {},
   "outputs": [],
   "source": [
    "import numpy as np\n",
    "import numba\n",
    "import scipy.sparse as ssp\n",
    "import scipy.stats\n",
    "import time\n",
    "import sys\n",
    "import pdb\n",
    "%load_ext line_profiler\n",
    "%load_ext autoreload\n",
    "import matplotlib.pyplot as plt\n",
    "plt.rc('text', usetex=True)"
   ]
  },
  {
   "cell_type": "markdown",
   "metadata": {},
   "source": [
    "## nu = 1/3"
   ]
  },
  {
   "cell_type": "code",
   "execution_count": 2,
   "metadata": {},
   "outputs": [],
   "source": [
    "Nphi = lambda Ne, p, q: q*Ne/p"
   ]
  },
  {
   "cell_type": "code",
   "execution_count": 3,
   "metadata": {},
   "outputs": [
    {
     "name": "stdout",
     "output_type": "stream",
     "text": [
      "N_e | N_H       | N_H (sector) | N_H (Haldane) | N_H (Yoshioka)\n",
      " 3  | 8.400e+01 | 9.333e+00    | 3.1111e+00    | 9.3333e+00\n",
      " 4  | 4.950e+02 | 4.125e+01    | 1.0312e+01    | 3.0938e+01\n",
      " 5  | 3.003e+03 | 2.002e+02    | 4.0040e+01    | 1.2012e+02\n",
      " 6  | 1.856e+04 | 1.031e+03    | 1.7189e+02    | 5.1567e+02\n",
      " 7  | 1.163e+05 | 5.537e+03    | 7.9102e+02    | 2.3731e+03\n",
      " 8  | 7.355e+05 | 3.064e+04    | 3.8306e+03    | 1.1492e+04\n",
      " 9  | 4.687e+06 | 1.736e+05    | 1.9287e+04    | 5.7862e+04\n",
      "10  | 3.005e+07 | 1.002e+06    | 1.0015e+05    | 3.0045e+05\n",
      "11  | 1.935e+08 | 5.865e+06    | 5.3316e+05    | 1.5995e+06\n",
      "12  | 1.252e+09 | 3.477e+07    | 2.8974e+06    | 8.6922e+06\n",
      "13  | 8.122e+09 | 2.083e+08    | 1.6021e+07    | 4.8062e+07\n",
      "14  | 5.286e+10 | 1.259e+09    | 8.9898e+07    | 2.6970e+08\n",
      "15  | 3.449e+11 | 7.664e+09    | 5.1091e+08    | 1.5327e+09\n"
     ]
    }
   ],
   "source": [
    "p = 1; q = 3\n",
    "print(\"N_e | N_H       | N_H (sector) | N_H (Haldane) | N_H (Yoshioka)\")\n",
    "for Ne in np.arange(3, 16):\n",
    "    NH1 = scipy.special.comb(Nphi(Ne, p, q), Ne)\n",
    "    print(\"{0:2d}  | {1:.3e} | {2:.3e}    | {3:.4e}    | {4:.4e}\".format(\n",
    "#             Ne, NH1, NH1/(3*Ne), NH1/(3*Ne*Ne)))\n",
    "           Ne, NH1, NH1/(Nphi(Ne, p, q)), NH1/(q*Ne*Ne), NH1/(Nphi(Ne, p, q)/q)**2))"
   ]
  },
  {
   "cell_type": "markdown",
   "metadata": {},
   "source": [
    "## nu = 1/5"
   ]
  },
  {
   "cell_type": "code",
   "execution_count": 4,
   "metadata": {},
   "outputs": [
    {
     "name": "stdout",
     "output_type": "stream",
     "text": [
      "N_e | N_H       | N_H (sector) | N_H (Haldane)\n",
      " 3  | 4.550e+02 | 5.056e+01    | 1.6852e+01\n",
      " 4  | 4.845e+03 | 4.038e+02    | 1.0094e+02\n",
      " 5  | 5.313e+04 | 3.542e+03    | 7.0840e+02\n",
      " 6  | 5.938e+05 | 3.299e+04    | 5.4979e+03\n",
      " 7  | 6.725e+06 | 3.202e+05    | 4.5745e+04\n",
      " 8  | 7.690e+07 | 3.204e+06    | 4.0055e+05\n",
      " 9  | 8.862e+08 | 3.282e+07    | 3.6468e+06\n",
      "10  | 1.027e+10 | 3.424e+08    | 3.4241e+07\n",
      "11  | 1.197e+11 | 3.626e+09    | 3.2962e+08\n"
     ]
    }
   ],
   "source": [
    "print(\"N_e | N_H       | N_H (sector) | N_H (Haldane)\")\n",
    "for N in np.arange(3, 12):\n",
    "    NH1 = scipy.special.comb(5*N, N)\n",
    "    print(\"{0:2d}  | {1:.3e} | {2:.3e}    | {3:.4e}\".format(N, NH1, NH1/(3*N), NH1/(3*N*N)))"
   ]
  },
  {
   "cell_type": "code",
   "execution_count": null,
   "metadata": {},
   "outputs": [],
   "source": [
    "print(\"N_e | N_H       | N_H (sector) | N_H (Haldane)\")\n",
    "for N in np.arange(4, 18, 2):\n",
    "    NH1 = scipy.special.comb(5*N//2, N)\n",
    "    print(\"{0:2d}  | {1:.3e} | {2:.3e}    | {3:.4e}\".format(N, NH1, NH1/(3*N), NH1/(3*N*N)))"
   ]
  },
  {
   "cell_type": "code",
   "execution_count": 6,
   "metadata": {},
   "outputs": [
    {
     "ename": "ModuleNotFoundError",
     "evalue": "No module named 'mbhamiltonian'",
     "output_type": "error",
     "traceback": [
      "\u001b[0;31m---------------------------------------------------------------------------\u001b[0m",
      "\u001b[0;31mModuleNotFoundError\u001b[0m                       Traceback (most recent call last)",
      "\u001b[0;32m<ipython-input-6-9ce50e8cecfb>\u001b[0m in \u001b[0;36m<module>\u001b[0;34m\u001b[0m\n\u001b[0;32m----> 1\u001b[0;31m \u001b[0;32mimport\u001b[0m \u001b[0mmbhamiltonian\u001b[0m\u001b[0;34m\u001b[0m\u001b[0;34m\u001b[0m\u001b[0m\n\u001b[0m",
      "\u001b[0;31mModuleNotFoundError\u001b[0m: No module named 'mbhamiltonian'"
     ]
    }
   ],
   "source": [
    "import mbhamiltonian"
   ]
  },
  {
   "cell_type": "code",
   "execution_count": 7,
   "metadata": {},
   "outputs": [],
   "source": [
    "params = {\"Nphi\": 9,\n",
    "          \"Ne\": 3,\n",
    "          \"usemc\": True}"
   ]
  },
  {
   "cell_type": "code",
   "execution_count": 8,
   "metadata": {},
   "outputs": [],
   "source": [
    "T1 = mbhamiltonian.Torus(params[\"Nphi\"])\n",
    "MBH1 = mbhamiltonian.MBHamiltonian(T1, params)"
   ]
  },
  {
   "cell_type": "code",
   "execution_count": 9,
   "metadata": {},
   "outputs": [
    {
     "name": "stdout",
     "output_type": "stream",
     "text": [
      "No 1-body terms\n"
     ]
    }
   ],
   "source": [
    "P1 = mbhamiltonian.Potential(T1, {'type2': ['coulomb']})\n",
    "# MBH1."
   ]
  },
  {
   "cell_type": "code",
   "execution_count": 10,
   "metadata": {},
   "outputs": [
    {
     "name": "stdout",
     "output_type": "stream",
     "text": [
      "Where's Waldo?\n"
     ]
    }
   ],
   "source": [
    "MBH1.make_hamiltonian2(P1)"
   ]
  },
  {
   "cell_type": "code",
   "execution_count": 11,
   "metadata": {},
   "outputs": [],
   "source": [
    "# Ham = MBH1.H2.todense()"
   ]
  },
  {
   "cell_type": "code",
   "execution_count": 12,
   "metadata": {},
   "outputs": [],
   "source": [
    "E, V = ssp.linalg.eigsh(MBH1.H2, which='SA')"
   ]
  },
  {
   "cell_type": "code",
   "execution_count": 13,
   "metadata": {},
   "outputs": [
    {
     "data": {
      "text/plain": [
       "0.06652137253922613"
      ]
     },
     "execution_count": 13,
     "metadata": {},
     "output_type": "execute_result"
    }
   ],
   "source": [
    "E[0] - E[3]"
   ]
  },
  {
   "cell_type": "code",
   "execution_count": 14,
   "metadata": {},
   "outputs": [
    {
     "data": {
      "text/plain": [
       "array([  7,  11,  13,  14,  19,  21,  22,  25,  26,  28,  35,  37,  38,\n",
       "        41,  42,  44,  49,  50,  52,  56,  67,  69,  70,  73,  74,  76,\n",
       "        81,  82,  84,  88,  97,  98, 100, 104, 112, 131, 133, 134, 137,\n",
       "       138, 140, 145, 146, 148, 152, 161, 162, 164, 168, 176, 193, 194,\n",
       "       196, 200, 208, 224, 259, 261, 262, 265, 266, 268, 273, 274, 276,\n",
       "       280, 289, 290, 292, 296, 304, 321, 322, 324, 328, 336, 352, 385,\n",
       "       386, 388, 392, 400, 416, 448])"
      ]
     },
     "execution_count": 14,
     "metadata": {},
     "output_type": "execute_result"
    }
   ],
   "source": [
    "MBH1.vechspace()"
   ]
  },
  {
   "cell_type": "code",
   "execution_count": 15,
   "metadata": {},
   "outputs": [],
   "source": [
    "orbocc = np.array([MBH1.dec2spin(n) for n in MBH1.vechspace()])"
   ]
  },
  {
   "cell_type": "code",
   "execution_count": 16,
   "metadata": {},
   "outputs": [],
   "source": [
    "conf = np.zeros((84, 3), dtype=int)\n",
    "for cp, p in enumerate(orbocc):\n",
    "    n = 0\n",
    "    for ci, i in enumerate(p):\n",
    "        if i == 1:\n",
    "            conf[cp, n] = int(ci)\n",
    "            n += 1"
   ]
  },
  {
   "cell_type": "code",
   "execution_count": 17,
   "metadata": {},
   "outputs": [
    {
     "data": {
      "text/plain": [
       "(7, array([0, 1, 2]), 266, array([1, 3, 8]))"
      ]
     },
     "execution_count": 17,
     "metadata": {},
     "output_type": "execute_result"
    }
   ],
   "source": [
    "MBH1.vechspace()[0], conf[0], MBH1.vechspace()[60], conf[60]"
   ]
  },
  {
   "cell_type": "code",
   "execution_count": 18,
   "metadata": {},
   "outputs": [
    {
     "data": {
      "text/plain": [
       "(259, array([0, 1, 8]), 133, array([0, 2, 7]))"
      ]
     },
     "execution_count": 18,
     "metadata": {},
     "output_type": "execute_result"
    }
   ],
   "source": [
    "MBH1.vechspace()[56], conf[56], MBH1.vechspace()[36], conf[36]"
   ]
  },
  {
   "cell_type": "code",
   "execution_count": 19,
   "metadata": {},
   "outputs": [],
   "source": [
    "auxmat = np.real(MBH1.auxmat)#np.max(np.imag(MBH1.auxmat) / np.real(MBH1.auxmat))"
   ]
  },
  {
   "cell_type": "code",
   "execution_count": 20,
   "metadata": {},
   "outputs": [
    {
     "data": {
      "text/plain": [
       "(0.03515837459284698, -0.03515837459284698)"
      ]
     },
     "execution_count": 20,
     "metadata": {},
     "output_type": "execute_result"
    }
   ],
   "source": [
    "np.real(MBH1.H2[0, 60]), 0.5*(auxmat[2, 3] - auxmat[7, 1] - auxmat[2, 8] + auxmat[7, 6])"
   ]
  },
  {
   "cell_type": "code",
   "execution_count": 21,
   "metadata": {},
   "outputs": [
    {
     "data": {
      "text/plain": [
       "0.03515837459284702"
      ]
     },
     "execution_count": 21,
     "metadata": {},
     "output_type": "execute_result"
    }
   ],
   "source": [
    "np.real(MBH1.H2[60, 0])"
   ]
  },
  {
   "cell_type": "code",
   "execution_count": 22,
   "metadata": {},
   "outputs": [
    {
     "data": {
      "text/plain": [
       "(0.035158374592846986, -0.03515837459284698)"
      ]
     },
     "execution_count": 22,
     "metadata": {},
     "output_type": "execute_result"
    }
   ],
   "source": [
    "np.real(MBH1.H2[56, 36]), 0.5*(auxmat[2, 3] - auxmat[7, 1] - auxmat[2, 8] + auxmat[7, 6])"
   ]
  },
  {
   "cell_type": "code",
   "execution_count": 23,
   "metadata": {},
   "outputs": [
    {
     "data": {
      "text/plain": [
       "(0.00394957624799506,\n",
       " 0.03910795084084204,\n",
       " 0.03910795084084205,\n",
       " 0.003949576247995062)"
      ]
     },
     "execution_count": 23,
     "metadata": {},
     "output_type": "execute_result"
    }
   ],
   "source": [
    "auxmat[2, 3], auxmat[7, 1], auxmat[2, 8], auxmat[7, 6]"
   ]
  },
  {
   "cell_type": "code",
   "execution_count": 24,
   "metadata": {},
   "outputs": [
    {
     "data": {
      "text/plain": [
       "-0.17111156696059668"
      ]
     },
     "execution_count": 24,
     "metadata": {},
     "output_type": "execute_result"
    }
   ],
   "source": [
    "np.real(MBH1.H2[3, 3])"
   ]
  },
  {
   "cell_type": "code",
   "execution_count": 25,
   "metadata": {},
   "outputs": [
    {
     "data": {
      "text/plain": [
       "<matplotlib.colorbar.Colorbar at 0x2b499da9c890>"
      ]
     },
     "execution_count": 25,
     "metadata": {},
     "output_type": "execute_result"
    },
    {
     "data": {
      "image/png": "[encoded data removed]",
      "text/plain": [
       "<Figure size 432x288 with 2 Axes>"
      ]
     },
     "metadata": {
      "needs_background": "light"
     },
     "output_type": "display_data"
    }
   ],
   "source": [
    "plt.imshow(np.log10(np.abs(auxmat)))\n",
    "plt.colorbar()"
   ]
  },
  {
   "cell_type": "code",
   "execution_count": 26,
   "metadata": {},
   "outputs": [
    {
     "name": "stderr",
     "output_type": "stream",
     "text": [
      "/home/ak20/miniconda3/lib/python3.7/site-packages/ipykernel_launcher.py:1: RuntimeWarning: divide by zero encountered in log10\n",
      "  \"\"\"Entry point for launching an IPython kernel.\n"
     ]
    },
    {
     "data": {
      "text/plain": [
       "<matplotlib.colorbar.Colorbar at 0x2b499e20b650>"
      ]
     },
     "execution_count": 26,
     "metadata": {},
     "output_type": "execute_result"
    },
    {
     "data": {
      "image/png": "[encoded data removed]",
      "text/plain": [
       "<Figure size 432x288 with 2 Axes>"
      ]
     },
     "metadata": {
      "needs_background": "light"
     },
     "output_type": "display_data"
    }
   ],
   "source": [
    "plt.imshow(np.log10(np.abs(MBH1.H2.todense())))\n",
    "plt.colorbar()"
   ]
  },
  {
   "cell_type": "code",
   "execution_count": 27,
   "metadata": {},
   "outputs": [
    {
     "data": {
      "text/plain": [
       "(0.00097288371141864, 0.0009728837114186331)"
      ]
     },
     "execution_count": 27,
     "metadata": {},
     "output_type": "execute_result"
    }
   ],
   "source": [
    "auxmat[2, 7], auxmat[3, 7]"
   ]
  },
  {
   "cell_type": "code",
   "execution_count": 28,
   "metadata": {},
   "outputs": [],
   "source": [
    "E, V = np.linalg.eigh(MBH1.H2.todense())"
   ]
  },
  {
   "cell_type": "code",
   "execution_count": 29,
   "metadata": {},
   "outputs": [
    {
     "data": {
      "text/plain": [
       "[<matplotlib.lines.Line2D at 0x2b499e2a3e50>]"
      ]
     },
     "execution_count": 29,
     "metadata": {},
     "output_type": "execute_result"
    },
    {
     "data": {
      "image/png": "[encoded data removed]",
      "text/plain": [
       "<Figure size 432x288 with 1 Axes>"
      ]
     },
     "metadata": {
      "needs_background": "light"
     },
     "output_type": "display_data"
    }
   ],
   "source": [
    "plt.plot(E[::3], 'x')\n",
    "plt.plot(E[1::3], 'o')\n",
    "plt.plot(E[2::3], '.')"
   ]
  },
  {
   "cell_type": "code",
   "execution_count": 30,
   "metadata": {},
   "outputs": [],
   "source": [
    "my_arr = np.r_[-10:-0.9:1, 1:10.1:1]"
   ]
  },
  {
   "cell_type": "code",
   "execution_count": 31,
   "metadata": {},
   "outputs": [
    {
     "data": {
      "text/plain": [
       "0.22459992835352333"
      ]
     },
     "execution_count": 31,
     "metadata": {},
     "output_type": "execute_result"
    }
   ],
   "source": [
    "np.sum(np.exp(-np.pi*my_arr**2/9) * 1/np.abs(my_arr) / np.sqrt(18*np.pi))"
   ]
  },
  {
   "cell_type": "code",
   "execution_count": 32,
   "metadata": {},
   "outputs": [
    {
     "data": {
      "text/plain": [
       "0.22459992835356937"
      ]
     },
     "execution_count": 32,
     "metadata": {},
     "output_type": "execute_result"
    }
   ],
   "source": [
    "auxmat[0, 0]"
   ]
  },
  {
   "cell_type": "code",
   "execution_count": 33,
   "metadata": {},
   "outputs": [
    {
     "data": {
      "text/plain": [
       "-0.17111156696059668"
      ]
     },
     "execution_count": 33,
     "metadata": {},
     "output_type": "execute_result"
    }
   ],
   "source": [
    "np.real(MBH1.H2[0,0])"
   ]
  },
  {
   "cell_type": "code",
   "execution_count": 34,
   "metadata": {},
   "outputs": [
    {
     "data": {
      "text/plain": [
       "0.17111156696059657"
      ]
     },
     "execution_count": 34,
     "metadata": {},
     "output_type": "execute_result"
    }
   ],
   "source": [
    "-auxmat[1, 0]+auxmat[1, 1]-auxmat[2, 0]+auxmat[2, 2]-auxmat[1, 0]+auxmat[1, 1]"
   ]
  },
  {
   "cell_type": "code",
   "execution_count": 117,
   "metadata": {},
   "outputs": [
    {
     "data": {
      "text/plain": [
       "Timer unit: 1e-06 s\n",
       "\n",
       "Total time: 8.13333 s\n",
       "File: <ipython-input-116-cb930b1d773f>\n",
       "Function: get_sector_id at line 2\n",
       "\n",
       "Line #      Hits         Time  Per Hit   % Time  Line Contents\n",
       "==============================================================\n",
       "     2                                           def get_sector_id(states, Nphi):\n",
       "     3         1          3.0      3.0      0.0      Nh = len(states)\n",
       "     4         1         22.0     22.0      0.0      NphiArr = np.arange(Nphi)\n",
       "     5         1        777.0    777.0      0.0      sectorArr = np.zeros(Nh)\n",
       "     6    735472     350198.0      0.5      4.3      for i in range(Nh):\n",
       "     7    735471    7782335.0     10.6     95.7          sectorArr[i] = np.sum(NphiArr[states[i]]) % Nphi\n",
       "     8         1          0.0      0.0      0.0      return sectorArr"
      ]
     },
     "metadata": {},
     "output_type": "display_data"
    }
   ],
   "source": [
    "%lprun -f get_sector_id get_sector_id(allStates[24, 8], 24)"
   ]
  },
  {
   "cell_type": "code",
   "execution_count": 9,
   "metadata": {},
   "outputs": [],
   "source": [
    "fol='/tigress/ak20/QH/hilbert/'\n",
    "Nphi = 30\n",
    "Ne = 10\n",
    "sect_min = ((Ne-1)*Ne)//2\n",
    "sect_max = ((2*Nphi-Ne-1)*Ne)//2\n",
    "d = {}\n",
    "\n",
    "for sector in range(sect_min, sect_max+1):\n",
    "    if sector%Nphi == 0:\n",
    "        try:\n",
    "            fil = lambda Nphi, Ne, sector: 'Nphi{0:d}_Ne{1:d}_sector{2:d}'.format(Nphi, Ne, sector)\n",
    "            f = np.load(fol+fil(Nphi, Ne, sector)+'.npy')\n",
    "            d[sector] = f\n",
    "        except FileNotFoundError:\n",
    "            pass"
   ]
  },
  {
   "cell_type": "code",
   "execution_count": 10,
   "metadata": {},
   "outputs": [
    {
     "data": {
      "text/plain": [
       "dict_keys([60, 90, 120, 150, 180, 210, 240])"
      ]
     },
     "execution_count": 10,
     "metadata": {},
     "output_type": "execute_result"
    }
   ],
   "source": [
    "d.keys()"
   ]
  },
  {
   "cell_type": "code",
   "execution_count": 11,
   "metadata": {},
   "outputs": [
    {
     "name": "stdout",
     "output_type": "stream",
     "text": [
      "60 164\n",
      "90 27822\n",
      "120 292714\n",
      "150 506357\n",
      "180 166750\n",
      "210 7588\n",
      "240 7\n"
     ]
    }
   ],
   "source": [
    "poop = 0\n",
    "for k in d.keys():\n",
    "    print(k, len(d[k]))\n",
    "    poop += len(d[k])"
   ]
  },
  {
   "cell_type": "code",
   "execution_count": 13,
   "metadata": {},
   "outputs": [],
   "source": [
    "state222 = np.array([ 2,  3, 10, 12, 13, 16, 19, 23, 24, 28], dtype='int8')"
   ]
  },
  {
   "cell_type": "code",
   "execution_count": 14,
   "metadata": {},
   "outputs": [
    {
     "data": {
      "text/plain": [
       "array([ 2,  3, 10, 12, 13, 16, 19, 23, 24, 28], dtype=int8)"
      ]
     },
     "execution_count": 14,
     "metadata": {},
     "output_type": "execute_result"
    }
   ],
   "source": [
    "state222"
   ]
  },
  {
   "cell_type": "markdown",
   "metadata": {},
   "source": [
    "## NUMBA EXPERIMENTS"
   ]
  },
  {
   "cell_type": "code",
   "execution_count": 127,
   "metadata": {},
   "outputs": [
    {
     "name": "stderr",
     "output_type": "stream",
     "text": [
      "/home/ak20/miniconda3/lib/python3.7/site-packages/ipykernel_launcher.py:27: RuntimeWarning: underflow encountered in exp\n"
     ]
    },
    {
     "data": {
      "text/plain": [
       "<matplotlib.legend.Legend at 0x2abbb9a790d0>"
      ]
     },
     "execution_count": 127,
     "metadata": {},
     "output_type": "execute_result"
    },
    {
     "data": {
      "image/png": "[encoded data removed]",
      "text/plain": [
       "<Figure size 432x288 with 1 Axes>"
      ]
     },
     "metadata": {
      "needs_background": "light"
     },
     "output_type": "display_data"
    }
   ],
   "source": [
    "# Lx = 75\n",
    "np.seterr(all='warn')\n",
    "k_arr = np.r_[0.1:20.001:0.1]\n",
    "f, ax = plt.subplots()\n",
    "n = 2\n",
    "x_arr = [0.5, 1, 2, 4, 8]\n",
    "for cx, x in enumerate(x_arr):\n",
    "    ax.plot(k_arr, VFourier(k_arr, n=1, x=x), color=plt.cm.viridis((1.*cx/len(x_arr))),\n",
    "            label=str(x), marker='.')\n",
    "ax.plot(k_arr, 2*np.pi / k_arr, '--r')\n",
    "ax.set_xlabel(r'$k$')\n",
    "ax.set_yscale('log')\n",
    "ax.legend(loc='best')"
   ]
  },
  {
   "cell_type": "code",
   "execution_count": 55,
   "metadata": {},
   "outputs": [],
   "source": [
    "spec = [\n",
    "    ('x', numba.float64[:]), \n",
    "    ('N', numba.int64)# an array field\n",
    "]\n",
    "\n",
    "@numba.jitclass(spec)\n",
    "class myClassJit:\n",
    "    \n",
    "    def __init__(self):\n",
    "        np.random.seed(455)\n",
    "        self.N = 100_000\n",
    "        self.x = np.random.rand(self.N)\n",
    "        \n",
    "    def mv(self, v):\n",
    "        w = np.zeros(self.N)\n",
    "        for i in range(self.N):\n",
    "            w[i] += self.x[i] * v[(i+2)%self.N]\n",
    "            w[(i+2)%self.N] += self.x[i] * v[i]\n",
    "\n",
    "        return w\n",
    "    \n",
    "class myClass:\n",
    "    \n",
    "    def __init__(self):\n",
    "        np.random.seed(455)\n",
    "        self.N = 100_000\n",
    "        self.x = np.random.rand(self.N)\n",
    "        \n",
    "    def mv(self, v):\n",
    "        w = np.zeros(self.N)\n",
    "        for i in range(self.N):\n",
    "            w[i] += self.x[i] * v[(i+2)%self.N]\n",
    "            w[(i+2)%self.N] += self.x[i] * v[i]\n",
    "\n",
    "        return w"
   ]
  },
  {
   "cell_type": "code",
   "execution_count": 56,
   "metadata": {},
   "outputs": [],
   "source": [
    "myObjJit = myClassJit()\n",
    "myObj = myClass()\n",
    "AJit = ssp.linalg.LinearOperator((100_000, 100_000), matvec=myObjJit.mv)\n",
    "A = ssp.linalg.LinearOperator((100_000, 100_000), matvec=myObj.mv)"
   ]
  },
  {
   "cell_type": "code",
   "execution_count": 58,
   "metadata": {},
   "outputs": [
    {
     "name": "stdout",
     "output_type": "stream",
     "text": [
      "0.16527485847473145 0.002401590347290039\n"
     ]
    }
   ],
   "source": [
    "t1 =  time.time()\n",
    "VJit = AJit.matvec(np.ones(100_000))\n",
    "t2 = time.time()\n",
    "V = A.matvec(np.ones(100_000))\n",
    "t3 = time.time()\n",
    "print(t3-t2, t2-t1)"
   ]
  },
  {
   "cell_type": "code",
   "execution_count": null,
   "metadata": {},
   "outputs": [],
   "source": [
    "scipy.sparse.linalg.eigsh(A, k=6, M=None, sigma=None, which='SA')"
   ]
  },
  {
   "cell_type": "markdown",
   "metadata": {},
   "source": [
    "### NEW"
   ]
  },
  {
   "cell_type": "code",
   "execution_count": 5,
   "metadata": {},
   "outputs": [],
   "source": [
    "import landau\n",
    "import utils\n",
    "import hilbert"
   ]
  },
  {
   "cell_type": "code",
   "execution_count": 6,
   "metadata": {},
   "outputs": [],
   "source": [
    "%autoreload"
   ]
  },
  {
   "cell_type": "code",
   "execution_count": 7,
   "metadata": {},
   "outputs": [],
   "source": [
    "Nphi = 9\n",
    "Ne = 3\n",
    "torus1 = landau.Torus(Nphi)"
   ]
  },
  {
   "cell_type": "code",
   "execution_count": 8,
   "metadata": {},
   "outputs": [],
   "source": [
    "vParams = {'n': 1, 'x': np.inf} # Coulomb\n",
    "hamParams= {'alpha': 1.0, 'n': 0, 'Nphi': Nphi} # mass anisotropy, Landau level index"
   ]
  },
  {
   "cell_type": "code",
   "execution_count": 9,
   "metadata": {},
   "outputs": [],
   "source": [
    "pot1 = landau.Potential()\n",
    "pot1.setV2(torus1, vParams, hamParams)"
   ]
  },
  {
   "cell_type": "code",
   "execution_count": 10,
   "metadata": {},
   "outputs": [
    {
     "data": {
      "text/plain": [
       "-6.661226048026113e-05"
      ]
     },
     "execution_count": 10,
     "metadata": {},
     "output_type": "execute_result"
    }
   ],
   "source": [
    "T4 = np.real(utils.Utils.make4tensorsym(torus1, pot1))\n",
    "-T4[7, 3] + T4[7, 4] + T4[2, 5] - T4[2, 6]"
   ]
  },
  {
   "cell_type": "code",
   "execution_count": 11,
   "metadata": {},
   "outputs": [],
   "source": [
    "sector = 0\n",
    "hilb0, hilbLen0 = utils.Utils.getHilb(Nphi, Ne, sector)\n",
    "sector = 1\n",
    "hilb1, hilbLen1 = utils.Utils.getHilb(Nphi, Ne, sector)\n",
    "sector = 2\n",
    "hilb2, hilbLen2 = utils.Utils.getHilb(Nphi, Ne, sector)"
   ]
  },
  {
   "cell_type": "code",
   "execution_count": 12,
   "metadata": {},
   "outputs": [
    {
     "data": {
      "text/plain": [
       "(array([[2, 3, 4],\n",
       "        [1, 3, 5],\n",
       "        [0, 4, 5],\n",
       "        [1, 2, 6],\n",
       "        [0, 3, 6],\n",
       "        [0, 2, 7],\n",
       "        [0, 1, 8],\n",
       "        [5, 6, 7],\n",
       "        [4, 6, 8],\n",
       "        [3, 7, 8]], dtype=int8), array([0, 7, 3, 0]))"
      ]
     },
     "execution_count": 12,
     "metadata": {},
     "output_type": "execute_result"
    }
   ],
   "source": [
    "hilb0, hilbLen0"
   ]
  },
  {
   "cell_type": "code",
   "execution_count": 13,
   "metadata": {},
   "outputs": [],
   "source": [
    "sector = 0\n",
    "hilbert0 = hilbert.Hilbert(Nphi, Ne, sector, hilb0, hilbLen0, T4)\n",
    "M0 = ssp.linalg.LinearOperator((10, 10), matvec=hilbert0.getMatVec)\n",
    "\n",
    "sector = 1\n",
    "hilbert1 = hilbert.Hilbert(Nphi, Ne, sector, hilb1, hilbLen1, T4)\n",
    "M1 = ssp.linalg.LinearOperator((9, 9), matvec=hilbert1.getMatVec)\n",
    "\n",
    "sector = 2\n",
    "hilbert2 = hilbert.Hilbert(Nphi, Ne, sector, hilb2, hilbLen2, T4)\n",
    "M2 = ssp.linalg.LinearOperator((9, 9), matvec=hilbert2.getMatVec)"
   ]
  },
  {
   "cell_type": "code",
   "execution_count": 15,
   "metadata": {},
   "outputs": [],
   "source": [
    "E0, V0 = scipy.sparse.linalg.eigsh(M0, k=9, which='SA')\n",
    "E1, V1 = scipy.sparse.linalg.eigsh(M1, k=8, which='SA')\n",
    "E2, V2 = scipy.sparse.linalg.eigsh(M2, k=8, which='SA')"
   ]
  },
  {
   "cell_type": "code",
   "execution_count": 16,
   "metadata": {},
   "outputs": [
    {
     "data": {
      "text/plain": [
       "(array([-0.10931023, -0.04931011, -0.04931011, -0.0486845 ,  0.00241429,\n",
       "         0.00241429,  0.01623129,  0.04689582,  0.04689582]),\n",
       " array([-0.07873834, -0.07873834, -0.0677238 , -0.03580823, -0.03580823,\n",
       "         0.00413296,  0.07703436,  0.07703436]),\n",
       " array([-0.07873834, -0.07873834, -0.0677238 , -0.03580823, -0.03580823,\n",
       "         0.00413296,  0.07703436,  0.07703436]))"
      ]
     },
     "execution_count": 16,
     "metadata": {},
     "output_type": "execute_result"
    }
   ],
   "source": [
    "E0, E1, E2"
   ]
  },
  {
   "cell_type": "code",
   "execution_count": null,
   "metadata": {},
   "outputs": [],
   "source": []
  }
 ],
 "metadata": {
  "kernelspec": {
   "display_name": "Python [conda env:root]",
   "language": "python",
   "name": "conda-root-py"
  },
  "language_info": {
   "codemirror_mode": {
    "name": "ipython",
    "version": 3
   },
   "file_extension": ".py",
   "mimetype": "text/x-python",
   "name": "python",
   "nbconvert_exporter": "python",
   "pygments_lexer": "ipython3",
   "version": "3.7.4"
  }
 },
 "nbformat": 4,
 "nbformat_minor": 4
}

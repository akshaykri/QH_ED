{
 "cells": [
  {
   "cell_type": "code",
   "execution_count": 2,
   "metadata": {},
   "outputs": [],
   "source": [
    "import numpy as np\n",
    "import numba\n",
    "import scipy.sparse as ssp\n",
    "import scipy.stats\n",
    "import time\n",
    "import sys\n",
    "import pdb\n",
    "%load_ext line_profiler\n",
    "\n",
    "import matplotlib.pyplot as plt\n",
    "plt.rc('text', usetex=True)"
   ]
  },
  {
   "cell_type": "markdown",
   "metadata": {},
   "source": [
    "## nu = 1/3"
   ]
  },
  {
   "cell_type": "code",
   "execution_count": 3,
   "metadata": {},
   "outputs": [],
   "source": [
    "Nphi = lambda Ne, p, q: q*Ne/p"
   ]
  },
  {
   "cell_type": "code",
   "execution_count": 4,
   "metadata": {},
   "outputs": [
    {
     "name": "stdout",
     "output_type": "stream",
     "text": [
      "N_e | N_H       | N_H (sector) | N_H (Haldane) | N_H (Yoshioka)\n",
      " 3  | 8.400e+01 | 9.333e+00    | 3.1111e+00    | 9.3333e+00\n",
      " 4  | 4.950e+02 | 4.125e+01    | 1.0312e+01    | 3.0938e+01\n",
      " 5  | 3.003e+03 | 2.002e+02    | 4.0040e+01    | 1.2012e+02\n",
      " 6  | 1.856e+04 | 1.031e+03    | 1.7189e+02    | 5.1567e+02\n",
      " 7  | 1.163e+05 | 5.537e+03    | 7.9102e+02    | 2.3731e+03\n",
      " 8  | 7.355e+05 | 3.064e+04    | 3.8306e+03    | 1.1492e+04\n",
      " 9  | 4.687e+06 | 1.736e+05    | 1.9287e+04    | 5.7862e+04\n",
      "10  | 3.005e+07 | 1.002e+06    | 1.0015e+05    | 3.0045e+05\n",
      "11  | 1.935e+08 | 5.865e+06    | 5.3316e+05    | 1.5995e+06\n",
      "12  | 1.252e+09 | 3.477e+07    | 2.8974e+06    | 8.6922e+06\n",
      "13  | 8.122e+09 | 2.083e+08    | 1.6021e+07    | 4.8062e+07\n",
      "14  | 5.286e+10 | 1.259e+09    | 8.9898e+07    | 2.6970e+08\n",
      "15  | 3.449e+11 | 7.664e+09    | 5.1091e+08    | 1.5327e+09\n"
     ]
    }
   ],
   "source": [
    "p = 1; q = 3\n",
    "print(\"N_e | N_H       | N_H (sector) | N_H (Haldane) | N_H (Yoshioka)\")\n",
    "for Ne in np.arange(3, 16):\n",
    "    NH1 = scipy.special.comb(Nphi(Ne, p, q), Ne)\n",
    "    print(\"{0:2d}  | {1:.3e} | {2:.3e}    | {3:.4e}    | {4:.4e}\".format(\n",
    "#             Ne, NH1, NH1/(3*Ne), NH1/(3*Ne*Ne)))\n",
    "           Ne, NH1, NH1/(Nphi(Ne, p, q)), NH1/(q*Ne*Ne), NH1/(Nphi(Ne, p, q)/q)**2))"
   ]
  },
  {
   "cell_type": "markdown",
   "metadata": {},
   "source": [
    "## nu = 1/5"
   ]
  },
  {
   "cell_type": "code",
   "execution_count": 4,
   "metadata": {},
   "outputs": [
    {
     "name": "stdout",
     "output_type": "stream",
     "text": [
      "N_e | N_H       | N_H (sector) | N_H (Haldane)\n",
      " 3  | 4.550e+02 | 5.056e+01    | 1.6852e+01\n",
      " 4  | 4.845e+03 | 4.038e+02    | 1.0094e+02\n",
      " 5  | 5.313e+04 | 3.542e+03    | 7.0840e+02\n",
      " 6  | 5.938e+05 | 3.299e+04    | 5.4979e+03\n",
      " 7  | 6.725e+06 | 3.202e+05    | 4.5745e+04\n",
      " 8  | 7.690e+07 | 3.204e+06    | 4.0055e+05\n",
      " 9  | 8.862e+08 | 3.282e+07    | 3.6468e+06\n",
      "10  | 1.027e+10 | 3.424e+08    | 3.4241e+07\n",
      "11  | 1.197e+11 | 3.626e+09    | 3.2962e+08\n"
     ]
    }
   ],
   "source": [
    "print(\"N_e | N_H       | N_H (sector) | N_H (Haldane)\")\n",
    "for N in np.arange(3, 12):\n",
    "    NH1 = scipy.special.comb(5*N, N)\n",
    "    print(\"{0:2d}  | {1:.3e} | {2:.3e}    | {3:.4e}\".format(N, NH1, NH1/(3*N), NH1/(3*N*N)))"
   ]
  },
  {
   "cell_type": "code",
   "execution_count": 5,
   "metadata": {},
   "outputs": [
    {
     "name": "stdout",
     "output_type": "stream",
     "text": [
      "N_e | N_H       | N_H (sector) | N_H (Haldane)\n",
      " 4  | 2.100e+02 | 1.750e+01    | 4.3750e+00\n",
      " 6  | 5.005e+03 | 2.781e+02    | 4.6343e+01\n",
      " 8  | 1.260e+05 | 5.249e+03    | 6.5609e+02\n",
      "10  | 3.269e+06 | 1.090e+05    | 1.0896e+04\n",
      "12  | 8.649e+07 | 2.403e+06    | 2.0022e+05\n",
      "14  | 2.320e+09 | 5.524e+07    | 3.9455e+06\n",
      "16  | 6.285e+10 | 1.309e+09    | 8.1839e+07\n"
     ]
    }
   ],
   "source": [
    "print(\"N_e | N_H       | N_H (sector) | N_H (Haldane)\")\n",
    "for N in np.arange(4, 18, 2):\n",
    "    NH1 = scipy.special.comb(5*N//2, N)\n",
    "    print(\"{0:2d}  | {1:.3e} | {2:.3e}    | {3:.4e}\".format(N, NH1, NH1/(3*N), NH1/(3*N*N)))"
   ]
  },
  {
   "cell_type": "code",
   "execution_count": 6,
   "metadata": {},
   "outputs": [],
   "source": [
    "import mbhamiltonian"
   ]
  },
  {
   "cell_type": "code",
   "execution_count": 7,
   "metadata": {},
   "outputs": [],
   "source": [
    "params = {\"Nphi\": 9,\n",
    "          \"Ne\": 3,\n",
    "          \"usemc\": True}"
   ]
  },
  {
   "cell_type": "code",
   "execution_count": 8,
   "metadata": {},
   "outputs": [],
   "source": [
    "T1 = mbhamiltonian.Torus(params[\"Nphi\"])\n",
    "MBH1 = mbhamiltonian.MBHamiltonian(T1, params)"
   ]
  },
  {
   "cell_type": "code",
   "execution_count": 9,
   "metadata": {},
   "outputs": [
    {
     "name": "stdout",
     "output_type": "stream",
     "text": [
      "No 1-body terms\n"
     ]
    }
   ],
   "source": [
    "P1 = mbhamiltonian.Potential(T1, {'type2': ['coulomb']})\n",
    "# MBH1."
   ]
  },
  {
   "cell_type": "code",
   "execution_count": 10,
   "metadata": {},
   "outputs": [
    {
     "name": "stdout",
     "output_type": "stream",
     "text": [
      "Where's Waldo?\n"
     ]
    }
   ],
   "source": [
    "MBH1.make_hamiltonian2(P1)"
   ]
  },
  {
   "cell_type": "code",
   "execution_count": 11,
   "metadata": {},
   "outputs": [],
   "source": [
    "# Ham = MBH1.H2.todense()"
   ]
  },
  {
   "cell_type": "code",
   "execution_count": 12,
   "metadata": {},
   "outputs": [],
   "source": [
    "E, V = ssp.linalg.eigsh(MBH1.H2, which='SA')"
   ]
  },
  {
   "cell_type": "code",
   "execution_count": 13,
   "metadata": {},
   "outputs": [
    {
     "data": {
      "text/plain": [
       "0.06652137253922613"
      ]
     },
     "execution_count": 13,
     "metadata": {},
     "output_type": "execute_result"
    }
   ],
   "source": [
    "E[0] - E[3]"
   ]
  },
  {
   "cell_type": "code",
   "execution_count": 14,
   "metadata": {},
   "outputs": [
    {
     "data": {
      "text/plain": [
       "array([  7,  11,  13,  14,  19,  21,  22,  25,  26,  28,  35,  37,  38,\n",
       "        41,  42,  44,  49,  50,  52,  56,  67,  69,  70,  73,  74,  76,\n",
       "        81,  82,  84,  88,  97,  98, 100, 104, 112, 131, 133, 134, 137,\n",
       "       138, 140, 145, 146, 148, 152, 161, 162, 164, 168, 176, 193, 194,\n",
       "       196, 200, 208, 224, 259, 261, 262, 265, 266, 268, 273, 274, 276,\n",
       "       280, 289, 290, 292, 296, 304, 321, 322, 324, 328, 336, 352, 385,\n",
       "       386, 388, 392, 400, 416, 448])"
      ]
     },
     "execution_count": 14,
     "metadata": {},
     "output_type": "execute_result"
    }
   ],
   "source": [
    "MBH1.vechspace()"
   ]
  },
  {
   "cell_type": "code",
   "execution_count": 15,
   "metadata": {},
   "outputs": [],
   "source": [
    "orbocc = np.array([MBH1.dec2spin(n) for n in MBH1.vechspace()])"
   ]
  },
  {
   "cell_type": "code",
   "execution_count": 16,
   "metadata": {},
   "outputs": [],
   "source": [
    "conf = np.zeros((84, 3), dtype=int)\n",
    "for cp, p in enumerate(orbocc):\n",
    "    n = 0\n",
    "    for ci, i in enumerate(p):\n",
    "        if i == 1:\n",
    "            conf[cp, n] = int(ci)\n",
    "            n += 1"
   ]
  },
  {
   "cell_type": "code",
   "execution_count": 17,
   "metadata": {},
   "outputs": [
    {
     "data": {
      "text/plain": [
       "(7, array([0, 1, 2]), 266, array([1, 3, 8]))"
      ]
     },
     "execution_count": 17,
     "metadata": {},
     "output_type": "execute_result"
    }
   ],
   "source": [
    "MBH1.vechspace()[0], conf[0], MBH1.vechspace()[60], conf[60]"
   ]
  },
  {
   "cell_type": "code",
   "execution_count": 18,
   "metadata": {},
   "outputs": [
    {
     "data": {
      "text/plain": [
       "(259, array([0, 1, 8]), 133, array([0, 2, 7]))"
      ]
     },
     "execution_count": 18,
     "metadata": {},
     "output_type": "execute_result"
    }
   ],
   "source": [
    "MBH1.vechspace()[56], conf[56], MBH1.vechspace()[36], conf[36]"
   ]
  },
  {
   "cell_type": "code",
   "execution_count": 19,
   "metadata": {},
   "outputs": [],
   "source": [
    "auxmat = np.real(MBH1.auxmat)#np.max(np.imag(MBH1.auxmat) / np.real(MBH1.auxmat))"
   ]
  },
  {
   "cell_type": "code",
   "execution_count": 20,
   "metadata": {},
   "outputs": [
    {
     "data": {
      "text/plain": [
       "(0.03515837459284698, -0.03515837459284698)"
      ]
     },
     "execution_count": 20,
     "metadata": {},
     "output_type": "execute_result"
    }
   ],
   "source": [
    "np.real(MBH1.H2[0, 60]), 0.5*(auxmat[2, 3] - auxmat[7, 1] - auxmat[2, 8] + auxmat[7, 6])"
   ]
  },
  {
   "cell_type": "code",
   "execution_count": 21,
   "metadata": {},
   "outputs": [
    {
     "data": {
      "text/plain": [
       "0.03515837459284702"
      ]
     },
     "execution_count": 21,
     "metadata": {},
     "output_type": "execute_result"
    }
   ],
   "source": [
    "np.real(MBH1.H2[60, 0])"
   ]
  },
  {
   "cell_type": "code",
   "execution_count": 22,
   "metadata": {},
   "outputs": [
    {
     "data": {
      "text/plain": [
       "(0.035158374592846986, -0.03515837459284698)"
      ]
     },
     "execution_count": 22,
     "metadata": {},
     "output_type": "execute_result"
    }
   ],
   "source": [
    "np.real(MBH1.H2[56, 36]), 0.5*(auxmat[2, 3] - auxmat[7, 1] - auxmat[2, 8] + auxmat[7, 6])"
   ]
  },
  {
   "cell_type": "code",
   "execution_count": 23,
   "metadata": {},
   "outputs": [
    {
     "data": {
      "text/plain": [
       "(0.00394957624799506,\n",
       " 0.03910795084084204,\n",
       " 0.03910795084084205,\n",
       " 0.003949576247995062)"
      ]
     },
     "execution_count": 23,
     "metadata": {},
     "output_type": "execute_result"
    }
   ],
   "source": [
    "auxmat[2, 3], auxmat[7, 1], auxmat[2, 8], auxmat[7, 6]"
   ]
  },
  {
   "cell_type": "code",
   "execution_count": 24,
   "metadata": {},
   "outputs": [
    {
     "data": {
      "text/plain": [
       "-0.17111156696059668"
      ]
     },
     "execution_count": 24,
     "metadata": {},
     "output_type": "execute_result"
    }
   ],
   "source": [
    "np.real(MBH1.H2[3, 3])"
   ]
  },
  {
   "cell_type": "code",
   "execution_count": 25,
   "metadata": {},
   "outputs": [
    {
     "data": {
      "text/plain": [
       "<matplotlib.colorbar.Colorbar at 0x2b499da9c890>"
      ]
     },
     "execution_count": 25,
     "metadata": {},
     "output_type": "execute_result"
    },
    {
     "data": {
      "image/png": "[encoded data removed]",
      "text/plain": [
       "<Figure size 432x288 with 2 Axes>"
      ]
     },
     "metadata": {
      "needs_background": "light"
     },
     "output_type": "display_data"
    }
   ],
   "source": [
    "plt.imshow(np.log10(np.abs(auxmat)))\n",
    "plt.colorbar()"
   ]
  },
  {
   "cell_type": "code",
   "execution_count": 26,
   "metadata": {},
   "outputs": [
    {
     "name": "stderr",
     "output_type": "stream",
     "text": [
      "/home/ak20/miniconda3/lib/python3.7/site-packages/ipykernel_launcher.py:1: RuntimeWarning: divide by zero encountered in log10\n",
      "  \"\"\"Entry point for launching an IPython kernel.\n"
     ]
    },
    {
     "data": {
      "text/plain": [
       "<matplotlib.colorbar.Colorbar at 0x2b499e20b650>"
      ]
     },
     "execution_count": 26,
     "metadata": {},
     "output_type": "execute_result"
    },
    {
     "data": {
      "image/png": "[encoded data removed]",
      "text/plain": [
       "<Figure size 432x288 with 2 Axes>"
      ]
     },
     "metadata": {
      "needs_background": "light"
     },
     "output_type": "display_data"
    }
   ],
   "source": [
    "plt.imshow(np.log10(np.abs(MBH1.H2.todense())))\n",
    "plt.colorbar()"
   ]
  },
  {
   "cell_type": "code",
   "execution_count": 27,
   "metadata": {},
   "outputs": [
    {
     "data": {
      "text/plain": [
       "(0.00097288371141864, 0.0009728837114186331)"
      ]
     },
     "execution_count": 27,
     "metadata": {},
     "output_type": "execute_result"
    }
   ],
   "source": [
    "auxmat[2, 7], auxmat[3, 7]"
   ]
  },
  {
   "cell_type": "code",
   "execution_count": 28,
   "metadata": {},
   "outputs": [],
   "source": [
    "E, V = np.linalg.eigh(MBH1.H2.todense())"
   ]
  },
  {
   "cell_type": "code",
   "execution_count": 29,
   "metadata": {},
   "outputs": [
    {
     "data": {
      "text/plain": [
       "[<matplotlib.lines.Line2D at 0x2b499e2a3e50>]"
      ]
     },
     "execution_count": 29,
     "metadata": {},
     "output_type": "execute_result"
    },
    {
     "data": {
      "image/png": "[encoded data removed]",
      "text/plain": [
       "<Figure size 432x288 with 1 Axes>"
      ]
     },
     "metadata": {
      "needs_background": "light"
     },
     "output_type": "display_data"
    }
   ],
   "source": [
    "plt.plot(E[::3], 'x')\n",
    "plt.plot(E[1::3], 'o')\n",
    "plt.plot(E[2::3], '.')"
   ]
  },
  {
   "cell_type": "code",
   "execution_count": 30,
   "metadata": {},
   "outputs": [],
   "source": [
    "my_arr = np.r_[-10:-0.9:1, 1:10.1:1]"
   ]
  },
  {
   "cell_type": "code",
   "execution_count": 31,
   "metadata": {},
   "outputs": [
    {
     "data": {
      "text/plain": [
       "0.22459992835352333"
      ]
     },
     "execution_count": 31,
     "metadata": {},
     "output_type": "execute_result"
    }
   ],
   "source": [
    "np.sum(np.exp(-np.pi*my_arr**2/9) * 1/np.abs(my_arr) / np.sqrt(18*np.pi))"
   ]
  },
  {
   "cell_type": "code",
   "execution_count": 32,
   "metadata": {},
   "outputs": [
    {
     "data": {
      "text/plain": [
       "0.22459992835356937"
      ]
     },
     "execution_count": 32,
     "metadata": {},
     "output_type": "execute_result"
    }
   ],
   "source": [
    "auxmat[0, 0]"
   ]
  },
  {
   "cell_type": "code",
   "execution_count": 33,
   "metadata": {},
   "outputs": [
    {
     "data": {
      "text/plain": [
       "-0.17111156696059668"
      ]
     },
     "execution_count": 33,
     "metadata": {},
     "output_type": "execute_result"
    }
   ],
   "source": [
    "np.real(MBH1.H2[0,0])"
   ]
  },
  {
   "cell_type": "code",
   "execution_count": 34,
   "metadata": {},
   "outputs": [
    {
     "data": {
      "text/plain": [
       "0.17111156696059657"
      ]
     },
     "execution_count": 34,
     "metadata": {},
     "output_type": "execute_result"
    }
   ],
   "source": [
    "-auxmat[1, 0]+auxmat[1, 1]-auxmat[2, 0]+auxmat[2, 2]-auxmat[1, 0]+auxmat[1, 1]"
   ]
  },
  {
   "cell_type": "code",
   "execution_count": 35,
   "metadata": {},
   "outputs": [],
   "source": [
    "# allStates = {(1, 0): np.array([[0]], dtype=bool),\n",
    "#              (1, 1): np.array([[1]], dtype=bool)}\n",
    "\n",
    "\n",
    "# def getOcc(Nphi, Ne, sector=None):\n",
    "#     if (Nphi, Ne) in allStates:\n",
    "#         return allStates[(Nphi, Ne)]\n",
    "#     if Ne == 0:\n",
    "#         return np.zeros((1, Nphi), dtype=bool)\n",
    "#     if Ne == Nphi:\n",
    "#         return np.ones((1, Nphi), dtype=bool)\n",
    "#     else:\n",
    "#         upper = getOcc(Nphi-1, Ne)\n",
    "#         lower = getOcc(Nphi-1, Ne-1)\n",
    "        \n",
    "#         allStates[(Nphi, Ne)] = np.r_[np.c_[upper, np.zeros((upper.shape[0], 1), dtype=bool)],\n",
    "#                                       np.c_[lower, np.ones((lower.shape[0], 1), dtype=bool)]]\n",
    "#         return allStates[(Nphi, Ne)]\n",
    "    "
   ]
  },
  {
   "cell_type": "code",
   "execution_count": 36,
   "metadata": {},
   "outputs": [],
   "source": [
    "# allStates = {(1, 0, 0): np.array([[0]], dtype=bool),\n",
    "#              (1, 1, 0): np.array([[1]], dtype=bool)}\n",
    "\n",
    "# def getOcc2(Nphi, Ne, sector=0):\n",
    "#     assert sector >= 0 and sector < Nphi\n",
    "    \n",
    "#     if (Nphi, Ne, sector) in allStates:\n",
    "#         return allStates[(Nphi, Ne, sector)]\n",
    "#     if Ne == 0:\n",
    "#         return np.zeros((1, Nphi), dtype=bool)\n",
    "#     if Ne == Nphi:\n",
    "#         if (Nphi%2 == 0 and sector = Nphi//2) or \\\n",
    "#            (Nphi%2 == 1 and sector = 0):\n",
    "#             return np.ones((1, Nphi), dtype=bool)\n",
    "#         else:\n",
    "#             return np.zeros((0, Nphi), dtype=bool)\n",
    "#     else:\n",
    "#         upper = getOcc(Nphi-1, Ne, sector)\n",
    "#         lower = getOcc(Nphi-1, Ne-1, (sector-Nphi+1))\n",
    "        \n",
    "#         allStates[(Nphi, Ne)] = np.r_[np.c_[upper, np.zeros((upper.shape[0], 1), dtype=bool)],\n",
    "#                                       np.c_[lower, np.ones((lower.shape[0], 1), dtype=bool)]]\n",
    "#         return allStates[(Nphi, Ne)]"
   ]
  },
  {
   "cell_type": "code",
   "execution_count": 37,
   "metadata": {},
   "outputs": [],
   "source": [
    "# states_30_10 = getOcc(30, 10)"
   ]
  },
  {
   "cell_type": "code",
   "execution_count": 38,
   "metadata": {},
   "outputs": [],
   "source": [
    "sector_id = np.zeros(len(states_30_10), dtype='int16')"
   ]
  },
  {
   "cell_type": "code",
   "execution_count": 39,
   "metadata": {},
   "outputs": [],
   "source": [
    "import numba\n"
   ]
  },
  {
   "cell_type": "code",
   "execution_count": 42,
   "metadata": {},
   "outputs": [],
   "source": [
    "@numba.njit\n",
    "def get_sector_id(states, Nphi):\n",
    "    Nh = len(states)\n",
    "    NphiArr = np.arange(Nphi)\n",
    "    sectorArr = np.zeros(Nh, dtype='int16')\n",
    "    for i in range(Nh):\n",
    "        sectorArr[i] = np.sum(NphiArr[states[i]]) % Nphi\n",
    "    return sectorArr"
   ]
  },
  {
   "cell_type": "code",
   "execution_count": 117,
   "metadata": {},
   "outputs": [
    {
     "data": {
      "text/plain": [
       "Timer unit: 1e-06 s\n",
       "\n",
       "Total time: 8.13333 s\n",
       "File: <ipython-input-116-cb930b1d773f>\n",
       "Function: get_sector_id at line 2\n",
       "\n",
       "Line #      Hits         Time  Per Hit   % Time  Line Contents\n",
       "==============================================================\n",
       "     2                                           def get_sector_id(states, Nphi):\n",
       "     3         1          3.0      3.0      0.0      Nh = len(states)\n",
       "     4         1         22.0     22.0      0.0      NphiArr = np.arange(Nphi)\n",
       "     5         1        777.0    777.0      0.0      sectorArr = np.zeros(Nh)\n",
       "     6    735472     350198.0      0.5      4.3      for i in range(Nh):\n",
       "     7    735471    7782335.0     10.6     95.7          sectorArr[i] = np.sum(NphiArr[states[i]]) % Nphi\n",
       "     8         1          0.0      0.0      0.0      return sectorArr"
      ]
     },
     "metadata": {},
     "output_type": "display_data"
    }
   ],
   "source": [
    "%lprun -f get_sector_id get_sector_id(allStates[24, 8], 24)"
   ]
  },
  {
   "cell_type": "code",
   "execution_count": 44,
   "metadata": {},
   "outputs": [],
   "source": [
    "poop = get_sector_id(allStates[24, 8], 24)"
   ]
  },
  {
   "cell_type": "code",
   "execution_count": 110,
   "metadata": {},
   "outputs": [
    {
     "data": {
      "text/plain": [
       "(30045015,)"
      ]
     },
     "execution_count": 110,
     "metadata": {},
     "output_type": "execute_result"
    }
   ],
   "source": [
    "poop.shape"
   ]
  },
  {
   "cell_type": "code",
   "execution_count": 112,
   "metadata": {},
   "outputs": [
    {
     "data": {
      "text/plain": [
       "array([ True,  True,  True,  True,  True, False,  True,  True,  True,\n",
       "       False, False, False, False, False, False, False, False, False,\n",
       "       False, False, False, False, False, False])"
      ]
     },
     "execution_count": 112,
     "metadata": {},
     "output_type": "execute_result"
    }
   ],
   "source": [
    "allStates[24, 8][3,:]"
   ]
  },
  {
   "cell_type": "code",
   "execution_count": null,
   "metadata": {},
   "outputs": [],
   "source": [
    "def findIndex(state, allStatesSector):\n",
    "    # binary search\n",
    "    \n",
    "\n",
    "    "
   ]
  },
  {
   "cell_type": "code",
   "execution_count": 51,
   "metadata": {},
   "outputs": [],
   "source": [
    "p64 = np.arange(20, dtype='int')\n",
    "p32 = np.arange(20, dtype='int32')\n",
    "p16 = np.arange(20, dtype='int16')\n",
    "p8 = np.arange(20, dtype='int8')\n",
    "pb = np.zeros(20, dtype='bool')"
   ]
  },
  {
   "cell_type": "code",
   "execution_count": 35,
   "metadata": {},
   "outputs": [],
   "source": [
    "allStates = {}#{(1, 0): np.zeros((1, 0), dtype='int8'),\n",
    "             #(1, 1): np.zeros((1, 1), dtype='int8')}\n",
    "\n",
    "\n",
    "def getOcc2(Nphi, Ne):\n",
    "    if (Nphi, Ne) in allStates:\n",
    "        return allStates[(Nphi, Ne)]\n",
    "    if Ne == 0:\n",
    "        return np.zeros((1, 0), dtype='int8')\n",
    "    if Ne == Nphi:\n",
    "        return np.array([np.arange(Nphi, dtype='int8')])\n",
    "    else:\n",
    "        upper = getOcc2(Nphi-1, Ne)\n",
    "        lower = getOcc2(Nphi-1, Ne-1)\n",
    "        \n",
    "        allStates[(Nphi, Ne)] = np.r_[upper,\n",
    "                                      np.c_[lower, np.full((lower.shape[0], 1), Nphi-1, \n",
    "                                                              dtype='int8')]]\n",
    "#         np.r_[np.c_[upper, np.zeros((upper.shape[0], 1), dtype=bool)],\n",
    "#                                       np.c_[lower, np.ones((lower.shape[0], 1), dtype=bool)]]\n",
    "        return allStates[(Nphi, Ne)]"
   ]
  },
  {
   "cell_type": "code",
   "execution_count": null,
   "metadata": {},
   "outputs": [],
   "source": [
    "Hilb_30_10 = getOcc2(36, 12)"
   ]
  },
  {
   "cell_type": "code",
   "execution_count": 40,
   "metadata": {},
   "outputs": [
    {
     "name": "stdout",
     "output_type": "stream",
     "text": [
      "Variable        Type             Data/Info\n",
      "------------------------------------------\n",
      "E               ndarray          84: 84 elems, type `float64`, 672 bytes\n",
      "Hilb_30_10      ndarray          193536720x11: 2128903920 elems, type `int8`, 2128903920 bytes (2030.280990600586 Mb)\n",
      "MBH1            MBHamiltonian    <mbhamiltonian.MBHamilton<...>object at 0x2b499b974590>\n",
      "N               int64            16\n",
      "NH1             float64          62852101650.0\n",
      "Ne              int64            15\n",
      "Nphi            function         <function <lambda> at 0x2b499b6e2ef0>\n",
      "P1              Potential        <potential.Potential object at 0x2b499b9748d0>\n",
      "T1              Torus            <torus.Torus object at 0x2b499b9745d0>\n",
      "V               matrix           [[-2.18130398e-02+0.00000<...>041e-02+1.46565227e-18j]]\n",
      "allStates       dict             n=242\n",
      "auxmat          ndarray          9x9: 81 elems, type `float64`, 648 bytes\n",
      "ci              int              8\n",
      "conf            ndarray          84x3: 252 elems, type `int64`, 2016 bytes\n",
      "cp              int              83\n",
      "getOcc2         function         <function getOcc2 at 0x2b499e30a290>\n",
      "i               int64            1\n",
      "mbhamiltonian   module           <module 'mbhamiltonian' f<...>mbl_qh/mbhamiltonian.py'>\n",
      "my_arr          ndarray          20: 20 elems, type `float64`, 160 bytes\n",
      "n               int              3\n",
      "np              module           <module 'numpy' from '/ho<...>kages/numpy/__init__.py'>\n",
      "orbocc          ndarray          84x9: 756 elems, type `int64`, 6048 bytes\n",
      "p               ndarray          9: 9 elems, type `int64`, 72 bytes\n",
      "params          dict             n=3\n",
      "pdb             module           <module 'pdb' from '/home<...>a3/lib/python3.7/pdb.py'>\n",
      "plt             module           <module 'matplotlib.pyplo<...>es/matplotlib/pyplot.py'>\n",
      "q               int              3\n",
      "scipy           module           <module 'scipy' from '/ho<...>kages/scipy/__init__.py'>\n",
      "ssp             module           <module 'scipy.sparse' fr<...>cipy/sparse/__init__.py'>\n",
      "sys             module           <module 'sys' (built-in)>\n",
      "time            module           <module 'time' (built-in)>\n"
     ]
    }
   ],
   "source": [
    "whos"
   ]
  },
  {
   "cell_type": "code",
   "execution_count": 38,
   "metadata": {},
   "outputs": [
    {
     "data": {
      "text/plain": [
       "array([[ 0,  1,  2, ...,  7,  8,  9],\n",
       "       [ 0,  1,  2, ...,  7,  8, 10],\n",
       "       [ 0,  1,  2, ...,  7,  9, 10],\n",
       "       ...,\n",
       "       [18, 21, 22, ..., 27, 28, 29],\n",
       "       [19, 21, 22, ..., 27, 28, 29],\n",
       "       [20, 21, 22, ..., 27, 28, 29]], dtype=int8)"
      ]
     },
     "execution_count": 38,
     "metadata": {},
     "output_type": "execute_result"
    }
   ],
   "source": [
    "Hilb_30_10"
   ]
  },
  {
   "cell_type": "code",
   "execution_count": null,
   "metadata": {},
   "outputs": [],
   "source": [
    "def getOcc2(self, Nphi, Ne, sector):\n",
    "    \"\"\"\n",
    "    Find the entire Hilbert space of Ne electrons in Nphi orbitals\n",
    "    each state is represented by the Ne occupied orbitals,\n",
    "    e.g., [0, 2, 6, 7, 13, 15] is one of the states for Nphi = 18, Ne = 6\n",
    "\n",
    "    inputs:\n",
    "    -------\n",
    "    Nphi : int, number of orbitals\n",
    "    Ne   : int, number of electrons\n",
    "\n",
    "    outputs:\n",
    "    --------\n",
    "    np.ndarray: type int8, with (Nphi \\choose Ne) rows and Ne columns\n",
    "    \"\"\"\n",
    "\n",
    "    if (Nphi, Ne) in allStates:\n",
    "        return allStates[(Nphi, Ne)]\n",
    "    if Ne == 0:\n",
    "        return np.zeros((1, 0), dtype='int8')\n",
    "    if Ne == Nphi:\n",
    "        return np.array([np.arange(Nphi, dtype='int8')])\n",
    "    else:\n",
    "        upper = getOcc2(Nphi-1, Ne)\n",
    "        lower = getOcc2(Nphi-1, Ne-1)\n",
    "\n",
    "        allStates[(Nphi, Ne)] = np.r_[upper,\n",
    "                                      np.c_[lower, np.full((lower.shape[0], 1), Nphi-1, \n",
    "                                                              dtype='int8')]]\n",
    "        return allStates[(Nphi, Ne)]"
   ]
  },
  {
   "cell_type": "code",
   "execution_count": 32,
   "metadata": {},
   "outputs": [],
   "source": [
    "import numba"
   ]
  },
  {
   "cell_type": "code",
   "execution_count": 33,
   "metadata": {},
   "outputs": [],
   "source": [
    "@numba.njit\n",
    "def writeHilbert(nuinv, NeMax, fol='/tigress/ak20/QH/hilbert/'):\n",
    "    \"\"\"\n",
    "    Utility function to find the entire Hilbert space \n",
    "    of Ne electrons in Nphi orbitals, \n",
    "    for Nphi = 1, ..., NphiMax\n",
    "    and Ne = 1, ..., NeMax\n",
    "    in all momentum sectors\n",
    "    each state is represented by the Ne occupied orbitals,\n",
    "    e.g., [0, 2, 6, 7, 13, 15] is one of the states for cNphi = 18, Ne = 6\n",
    "    it is in momentum sector 0+2+6+7+13+15 = 43\n",
    "\n",
    "    inputs:\n",
    "    -------\n",
    "    nuinv     : int, inverse filling\n",
    "    NeMax     : int, number of electrons\n",
    "    \n",
    "    outputs:\n",
    "    --------\n",
    "    np.ndarray: type int8, with (Nphi \\choose Ne) rows and Ne columns\n",
    "    \"\"\"\n",
    "    NphiMax = NeMax * nuinv\n",
    "    \n",
    "    fil = lambda Nphi, Ne, sector: 'Nphi{0:d}_Ne{1:d}_sector{2:d}'.format(Nphi, Ne, sector)\n",
    "    sect_min = lambda Ne: ((Ne-1)*Ne)//2\n",
    "    sect_max = lambda Nphi, Ne: ((2*Nphi-Ne-1)*Ne)//2\n",
    "    \n",
    "    np.save(fol+fil(1, 1, 0), np.array([[0]], dtype='int8'))\n",
    "    np.save(fol+fil(1, 0, 0), np.array([[]], dtype='int8'))\n",
    "    \n",
    "    for Nphi in range(2, NphiMax+1): # 1, 2, ..., Nphi\n",
    "        if Nphi <= NphiMax - NeMax:\n",
    "            np.save(fol+fil(Nphi, 0, 0), np.array([[]], dtype='int8'))\n",
    "        for Ne in range(max(1, Nphi - NphiMax + NeMax), \n",
    "                        min(Nphi+1, NeMax+1)): # 1, ..., Nphi\n",
    "            for sector in range(sect_min(Ne), sect_max(Nphi, Ne)+1):\n",
    "                if Nphi == NphiMax and not sector%Nphi < Nphi//nuinv:\n",
    "                    continue\n",
    "                try:\n",
    "                    upper = np.load(fol+fil(Nphi-1, Ne, sector)+'.npy')\n",
    "                except FileNotFoundError:\n",
    "                    upper = np.zeros((0, Ne), dtype='int8')\n",
    "                try:\n",
    "                    lower = np.load(fol+fil(Nphi-1, Ne-1, sector-Nphi+1)+'.npy')\n",
    "                except FileNotFoundError:\n",
    "                    lower = np.zeros((0, Ne-1), dtype='int8')\n",
    "\n",
    "                allStates = np.r_[upper,\n",
    "                                  np.c_[lower, np.full((lower.shape[0], 1), Nphi-1, \n",
    "                                                        dtype='int8')]]\n",
    "                np.save(fol+fil(Nphi, Ne, sector), allStates)\n",
    "                \n",
    "            # clean-up\n",
    "            for sector in range(sect_min(Ne-1), sect_max(Nphi-1, Ne-1)+1):\n",
    "                if nuinv*(Ne-1) != Nphi-1 or sector%(Nphi-1) >= (Nphi-1)//nuinv:\n",
    "                    try:\n",
    "                        os.remove(fol+fil(Nphi-1, Ne-1, sector)+'.npy')\n",
    "                    except FileNotFoundError:\n",
    "                        pass\n",
    "                    \n",
    "        if nuinv*Ne != Nphi-1:\n",
    "            for sector in range(sect_min(Ne), sect_max(Nphi-1, Ne)+1):\n",
    "                try:\n",
    "                    os.remove(fol+fil(Nphi-1, Ne, sector)+'.npy')\n",
    "                except FileNotFoundError:\n",
    "                    pass"
   ]
  },
  {
   "cell_type": "code",
   "execution_count": 34,
   "metadata": {},
   "outputs": [
    {
     "ename": "TypingError",
     "evalue": "Failed in nopython mode pipeline (step: nopython frontend)\nUntyped global name 'os': cannot determine Numba type of <class 'numba.ir.UndefinedType'>\n\nFile \"<ipython-input-33-282ca2dcf009>\", line 57:\ndef writeHilbert(nuinv, NeMax, fol='/tigress/ak20/QH/hilbert/'):\n    <source elided>\n                    try:\n                        os.remove(fol+fil(Nphi-1, Ne-1, sector)+'.npy')\n                        ^\n",
     "output_type": "error",
     "traceback": [
      "\u001b[0;31m---------------------------------------------------------------------------\u001b[0m",
      "\u001b[0;31mTypingError\u001b[0m                               Traceback (most recent call last)",
      "\u001b[0;32m<ipython-input-34-10a926bde2a4>\u001b[0m in \u001b[0;36m<module>\u001b[0;34m\u001b[0m\n\u001b[0;32m----> 1\u001b[0;31m \u001b[0mwriteHilbert\u001b[0m\u001b[0;34m(\u001b[0m\u001b[0;36m5\u001b[0m\u001b[0;34m,\u001b[0m \u001b[0;36m4\u001b[0m\u001b[0;34m)\u001b[0m\u001b[0;34m\u001b[0m\u001b[0;34m\u001b[0m\u001b[0m\n\u001b[0m",
      "\u001b[0;32m~/miniconda3/lib/python3.7/site-packages/numba/dispatcher.py\u001b[0m in \u001b[0;36m_compile_for_args\u001b[0;34m(self, *args, **kws)\u001b[0m\n\u001b[1;32m    399\u001b[0m                 \u001b[0me\u001b[0m\u001b[0;34m.\u001b[0m\u001b[0mpatch_message\u001b[0m\u001b[0;34m(\u001b[0m\u001b[0mmsg\u001b[0m\u001b[0;34m)\u001b[0m\u001b[0;34m\u001b[0m\u001b[0;34m\u001b[0m\u001b[0m\n\u001b[1;32m    400\u001b[0m \u001b[0;34m\u001b[0m\u001b[0m\n\u001b[0;32m--> 401\u001b[0;31m             \u001b[0merror_rewrite\u001b[0m\u001b[0;34m(\u001b[0m\u001b[0me\u001b[0m\u001b[0;34m,\u001b[0m \u001b[0;34m'typing'\u001b[0m\u001b[0;34m)\u001b[0m\u001b[0;34m\u001b[0m\u001b[0;34m\u001b[0m\u001b[0m\n\u001b[0m\u001b[1;32m    402\u001b[0m         \u001b[0;32mexcept\u001b[0m \u001b[0merrors\u001b[0m\u001b[0;34m.\u001b[0m\u001b[0mUnsupportedError\u001b[0m \u001b[0;32mas\u001b[0m \u001b[0me\u001b[0m\u001b[0;34m:\u001b[0m\u001b[0;34m\u001b[0m\u001b[0;34m\u001b[0m\u001b[0m\n\u001b[1;32m    403\u001b[0m             \u001b[0;31m# Something unsupported is present in the user code, add help info\u001b[0m\u001b[0;34m\u001b[0m\u001b[0;34m\u001b[0m\u001b[0;34m\u001b[0m\u001b[0m\n",
      "\u001b[0;32m~/miniconda3/lib/python3.7/site-packages/numba/dispatcher.py\u001b[0m in \u001b[0;36merror_rewrite\u001b[0;34m(e, issue_type)\u001b[0m\n\u001b[1;32m    342\u001b[0m                 \u001b[0;32mraise\u001b[0m \u001b[0me\u001b[0m\u001b[0;34m\u001b[0m\u001b[0;34m\u001b[0m\u001b[0m\n\u001b[1;32m    343\u001b[0m             \u001b[0;32melse\u001b[0m\u001b[0;34m:\u001b[0m\u001b[0;34m\u001b[0m\u001b[0;34m\u001b[0m\u001b[0m\n\u001b[0;32m--> 344\u001b[0;31m                 \u001b[0mreraise\u001b[0m\u001b[0;34m(\u001b[0m\u001b[0mtype\u001b[0m\u001b[0;34m(\u001b[0m\u001b[0me\u001b[0m\u001b[0;34m)\u001b[0m\u001b[0;34m,\u001b[0m \u001b[0me\u001b[0m\u001b[0;34m,\u001b[0m \u001b[0;32mNone\u001b[0m\u001b[0;34m)\u001b[0m\u001b[0;34m\u001b[0m\u001b[0;34m\u001b[0m\u001b[0m\n\u001b[0m\u001b[1;32m    345\u001b[0m \u001b[0;34m\u001b[0m\u001b[0m\n\u001b[1;32m    346\u001b[0m         \u001b[0margtypes\u001b[0m \u001b[0;34m=\u001b[0m \u001b[0;34m[\u001b[0m\u001b[0;34m]\u001b[0m\u001b[0;34m\u001b[0m\u001b[0;34m\u001b[0m\u001b[0m\n",
      "\u001b[0;32m~/miniconda3/lib/python3.7/site-packages/numba/six.py\u001b[0m in \u001b[0;36mreraise\u001b[0;34m(tp, value, tb)\u001b[0m\n\u001b[1;32m    666\u001b[0m             \u001b[0mvalue\u001b[0m \u001b[0;34m=\u001b[0m \u001b[0mtp\u001b[0m\u001b[0;34m(\u001b[0m\u001b[0;34m)\u001b[0m\u001b[0;34m\u001b[0m\u001b[0;34m\u001b[0m\u001b[0m\n\u001b[1;32m    667\u001b[0m         \u001b[0;32mif\u001b[0m \u001b[0mvalue\u001b[0m\u001b[0;34m.\u001b[0m\u001b[0m__traceback__\u001b[0m \u001b[0;32mis\u001b[0m \u001b[0;32mnot\u001b[0m \u001b[0mtb\u001b[0m\u001b[0;34m:\u001b[0m\u001b[0;34m\u001b[0m\u001b[0;34m\u001b[0m\u001b[0m\n\u001b[0;32m--> 668\u001b[0;31m             \u001b[0;32mraise\u001b[0m \u001b[0mvalue\u001b[0m\u001b[0;34m.\u001b[0m\u001b[0mwith_traceback\u001b[0m\u001b[0;34m(\u001b[0m\u001b[0mtb\u001b[0m\u001b[0;34m)\u001b[0m\u001b[0;34m\u001b[0m\u001b[0;34m\u001b[0m\u001b[0m\n\u001b[0m\u001b[1;32m    669\u001b[0m         \u001b[0;32mraise\u001b[0m \u001b[0mvalue\u001b[0m\u001b[0;34m\u001b[0m\u001b[0;34m\u001b[0m\u001b[0m\n\u001b[1;32m    670\u001b[0m \u001b[0;34m\u001b[0m\u001b[0m\n",
      "\u001b[0;31mTypingError\u001b[0m: Failed in nopython mode pipeline (step: nopython frontend)\nUntyped global name 'os': cannot determine Numba type of <class 'numba.ir.UndefinedType'>\n\nFile \"<ipython-input-33-282ca2dcf009>\", line 57:\ndef writeHilbert(nuinv, NeMax, fol='/tigress/ak20/QH/hilbert/'):\n    <source elided>\n                    try:\n                        os.remove(fol+fil(Nphi-1, Ne-1, sector)+'.npy')\n                        ^\n"
     ]
    }
   ],
   "source": [
    "writeHilbert(5, 4)"
   ]
  },
  {
   "cell_type": "code",
   "execution_count": 9,
   "metadata": {},
   "outputs": [],
   "source": [
    "fol='/tigress/ak20/QH/hilbert/'\n",
    "Nphi = 30\n",
    "Ne = 10\n",
    "sect_min = ((Ne-1)*Ne)//2\n",
    "sect_max = ((2*Nphi-Ne-1)*Ne)//2\n",
    "d = {}\n",
    "\n",
    "for sector in range(sect_min, sect_max+1):\n",
    "    if sector%Nphi == 0:\n",
    "        try:\n",
    "            fil = lambda Nphi, Ne, sector: 'Nphi{0:d}_Ne{1:d}_sector{2:d}'.format(Nphi, Ne, sector)\n",
    "            f = np.load(fol+fil(Nphi, Ne, sector)+'.npy')\n",
    "            d[sector] = f\n",
    "        except FileNotFoundError:\n",
    "            pass"
   ]
  },
  {
   "cell_type": "code",
   "execution_count": 10,
   "metadata": {},
   "outputs": [
    {
     "data": {
      "text/plain": [
       "dict_keys([60, 90, 120, 150, 180, 210, 240])"
      ]
     },
     "execution_count": 10,
     "metadata": {},
     "output_type": "execute_result"
    }
   ],
   "source": [
    "d.keys()"
   ]
  },
  {
   "cell_type": "code",
   "execution_count": 11,
   "metadata": {},
   "outputs": [
    {
     "name": "stdout",
     "output_type": "stream",
     "text": [
      "60 164\n",
      "90 27822\n",
      "120 292714\n",
      "150 506357\n",
      "180 166750\n",
      "210 7588\n",
      "240 7\n"
     ]
    }
   ],
   "source": [
    "poop = 0\n",
    "for k in d.keys():\n",
    "    print(k, len(d[k]))\n",
    "    poop += len(d[k])"
   ]
  },
  {
   "cell_type": "code",
   "execution_count": 12,
   "metadata": {},
   "outputs": [
    {
     "data": {
      "text/plain": [
       "1001402"
      ]
     },
     "execution_count": 12,
     "metadata": {},
     "output_type": "execute_result"
    }
   ],
   "source": [
    "poop"
   ]
  },
  {
   "cell_type": "code",
   "execution_count": 13,
   "metadata": {},
   "outputs": [],
   "source": [
    "state222 = np.array([ 2,  3, 10, 12, 13, 16, 19, 23, 24, 28], dtype='int8')"
   ]
  },
  {
   "cell_type": "code",
   "execution_count": 14,
   "metadata": {},
   "outputs": [
    {
     "data": {
      "text/plain": [
       "array([ 2,  3, 10, 12, 13, 16, 19, 23, 24, 28], dtype=int8)"
      ]
     },
     "execution_count": 14,
     "metadata": {},
     "output_type": "execute_result"
    }
   ],
   "source": [
    "state222"
   ]
  },
  {
   "cell_type": "code",
   "execution_count": 17,
   "metadata": {},
   "outputs": [],
   "source": [
    "@numba.njit\n",
    "def indexOf(state, allStatesSector, useNumba=False):\n",
    "    N = len(allStatesSector)\n",
    "    \n",
    "    assert np.sum(state) == np.sum(allStatesSector[0])\n",
    "    \n",
    "    l = 0\n",
    "    r = N\n",
    "    GreaterFn = isGreaterNumba #if useNumba else isGreater\n",
    "    #binary search\n",
    "    while r-l > 1:\n",
    "        mid = (l+r)//2\n",
    "        if GreaterFn(allStatesSector[mid], state):\n",
    "            r = mid\n",
    "        else:\n",
    "            l = mid\n",
    "        \n",
    "    return l\n",
    "\n",
    "@numba.njit\n",
    "def isGreaterNumba(s1, s2):\n",
    "    \"\"\"\n",
    "    return True if s1 comes 'lexicographically'\n",
    "    after s2\n",
    "    \"\"\"\n",
    "    assert len(s1) == len(s2)\n",
    "    N = len(s1)\n",
    "    arr = range(len(s1))\n",
    "    for c in arr:\n",
    "        if s1[N-c-1] > s2[N-c-1]:\n",
    "            return True\n",
    "        elif s1[N-c-1] < s2[N-c-1]:\n",
    "            return False\n",
    "    return False\n",
    "\n",
    "def isGreater(s1, s2):\n",
    "    \"\"\"\n",
    "    return True if s1 comes 'lexicographically'\n",
    "    after s2\n",
    "    \"\"\"\n",
    "    assert len(s1) == len(s2)\n",
    "    N = len(s1)\n",
    "    arr = range(len(s1))\n",
    "    for c in arr:\n",
    "        if s1[N-c-1] > s2[N-c-1]:\n",
    "            return True\n",
    "        elif s1[N-c-1] < s2[N-c-1]:\n",
    "            return False\n",
    "    return False"
   ]
  },
  {
   "cell_type": "code",
   "execution_count": 27,
   "metadata": {},
   "outputs": [
    {
     "data": {
      "text/plain": [
       "array([ 5,  6, 13, 15, 16, 19, 22, 26, 27, 31], dtype=int8)"
      ]
     },
     "execution_count": 27,
     "metadata": {},
     "output_type": "execute_result"
    }
   ],
   "source": [
    "state222+3"
   ]
  },
  {
   "cell_type": "code",
   "execution_count": 18,
   "metadata": {},
   "outputs": [],
   "source": [
    "import time"
   ]
  },
  {
   "cell_type": "code",
   "execution_count": 22,
   "metadata": {},
   "outputs": [],
   "source": [
    "randints = np.random.randint(low=0, high=len(d[150]), size=1000)\n",
    "t1 = time.time()\n",
    "for ind in randints:\n",
    "    _ = indexOf(d[150][ind], d[150], True)\n",
    "t2 = time.time()\n",
    "for ind in randints:\n",
    "    _ = indexOf(d[150][ind], d[150], False)\n",
    "t3 = time.time()"
   ]
  },
  {
   "cell_type": "code",
   "execution_count": 23,
   "metadata": {},
   "outputs": [
    {
     "name": "stdout",
     "output_type": "stream",
     "text": [
      "0.002004861831665039 0.001728057861328125\n"
     ]
    }
   ],
   "source": [
    "print(t2-t1, t3-t2)"
   ]
  },
  {
   "cell_type": "code",
   "execution_count": 370,
   "metadata": {},
   "outputs": [
    {
     "data": {
      "text/plain": [
       "7"
      ]
     },
     "execution_count": 370,
     "metadata": {},
     "output_type": "execute_result"
    }
   ],
   "source": [
    "indexOf(d[150][7], d[150], False)"
   ]
  },
  {
   "cell_type": "code",
   "execution_count": 25,
   "metadata": {},
   "outputs": [],
   "source": [
    "import hilbert"
   ]
  },
  {
   "cell_type": "code",
   "execution_count": 5,
   "metadata": {},
   "outputs": [],
   "source": [
    "H1 = hilbert.Hilbert()"
   ]
  },
  {
   "cell_type": "code",
   "execution_count": 24,
   "metadata": {},
   "outputs": [
    {
     "ename": "TypingError",
     "evalue": "Failed in nopython mode pipeline (step: nopython frontend)\nUntyped global name 'self': cannot determine Numba type of <class 'numba.ir.UndefinedType'>\n\nFile \"hilbert.py\", line 96:\n    def indexOf(state, allStatesSector):\n        <source elided>\n            mid = (l+r)//2\n            if self.isGreater(allStatesSector[mid], state):\n            ^\n",
     "output_type": "error",
     "traceback": [
      "\u001b[0;31m---------------------------------------------------------------------------\u001b[0m",
      "\u001b[0;31mTypingError\u001b[0m                               Traceback (most recent call last)",
      "\u001b[0;32m<ipython-input-24-efeca1a2cd55>\u001b[0m in \u001b[0;36m<module>\u001b[0;34m\u001b[0m\n\u001b[0;32m----> 1\u001b[0;31m \u001b[0mH1\u001b[0m\u001b[0;34m.\u001b[0m\u001b[0mindexOf\u001b[0m\u001b[0;34m(\u001b[0m\u001b[0md\u001b[0m\u001b[0;34m[\u001b[0m\u001b[0;36m150\u001b[0m\u001b[0;34m]\u001b[0m\u001b[0;34m[\u001b[0m\u001b[0;36m79\u001b[0m\u001b[0;34m]\u001b[0m\u001b[0;34m,\u001b[0m \u001b[0md\u001b[0m\u001b[0;34m[\u001b[0m\u001b[0;36m150\u001b[0m\u001b[0;34m]\u001b[0m\u001b[0;34m)\u001b[0m\u001b[0;34m\u001b[0m\u001b[0;34m\u001b[0m\u001b[0m\n\u001b[0m",
      "\u001b[0;32m~/miniconda3/lib/python3.7/site-packages/numba/dispatcher.py\u001b[0m in \u001b[0;36m_compile_for_args\u001b[0;34m(self, *args, **kws)\u001b[0m\n\u001b[1;32m    399\u001b[0m                 \u001b[0me\u001b[0m\u001b[0;34m.\u001b[0m\u001b[0mpatch_message\u001b[0m\u001b[0;34m(\u001b[0m\u001b[0mmsg\u001b[0m\u001b[0;34m)\u001b[0m\u001b[0;34m\u001b[0m\u001b[0;34m\u001b[0m\u001b[0m\n\u001b[1;32m    400\u001b[0m \u001b[0;34m\u001b[0m\u001b[0m\n\u001b[0;32m--> 401\u001b[0;31m             \u001b[0merror_rewrite\u001b[0m\u001b[0;34m(\u001b[0m\u001b[0me\u001b[0m\u001b[0;34m,\u001b[0m \u001b[0;34m'typing'\u001b[0m\u001b[0;34m)\u001b[0m\u001b[0;34m\u001b[0m\u001b[0;34m\u001b[0m\u001b[0m\n\u001b[0m\u001b[1;32m    402\u001b[0m         \u001b[0;32mexcept\u001b[0m \u001b[0merrors\u001b[0m\u001b[0;34m.\u001b[0m\u001b[0mUnsupportedError\u001b[0m \u001b[0;32mas\u001b[0m \u001b[0me\u001b[0m\u001b[0;34m:\u001b[0m\u001b[0;34m\u001b[0m\u001b[0;34m\u001b[0m\u001b[0m\n\u001b[1;32m    403\u001b[0m             \u001b[0;31m# Something unsupported is present in the user code, add help info\u001b[0m\u001b[0;34m\u001b[0m\u001b[0;34m\u001b[0m\u001b[0;34m\u001b[0m\u001b[0m\n",
      "\u001b[0;32m~/miniconda3/lib/python3.7/site-packages/numba/dispatcher.py\u001b[0m in \u001b[0;36merror_rewrite\u001b[0;34m(e, issue_type)\u001b[0m\n\u001b[1;32m    342\u001b[0m                 \u001b[0;32mraise\u001b[0m \u001b[0me\u001b[0m\u001b[0;34m\u001b[0m\u001b[0;34m\u001b[0m\u001b[0m\n\u001b[1;32m    343\u001b[0m             \u001b[0;32melse\u001b[0m\u001b[0;34m:\u001b[0m\u001b[0;34m\u001b[0m\u001b[0;34m\u001b[0m\u001b[0m\n\u001b[0;32m--> 344\u001b[0;31m                 \u001b[0mreraise\u001b[0m\u001b[0;34m(\u001b[0m\u001b[0mtype\u001b[0m\u001b[0;34m(\u001b[0m\u001b[0me\u001b[0m\u001b[0;34m)\u001b[0m\u001b[0;34m,\u001b[0m \u001b[0me\u001b[0m\u001b[0;34m,\u001b[0m \u001b[0;32mNone\u001b[0m\u001b[0;34m)\u001b[0m\u001b[0;34m\u001b[0m\u001b[0;34m\u001b[0m\u001b[0m\n\u001b[0m\u001b[1;32m    345\u001b[0m \u001b[0;34m\u001b[0m\u001b[0m\n\u001b[1;32m    346\u001b[0m         \u001b[0margtypes\u001b[0m \u001b[0;34m=\u001b[0m \u001b[0;34m[\u001b[0m\u001b[0;34m]\u001b[0m\u001b[0;34m\u001b[0m\u001b[0;34m\u001b[0m\u001b[0m\n",
      "\u001b[0;32m~/miniconda3/lib/python3.7/site-packages/numba/six.py\u001b[0m in \u001b[0;36mreraise\u001b[0;34m(tp, value, tb)\u001b[0m\n\u001b[1;32m    666\u001b[0m             \u001b[0mvalue\u001b[0m \u001b[0;34m=\u001b[0m \u001b[0mtp\u001b[0m\u001b[0;34m(\u001b[0m\u001b[0;34m)\u001b[0m\u001b[0;34m\u001b[0m\u001b[0;34m\u001b[0m\u001b[0m\n\u001b[1;32m    667\u001b[0m         \u001b[0;32mif\u001b[0m \u001b[0mvalue\u001b[0m\u001b[0;34m.\u001b[0m\u001b[0m__traceback__\u001b[0m \u001b[0;32mis\u001b[0m \u001b[0;32mnot\u001b[0m \u001b[0mtb\u001b[0m\u001b[0;34m:\u001b[0m\u001b[0;34m\u001b[0m\u001b[0;34m\u001b[0m\u001b[0m\n\u001b[0;32m--> 668\u001b[0;31m             \u001b[0;32mraise\u001b[0m \u001b[0mvalue\u001b[0m\u001b[0;34m.\u001b[0m\u001b[0mwith_traceback\u001b[0m\u001b[0;34m(\u001b[0m\u001b[0mtb\u001b[0m\u001b[0;34m)\u001b[0m\u001b[0;34m\u001b[0m\u001b[0;34m\u001b[0m\u001b[0m\n\u001b[0m\u001b[1;32m    669\u001b[0m         \u001b[0;32mraise\u001b[0m \u001b[0mvalue\u001b[0m\u001b[0;34m\u001b[0m\u001b[0;34m\u001b[0m\u001b[0m\n\u001b[1;32m    670\u001b[0m \u001b[0;34m\u001b[0m\u001b[0m\n",
      "\u001b[0;31mTypingError\u001b[0m: Failed in nopython mode pipeline (step: nopython frontend)\nUntyped global name 'self': cannot determine Numba type of <class 'numba.ir.UndefinedType'>\n\nFile \"hilbert.py\", line 96:\n    def indexOf(state, allStatesSector):\n        <source elided>\n            mid = (l+r)//2\n            if self.isGreater(allStatesSector[mid], state):\n            ^\n"
     ]
    }
   ],
   "source": [
    "H1.indexOf(d[150][79], d[150])"
   ]
  },
  {
   "cell_type": "code",
   "execution_count": 28,
   "metadata": {},
   "outputs": [],
   "source": [
    "poop = {'a': 33, 'b': 14}"
   ]
  },
  {
   "cell_type": "code",
   "execution_count": 29,
   "metadata": {},
   "outputs": [
    {
     "data": {
      "text/plain": [
       "{'a': 33, 'b': 14}"
      ]
     },
     "execution_count": 29,
     "metadata": {},
     "output_type": "execute_result"
    }
   ],
   "source": [
    "poop"
   ]
  },
  {
   "cell_type": "code",
   "execution_count": 30,
   "metadata": {},
   "outputs": [
    {
     "data": {
      "text/plain": [
       "['a', 'b']"
      ]
     },
     "execution_count": 30,
     "metadata": {},
     "output_type": "execute_result"
    }
   ],
   "source": [
    "list(poop)"
   ]
  },
  {
   "cell_type": "code",
   "execution_count": 34,
   "metadata": {},
   "outputs": [
    {
     "data": {
      "text/plain": [
       "[33, 14]"
      ]
     },
     "execution_count": 34,
     "metadata": {},
     "output_type": "execute_result"
    }
   ],
   "source": [
    "list(poop.values())"
   ]
  },
  {
   "cell_type": "code",
   "execution_count": 169,
   "metadata": {},
   "outputs": [],
   "source": [
    "@numba.njit\n",
    "def poop(a, b):\n",
    "    if a == 0:\n",
    "        def fn(x):\n",
    "            return x*b\n",
    "        return fn\n",
    "    else:\n",
    "        def fn(x):\n",
    "            return x+b\n",
    "        return fn\n",
    "    "
   ]
  },
  {
   "cell_type": "code",
   "execution_count": 170,
   "metadata": {},
   "outputs": [
    {
     "ename": "TypingError",
     "evalue": "Failed in nopython mode pipeline (step: convert make_function into JIT functions)\nCannot capture the non-constant value associated with variable 'b' in a function that will escape.\n\nFile \"<ipython-input-169-9308d9f755b4>\", line 4:\n    if a == 0:\n        def fn(x):\n        ^\n",
     "output_type": "error",
     "traceback": [
      "\u001b[0;31m---------------------------------------------------------------------------\u001b[0m",
      "\u001b[0;31mTypingError\u001b[0m                               Traceback (most recent call last)",
      "\u001b[0;32m<ipython-input-170-fa7f1ef08753>\u001b[0m in \u001b[0;36m<module>\u001b[0;34m\u001b[0m\n\u001b[0;32m----> 1\u001b[0;31m \u001b[0mf\u001b[0m \u001b[0;34m=\u001b[0m \u001b[0mpoop\u001b[0m\u001b[0;34m(\u001b[0m\u001b[0;36m1\u001b[0m\u001b[0;34m,\u001b[0m \u001b[0;36m4\u001b[0m\u001b[0;34m)\u001b[0m\u001b[0;34m\u001b[0m\u001b[0;34m\u001b[0m\u001b[0m\n\u001b[0m",
      "\u001b[0;32m~/miniconda3/lib/python3.7/site-packages/numba/dispatcher.py\u001b[0m in \u001b[0;36m_compile_for_args\u001b[0;34m(self, *args, **kws)\u001b[0m\n\u001b[1;32m    399\u001b[0m                 \u001b[0me\u001b[0m\u001b[0;34m.\u001b[0m\u001b[0mpatch_message\u001b[0m\u001b[0;34m(\u001b[0m\u001b[0mmsg\u001b[0m\u001b[0;34m)\u001b[0m\u001b[0;34m\u001b[0m\u001b[0;34m\u001b[0m\u001b[0m\n\u001b[1;32m    400\u001b[0m \u001b[0;34m\u001b[0m\u001b[0m\n\u001b[0;32m--> 401\u001b[0;31m             \u001b[0merror_rewrite\u001b[0m\u001b[0;34m(\u001b[0m\u001b[0me\u001b[0m\u001b[0;34m,\u001b[0m \u001b[0;34m'typing'\u001b[0m\u001b[0;34m)\u001b[0m\u001b[0;34m\u001b[0m\u001b[0;34m\u001b[0m\u001b[0m\n\u001b[0m\u001b[1;32m    402\u001b[0m         \u001b[0;32mexcept\u001b[0m \u001b[0merrors\u001b[0m\u001b[0;34m.\u001b[0m\u001b[0mUnsupportedError\u001b[0m \u001b[0;32mas\u001b[0m \u001b[0me\u001b[0m\u001b[0;34m:\u001b[0m\u001b[0;34m\u001b[0m\u001b[0;34m\u001b[0m\u001b[0m\n\u001b[1;32m    403\u001b[0m             \u001b[0;31m# Something unsupported is present in the user code, add help info\u001b[0m\u001b[0;34m\u001b[0m\u001b[0;34m\u001b[0m\u001b[0;34m\u001b[0m\u001b[0m\n",
      "\u001b[0;32m~/miniconda3/lib/python3.7/site-packages/numba/dispatcher.py\u001b[0m in \u001b[0;36merror_rewrite\u001b[0;34m(e, issue_type)\u001b[0m\n\u001b[1;32m    342\u001b[0m                 \u001b[0;32mraise\u001b[0m \u001b[0me\u001b[0m\u001b[0;34m\u001b[0m\u001b[0;34m\u001b[0m\u001b[0m\n\u001b[1;32m    343\u001b[0m             \u001b[0;32melse\u001b[0m\u001b[0;34m:\u001b[0m\u001b[0;34m\u001b[0m\u001b[0;34m\u001b[0m\u001b[0m\n\u001b[0;32m--> 344\u001b[0;31m                 \u001b[0mreraise\u001b[0m\u001b[0;34m(\u001b[0m\u001b[0mtype\u001b[0m\u001b[0;34m(\u001b[0m\u001b[0me\u001b[0m\u001b[0;34m)\u001b[0m\u001b[0;34m,\u001b[0m \u001b[0me\u001b[0m\u001b[0;34m,\u001b[0m \u001b[0;32mNone\u001b[0m\u001b[0;34m)\u001b[0m\u001b[0;34m\u001b[0m\u001b[0;34m\u001b[0m\u001b[0m\n\u001b[0m\u001b[1;32m    345\u001b[0m \u001b[0;34m\u001b[0m\u001b[0m\n\u001b[1;32m    346\u001b[0m         \u001b[0margtypes\u001b[0m \u001b[0;34m=\u001b[0m \u001b[0;34m[\u001b[0m\u001b[0;34m]\u001b[0m\u001b[0;34m\u001b[0m\u001b[0;34m\u001b[0m\u001b[0m\n",
      "\u001b[0;32m~/miniconda3/lib/python3.7/site-packages/numba/six.py\u001b[0m in \u001b[0;36mreraise\u001b[0;34m(tp, value, tb)\u001b[0m\n\u001b[1;32m    666\u001b[0m             \u001b[0mvalue\u001b[0m \u001b[0;34m=\u001b[0m \u001b[0mtp\u001b[0m\u001b[0;34m(\u001b[0m\u001b[0;34m)\u001b[0m\u001b[0;34m\u001b[0m\u001b[0;34m\u001b[0m\u001b[0m\n\u001b[1;32m    667\u001b[0m         \u001b[0;32mif\u001b[0m \u001b[0mvalue\u001b[0m\u001b[0;34m.\u001b[0m\u001b[0m__traceback__\u001b[0m \u001b[0;32mis\u001b[0m \u001b[0;32mnot\u001b[0m \u001b[0mtb\u001b[0m\u001b[0;34m:\u001b[0m\u001b[0;34m\u001b[0m\u001b[0;34m\u001b[0m\u001b[0m\n\u001b[0;32m--> 668\u001b[0;31m             \u001b[0;32mraise\u001b[0m \u001b[0mvalue\u001b[0m\u001b[0;34m.\u001b[0m\u001b[0mwith_traceback\u001b[0m\u001b[0;34m(\u001b[0m\u001b[0mtb\u001b[0m\u001b[0;34m)\u001b[0m\u001b[0;34m\u001b[0m\u001b[0;34m\u001b[0m\u001b[0m\n\u001b[0m\u001b[1;32m    669\u001b[0m         \u001b[0;32mraise\u001b[0m \u001b[0mvalue\u001b[0m\u001b[0;34m\u001b[0m\u001b[0;34m\u001b[0m\u001b[0m\n\u001b[1;32m    670\u001b[0m \u001b[0;34m\u001b[0m\u001b[0m\n",
      "\u001b[0;31mTypingError\u001b[0m: Failed in nopython mode pipeline (step: convert make_function into JIT functions)\nCannot capture the non-constant value associated with variable 'b' in a function that will escape.\n\nFile \"<ipython-input-169-9308d9f755b4>\", line 4:\n    if a == 0:\n        def fn(x):\n        ^\n"
     ]
    }
   ],
   "source": [
    "f = poop(1, 4)"
   ]
  },
  {
   "cell_type": "code",
   "execution_count": 168,
   "metadata": {},
   "outputs": [
    {
     "data": {
      "text/plain": [
       "21"
      ]
     },
     "execution_count": 168,
     "metadata": {},
     "output_type": "execute_result"
    }
   ],
   "source": [
    "f(17)"
   ]
  },
  {
   "cell_type": "code",
   "execution_count": 151,
   "metadata": {},
   "outputs": [],
   "source": [
    "arrs = [np.random.randn(4), np.random.randn(8)]"
   ]
  },
  {
   "cell_type": "code",
   "execution_count": 156,
   "metadata": {},
   "outputs": [
    {
     "data": {
      "text/plain": [
       "4"
      ]
     },
     "execution_count": 156,
     "metadata": {},
     "output_type": "execute_result"
    }
   ],
   "source": [
    "poop(np.random.randn(4), 8)"
   ]
  },
  {
   "cell_type": "code",
   "execution_count": 31,
   "metadata": {},
   "outputs": [],
   "source": [
    "def getMatVec(Nphi, Ne, T2, hilb):\n",
    "    # hilbs must be a list of arrays, corresponding to all the sub-sectors in the\n",
    "    # Hilbert space\n",
    "    NH = len(hilb) # size of Hilbert space\n",
    "    \n",
    "    def fn(v):\n",
    "        vOut = np.zeros(NH)\n",
    "        \n",
    "        for cHilb in range(NH):\n",
    "            eOcc = hilb[cHilb] # occupied electrons\n",
    "            \n",
    "            #find pairs\n",
    "            for p1 in range(Ne):\n",
    "                for p2 in range(p1+1, Ne):\n",
    "                    c1 = eOcc[p1] # orbital of first occupied electron\n",
    "                    c2 = eOcc[p2] # orbital of second occupied electron\n",
    "                    \n",
    "                    # find new pairs\n",
    "                    for cx in range(1, Nphi):\n",
    "                        c1new = (c1+cx)%Nphi\n",
    "                        c2new = (c2-cx)%Nphi\n",
    "                        if c1new >= c2new:\n",
    "                            continue\n",
    "                        if c1new in eOcc or c2new in eOcc:\n",
    "                            continue\n",
    "                        else:\n",
    "                            # at this point, we are sure that c2new > c1new,\n",
    "                            # and that they are both not in eOcc\n",
    "                            \n",
    "                            # populate eOccNew\n",
    "                            eOccNew = np.zeros(Ne, dtype='int8') # array of length Ne\n",
    "                            cNeOld = 0\n",
    "                            state = 0\n",
    "                            for cNe in range(Ne):\n",
    "                                if cNeOld == p1 or cNeOld == p2:\n",
    "                                    cNeOld += 1\n",
    "                                \n",
    "                                if state == 0:\n",
    "                                    if eOcc[cNeOld] < c1new:\n",
    "                                        eOccNew[cNe] = eOcc[cNeOld]\n",
    "                                        cNeOld += 1\n",
    "                                    else:\n",
    "                                        eOccNew[cNe] = c1new\n",
    "                                        p1new = cNe\n",
    "                                        state = 1\n",
    "                                \n",
    "                                elif state == 1:\n",
    "                                    if eOcc[cNeOld] < c2new:\n",
    "                                        eOccNew[cNe] = eOcc[cNeOld]\n",
    "                                        cNeOld += 1\n",
    "                                    else:\n",
    "                                        eOccNew[cNe] = c2new\n",
    "                                        p2new = cNe\n",
    "                                        state = 2\n",
    "                                \n",
    "                                else:\n",
    "                                    eOccNew[cNe] = eOcc[cNeOld]\n",
    "                                    cNeOld += 1\n",
    "                                \n",
    "                            \n",
    "                            # find index of eOccNew in hilb, again binary search\n",
    "                            indNew = indexOf(eOccNew, hilb)\n",
    "                            \n",
    "                            \n",
    "                            matrixel = 0\n",
    "                            # add the four terms, with correct signs\n",
    "                            \n",
    "                            # update vOut\n",
    "                            vOut[indNew] += matrixel\n",
    "                            \n",
    "            return vOut\n",
    "    return fn"
   ]
  },
  {
   "cell_type": "code",
   "execution_count": 25,
   "metadata": {},
   "outputs": [],
   "source": [
    "def doSmt(p1, p2, eOcc, c1new, c2new, Ne):\n",
    "    c1 = eOcc[p1]\n",
    "    c2 = eOcc[p2]\n",
    "\n",
    "    eOccNew = np.zeros(Ne, dtype='int8') # array of length Ne\n",
    "    cNeOld = 0\n",
    "    state = 0\n",
    "    for cNe in range(Ne):\n",
    "        if cNeOld == p1 or cNeOld == p2:\n",
    "            cNeOld += 1\n",
    "\n",
    "        if state == 0:\n",
    "            if eOcc[cNeOld] < c1new:\n",
    "                eOccNew[cNe] = eOcc[cNeOld]\n",
    "                cNeOld += 1\n",
    "            else:\n",
    "                eOccNew[cNe] = c1new\n",
    "                p1new = cNe\n",
    "                state = 1\n",
    "\n",
    "        elif state == 1:\n",
    "            if eOcc[cNeOld] < c2new:\n",
    "                eOccNew[cNe] = eOcc[cNeOld]\n",
    "                cNeOld += 1\n",
    "            else:\n",
    "                eOccNew[cNe] = c2new\n",
    "                p2new = cNe\n",
    "                state = 2\n",
    "\n",
    "        else:\n",
    "            eOccNew[cNe] = eOcc[cNeOld]\n",
    "            cNeOld += 1\n",
    "    \n",
    "    return (p1new, p2new, eOccNew) "
   ]
  },
  {
   "cell_type": "code",
   "execution_count": 30,
   "metadata": {},
   "outputs": [
    {
     "data": {
      "text/plain": [
       "(1, 6, array([ 0,  2,  4,  7, 11, 12, 13, 21, 24, 29, 36, 37, 38], dtype=int8))"
      ]
     },
     "execution_count": 30,
     "metadata": {},
     "output_type": "execute_result"
    }
   ],
   "source": [
    "eOcc = np.array([0, 4, 5, 7, 10, 11, 12,\n",
    "                 21, 24, 29, 36, 37, 38], dtype='int8')\n",
    "p1 = 2; p2 = 4\n",
    "doSmt(p1, p2, eOcc, 2, 13, 13)"
   ]
  },
  {
   "cell_type": "code",
   "execution_count": null,
   "metadata": {},
   "outputs": [],
   "source": []
  },
  {
   "cell_type": "markdown",
   "metadata": {},
   "source": [
    "## NUMBA EXPERIMENTS"
   ]
  },
  {
   "cell_type": "code",
   "execution_count": 59,
   "metadata": {},
   "outputs": [],
   "source": [
    "@numba.jit(numba.int8[:](numba.int8[:], numba.int8[:]))\n",
    "def f(x, y):\n",
    "    # A somewhat trivial example\n",
    "    return x + y"
   ]
  },
  {
   "cell_type": "code",
   "execution_count": 48,
   "metadata": {},
   "outputs": [
    {
     "ename": "TypeError",
     "evalue": "No matching definition for argument type(s) int64, int64",
     "output_type": "error",
     "traceback": [
      "\u001b[0;31m---------------------------------------------------------------------------\u001b[0m",
      "\u001b[0;31mTypeError\u001b[0m                                 Traceback (most recent call last)",
      "\u001b[0;32m<ipython-input-48-12c81085c382>\u001b[0m in \u001b[0;36m<module>\u001b[0;34m\u001b[0m\n\u001b[0;32m----> 1\u001b[0;31m \u001b[0mf\u001b[0m\u001b[0;34m(\u001b[0m\u001b[0;36m4\u001b[0m\u001b[0;34m,\u001b[0m\u001b[0;36m4\u001b[0m\u001b[0;34m)\u001b[0m\u001b[0;34m\u001b[0m\u001b[0;34m\u001b[0m\u001b[0m\n\u001b[0m",
      "\u001b[0;32m~/miniconda3/lib/python3.7/site-packages/numba/dispatcher.py\u001b[0m in \u001b[0;36m_explain_matching_error\u001b[0;34m(self, *args, **kws)\u001b[0m\n\u001b[1;32m    572\u001b[0m         msg = (\"No matching definition for argument type(s) %s\"\n\u001b[1;32m    573\u001b[0m                % ', '.join(map(str, args)))\n\u001b[0;32m--> 574\u001b[0;31m         \u001b[0;32mraise\u001b[0m \u001b[0mTypeError\u001b[0m\u001b[0;34m(\u001b[0m\u001b[0mmsg\u001b[0m\u001b[0;34m)\u001b[0m\u001b[0;34m\u001b[0m\u001b[0;34m\u001b[0m\u001b[0m\n\u001b[0m\u001b[1;32m    575\u001b[0m \u001b[0;34m\u001b[0m\u001b[0m\n\u001b[1;32m    576\u001b[0m     \u001b[0;32mdef\u001b[0m \u001b[0m_search_new_conversions\u001b[0m\u001b[0;34m(\u001b[0m\u001b[0mself\u001b[0m\u001b[0;34m,\u001b[0m \u001b[0;34m*\u001b[0m\u001b[0margs\u001b[0m\u001b[0;34m,\u001b[0m \u001b[0;34m**\u001b[0m\u001b[0mkws\u001b[0m\u001b[0;34m)\u001b[0m\u001b[0;34m:\u001b[0m\u001b[0;34m\u001b[0m\u001b[0;34m\u001b[0m\u001b[0m\n",
      "\u001b[0;31mTypeError\u001b[0m: No matching definition for argument type(s) int64, int64"
     ]
    }
   ],
   "source": [
    "f(4,4)"
   ]
  },
  {
   "cell_type": "code",
   "execution_count": 60,
   "metadata": {},
   "outputs": [
    {
     "data": {
      "text/plain": [
       "array([0, 1, 2, 3], dtype=int8)"
      ]
     },
     "execution_count": 60,
     "metadata": {},
     "output_type": "execute_result"
    }
   ],
   "source": [
    "f(np.arange(4, dtype='int8'), np.zeros(4, dtype='int8'))"
   ]
  },
  {
   "cell_type": "code",
   "execution_count": 15,
   "metadata": {},
   "outputs": [],
   "source": [
    "x_arr = np.r_[0:3*np.pi:1000j]+1e-3"
   ]
  },
  {
   "cell_type": "code",
   "execution_count": 21,
   "metadata": {},
   "outputs": [
    {
     "data": {
      "image/png": "[encoded data removed]",
      "text/plain": [
       "<Figure size 432x288 with 1 Axes>"
      ]
     },
     "metadata": {
      "needs_background": "light"
     },
     "output_type": "display_data"
    }
   ],
   "source": [
    "f, ax = plt.subplots()\n",
    "# ax.plot(x_arr, scipy.special.jv(0, x_arr))\n",
    "ax.plot(x_arr, V(x_arr, n=1, x=3))\n",
    "ax.plot(x_arr, V(x_arr, n=1, x=10))\n",
    "ax.plot(x_arr, V(x_arr, n=1, x=np.inf))\n",
    "\n",
    "ax.plot(x_arr, V(x_arr, n=0.5, x=3))\n",
    "ax.plot(x_arr, V(x_arr, n=0.5, x=10))\n",
    "ax.plot(x_arr, V(x_arr, n=0.5, x=np.inf))\n",
    "\n",
    "ax.set_yscale('log')\n",
    "def V(r, n=1, x=10):\n",
    "    return 1/r**n * np.exp(-0.5 * (r/x)**2)"
   ]
  },
  {
   "cell_type": "code",
   "execution_count": 26,
   "metadata": {},
   "outputs": [
    {
     "data": {
      "text/plain": [
       "((0.9183048931407003, 1.0195232359907495e-14),\n",
       " (0.08681260740522834, 1.1868743592156762e-08))"
      ]
     },
     "execution_count": 26,
     "metadata": {},
     "output_type": "execute_result"
    }
   ],
   "source": [
    "def VpowerLaw(r, n=1, x=10):\n",
    "    return 1/r**n * np.exp(-0.5 * (r/x)**2)\n",
    "\n",
    "def hmm(r, k, **kwargs):\n",
    "    return r * scipy.special.jv(0, k*r) * VpowerLaw(r, **kwargs)\n",
    "\n",
    "k_arr = np.r_[0:17] / 16\n",
    "\n",
    "intOut = np.zeros((len(k_arr), 2))\n",
    "for k in k_arr:\n",
    "    [scipy.integrate.quad(hmm, 0, 1, args=(k)),\n",
    "     scipy.integrate.quad(hmm, 1, np.inf, args=(k))]"
   ]
  },
  {
   "cell_type": "code",
   "execution_count": 123,
   "metadata": {},
   "outputs": [],
   "source": [
    "# @numba.njit(numba.float64[:](numba.float64[:], numba.float64, numba.float64))\n",
    "def VFourier(k, n=1, x=np.inf):\n",
    "    \"\"\"\n",
    "    obtain V(k)\n",
    "    \n",
    "    inputs:\n",
    "    -------\n",
    "    k     : float, absolute value of momentum\n",
    "    n     : float, power law fall-off\n",
    "    x     : float, Gaussian envelope length scale\n",
    "    \n",
    "    outputs:\n",
    "    --------\n",
    "    float : V(k) at continuum k \n",
    "    \"\"\"\n",
    "    \n",
    "    # if only Gaussian\n",
    "    if n == 0:\n",
    "        return 2 * np.pi * x**2 * np.exp(-x**2 * k**2)\n",
    "    else:\n",
    "        # if Coulomb\n",
    "        if n == 1 and x is np.inf:\n",
    "            return 2*np.pi/k\n",
    "        else:\n",
    "#             @numba.njit(numba.float64(numba.float64, numba.float64, numba.float64, numba.float64))\n",
    "            def integrand(r, k1, n1, x1):\n",
    "                return r * scipy.special.jv(0, k1*r) * 1/r**n1 * np.exp(-0.5 * (r/x1)**2)\n",
    "            \n",
    "            ret = np.zeros_like(k_arr)\n",
    "            N  = len(ret)\n",
    "            \n",
    "            for i in range(N):\n",
    "                val1, _ = scipy.integrate.quad(integrand, 0, 1, args=(k_arr[i], n, x), limit=1000)\n",
    "                val2, _ = scipy.integrate.quad(integrand, 1, np.inf, args=(k_arr[i],n, x), limit=1000)\n",
    "                ret[i] = 2 * np.pi * (val1 + val2)\n",
    "            \n",
    "            return ret"
   ]
  },
  {
   "cell_type": "code",
   "execution_count": 124,
   "metadata": {},
   "outputs": [],
   "source": [
    "# @numba.njit(numba.float64(numba.float64, numba.float64, numba.float64, numba.float64))\n",
    "def integrand(r, k1, n1, x1):\n",
    "    return r * scipy.special.jv(0, k1*r) * 1/r**n1 * np.exp(-0.5 * (r/x1)**2)"
   ]
  },
  {
   "cell_type": "code",
   "execution_count": 125,
   "metadata": {},
   "outputs": [
    {
     "name": "stderr",
     "output_type": "stream",
     "text": [
      "/home/ak20/miniconda3/lib/python3.7/site-packages/ipykernel_launcher.py:27: RuntimeWarning: underflow encountered in exp\n"
     ]
    },
    {
     "data": {
      "text/plain": [
       "array([62.29105882, 36.67766074, 22.63470462, 16.30099759, 12.84558277,\n",
       "       10.62779935,  9.07218816,  7.91765394,  7.0256754 ,  6.31533951,\n",
       "        5.73604473,  5.25446093,  4.84771418,  4.49957277,  4.19819348,\n",
       "        3.93472926,  3.70243632,  3.49608322,  3.31154877,  3.14554197,\n",
       "        2.99540276,  2.85895756,  2.73441283,  2.62027538,  2.51529203,\n",
       "        2.41840315,  2.32870672,  2.24543   ,  2.16790721,  2.09556158,\n",
       "        2.02789099,  1.96445626,  1.90487155,  1.84879655,  1.79592989,\n",
       "        1.74600378,  1.69877943,  1.65404324,  1.61160355,  1.57128789,\n",
       "        1.53294066,  1.49642108,  1.4616015 ,  1.42836589,  1.39660854,\n",
       "        1.36623295,  1.33715084,  1.30928129,  1.28255   ,  1.25688862,\n",
       "        1.23223416,  1.20852848,  1.18571785,  1.1637525 ,  1.1425863 ,\n",
       "        1.12217639,  1.10248297,  1.08346893,  1.06509973,  1.04734309,\n",
       "        1.03016887,  1.01354888,  0.99745671,  0.98186761,  0.96675835,\n",
       "        0.9521071 ,  0.93789336,  0.9240978 ,  0.91070224,  0.89768954,\n",
       "        0.88504349,  0.87274883,  0.86079111,  0.84915665,  0.83783254,\n",
       "        0.8268065 ,  0.81606693,  0.8056028 ,  0.79540365,  0.78545954,\n",
       "        0.77576102,  0.7662991 ,  0.75706523,  0.74805126,  0.73924944,\n",
       "        0.73065235,  0.72225292,  0.71404444,  0.70602045,  0.69817481,\n",
       "        0.69050162,  0.68299528,  0.6756504 ,  0.66846182,  0.66142459,\n",
       "        0.654534  ,  0.6477855 ,  0.64117474,  0.63469757,  0.62834995,\n",
       "        0.62212805,  0.61602817,  0.61004675,  0.60418036,  0.59842574,\n",
       "        0.59277971,  0.58723923,  0.58180136,  0.57646328,  0.57122227,\n",
       "        0.56607571,  0.56102105,  0.55605587,  0.55117781,  0.5463846 ,\n",
       "        0.54167404,  0.537044  ,  0.53249245,  0.52801741,  0.52361696,\n",
       "        0.51928925,  0.51503249,  0.51084496,  0.50672497,  0.50267091,\n",
       "        0.49868121,  0.49475434,  0.49088883,  0.48708327,  0.48333624,\n",
       "        0.47964644,  0.47601255,  0.4724333 ,  0.46890748,  0.4654339 ,\n",
       "        0.46201141,  0.45863888,  0.45531524,  0.45203942,  0.4488104 ,\n",
       "        0.44562719,  0.44248881,  0.43939433,  0.43634283,  0.43333343,\n",
       "        0.43036525,  0.42743746,  0.42454924,  0.42169979,  0.41888833,\n",
       "        0.41611411,  0.4133764 ,  0.41067448,  0.40800765,  0.40537523,\n",
       "        0.40277657,  0.40021101,  0.39767792,  0.39517671,  0.39270675,\n",
       "        0.39026749,  0.38785834,  0.38547875,  0.38312818,  0.3808061 ,\n",
       "        0.378512  ,  0.37624539,  0.37400575,  0.37179262,  0.36960553,\n",
       "        0.36744402,  0.36530765,  0.36319597,  0.36110857,  0.35904502,\n",
       "        0.35700493,  0.35498789,  0.3529935 ,  0.35102141,  0.34907123,\n",
       "        0.34714261,  0.34523516,  0.34334858,  0.3414825 ,  0.3396366 ,\n",
       "        0.33781054,  0.33600403,  0.33421672,  0.33244833,  0.33069855,\n",
       "        0.32896709,  0.32725368,  0.32555801,  0.32387982,  0.32221886,\n",
       "        0.32057484,  0.31894752,  0.31733664,  0.31574195,  0.3141632 ])"
      ]
     },
     "execution_count": 125,
     "metadata": {},
     "output_type": "execute_result"
    }
   ],
   "source": [
    "k_arr = np.r_[0.1:20.001:0.1]\n",
    "VFourier(k_arr, n=1, x=10)"
   ]
  },
  {
   "cell_type": "code",
   "execution_count": 127,
   "metadata": {},
   "outputs": [
    {
     "name": "stderr",
     "output_type": "stream",
     "text": [
      "/home/ak20/miniconda3/lib/python3.7/site-packages/ipykernel_launcher.py:27: RuntimeWarning: underflow encountered in exp\n"
     ]
    },
    {
     "data": {
      "text/plain": [
       "<matplotlib.legend.Legend at 0x2abbb9a790d0>"
      ]
     },
     "execution_count": 127,
     "metadata": {},
     "output_type": "execute_result"
    },
    {
     "data": {
      "image/png": "[encoded data removed]",
      "text/plain": [
       "<Figure size 432x288 with 1 Axes>"
      ]
     },
     "metadata": {
      "needs_background": "light"
     },
     "output_type": "display_data"
    }
   ],
   "source": [
    "# Lx = 75\n",
    "np.seterr(all='warn')\n",
    "k_arr = np.r_[0.1:20.001:0.1]\n",
    "f, ax = plt.subplots()\n",
    "n = 2\n",
    "x_arr = [0.5, 1, 2, 4, 8]\n",
    "for cx, x in enumerate(x_arr):\n",
    "    ax.plot(k_arr, VFourier(k_arr, n=1, x=x), color=plt.cm.viridis((1.*cx/len(x_arr))),\n",
    "            label=str(x), marker='.')\n",
    "ax.plot(k_arr, 2*np.pi / k_arr, '--r')\n",
    "ax.set_xlabel(r'$k$')\n",
    "ax.set_yscale('log')\n",
    "ax.legend(loc='best')"
   ]
  },
  {
   "cell_type": "code",
   "execution_count": 105,
   "metadata": {},
   "outputs": [
    {
     "name": "stdout",
     "output_type": "stream",
     "text": [
      "0.05289074306406815 -0.0033422829376428104\n",
      "0.05289074306406815 -0.002889778170273339\n",
      "0.05289074306406815 -0.002889765997400153\n",
      "0.05289074306406815 -0.002889765997400153\n"
     ]
    },
    {
     "name": "stderr",
     "output_type": "stream",
     "text": [
      "/home/ak20/miniconda3/lib/python3.7/site-packages/ipykernel_launcher.py:5: RuntimeWarning: underflow encountered in exp\n",
      "  \"\"\"\n",
      "/home/ak20/miniconda3/lib/python3.7/site-packages/ipykernel_launcher.py:12: IntegrationWarning: The maximum number of subdivisions (50) has been achieved.\n",
      "  If increasing the limit yields no improvement it is advised to analyze \n",
      "  the integrand in order to determine the difficulties.  If the position of a \n",
      "  local difficulty can be determined (singularity, discontinuity) one will \n",
      "  probably gain from splitting up the interval and calling the integrator \n",
      "  on the subranges.  Perhaps a special-purpose integrator should be used.\n",
      "  if sys.path[0] == '':\n",
      "/home/ak20/miniconda3/lib/python3.7/site-packages/ipykernel_launcher.py:12: IntegrationWarning: The maximum number of subdivisions (100) has been achieved.\n",
      "  If increasing the limit yields no improvement it is advised to analyze \n",
      "  the integrand in order to determine the difficulties.  If the position of a \n",
      "  local difficulty can be determined (singularity, discontinuity) one will \n",
      "  probably gain from splitting up the interval and calling the integrator \n",
      "  on the subranges.  Perhaps a special-purpose integrator should be used.\n",
      "  if sys.path[0] == '':\n"
     ]
    }
   ],
   "source": [
    "n = 1\n",
    "x = 8\n",
    "\n",
    "def integrand(r, k1):\n",
    "    return r * scipy.special.jv(0, k1*r) * 1/r**n * np.exp(-0.5 * (r/x)**2)\n",
    "\n",
    "k_arr = np.r_[0.1:20.001:0.1]\n",
    "i = -1\n",
    "\n",
    "for l in [50, 100, 500, 1000]:\n",
    "    val1, _ = scipy.integrate.quad(integrand, 0, 1, args=(k_arr[i]), limit=l)\n",
    "    val2, _ = scipy.integrate.quad(integrand, 1, np.inf, args=(k_arr[i]), limit=l)\n",
    "\n",
    "    print(val1, val2)"
   ]
  },
  {
   "cell_type": "code",
   "execution_count": 93,
   "metadata": {},
   "outputs": [
    {
     "name": "stderr",
     "output_type": "stream",
     "text": [
      "/home/ak20/miniconda3/lib/python3.7/site-packages/ipykernel_launcher.py:1: RuntimeWarning: underflow encountered in exp\n",
      "  \"\"\"Entry point for launching an IPython kernel.\n"
     ]
    },
    {
     "data": {
      "text/plain": [
       "0.0"
      ]
     },
     "execution_count": 93,
     "metadata": {},
     "output_type": "execute_result"
    }
   ],
   "source": [
    "np.exp(-1000)"
   ]
  },
  {
   "cell_type": "code",
   "execution_count": 103,
   "metadata": {},
   "outputs": [
    {
     "data": {
      "text/plain": [
       "(0.05289074306406815, -0.002889765997400153)"
      ]
     },
     "execution_count": 103,
     "metadata": {},
     "output_type": "execute_result"
    }
   ],
   "source": [
    "val1, val2"
   ]
  },
  {
   "cell_type": "code",
   "execution_count": 100,
   "metadata": {},
   "outputs": [
    {
     "data": {
      "text/plain": [
       "[<matplotlib.lines.Line2D at 0x2abbb9122f50>]"
      ]
     },
     "execution_count": 100,
     "metadata": {},
     "output_type": "execute_result"
    },
    {
     "data": {
      "image/png": "[encoded data removed]",
      "text/plain": [
       "<Figure size 432x288 with 1 Axes>"
      ]
     },
     "metadata": {
      "needs_background": "light"
     },
     "output_type": "display_data"
    }
   ],
   "source": [
    "f, ax = plt.subplots()\n",
    "r_arr = np.r_[0.01:20.01:0.01]\n",
    "ax.plot(r_arr, integrand(r_arr, k_arr[-1]))"
   ]
  },
  {
   "cell_type": "code",
   "execution_count": null,
   "metadata": {},
   "outputs": [],
   "source": []
  },
  {
   "cell_type": "code",
   "execution_count": 37,
   "metadata": {},
   "outputs": [
    {
     "ename": "TypeError",
     "evalue": "unsupported operand type(s) for *: 'dict' and 'float'",
     "output_type": "error",
     "traceback": [
      "\u001b[0;31m---------------------------------------------------------------------------\u001b[0m",
      "\u001b[0;31mTypeError\u001b[0m                                 Traceback (most recent call last)",
      "\u001b[0;32m<ipython-input-37-a1fcc00770d6>\u001b[0m in \u001b[0;36m<module>\u001b[0;34m\u001b[0m\n\u001b[0;32m----> 1\u001b[0;31m \u001b[0mscipy\u001b[0m\u001b[0;34m.\u001b[0m\u001b[0mintegrate\u001b[0m\u001b[0;34m.\u001b[0m\u001b[0mquad\u001b[0m\u001b[0;34m(\u001b[0m\u001b[0mmoo\u001b[0m\u001b[0;34m,\u001b[0m \u001b[0;36m0\u001b[0m\u001b[0;34m,\u001b[0m \u001b[0;36m1\u001b[0m\u001b[0;34m,\u001b[0m \u001b[0margs\u001b[0m\u001b[0;34m=\u001b[0m\u001b[0;34m{\u001b[0m\u001b[0;34m'b'\u001b[0m\u001b[0;34m:\u001b[0m \u001b[0;36m7\u001b[0m\u001b[0;34m}\u001b[0m\u001b[0;34m)\u001b[0m\u001b[0;34m\u001b[0m\u001b[0;34m\u001b[0m\u001b[0m\n\u001b[0m",
      "\u001b[0;32m~/miniconda3/lib/python3.7/site-packages/scipy/integrate/quadpack.py\u001b[0m in \u001b[0;36mquad\u001b[0;34m(func, a, b, args, full_output, epsabs, epsrel, limit, points, weight, wvar, wopts, maxp1, limlst)\u001b[0m\n\u001b[1;32m    340\u001b[0m     \u001b[0;32mif\u001b[0m \u001b[0mweight\u001b[0m \u001b[0;32mis\u001b[0m \u001b[0;32mNone\u001b[0m\u001b[0;34m:\u001b[0m\u001b[0;34m\u001b[0m\u001b[0;34m\u001b[0m\u001b[0m\n\u001b[1;32m    341\u001b[0m         retval = _quad(func, a, b, args, full_output, epsabs, epsrel, limit,\n\u001b[0;32m--> 342\u001b[0;31m                        points)\n\u001b[0m\u001b[1;32m    343\u001b[0m     \u001b[0;32melse\u001b[0m\u001b[0;34m:\u001b[0m\u001b[0;34m\u001b[0m\u001b[0;34m\u001b[0m\u001b[0m\n\u001b[1;32m    344\u001b[0m         \u001b[0;32mif\u001b[0m \u001b[0mpoints\u001b[0m \u001b[0;32mis\u001b[0m \u001b[0;32mnot\u001b[0m \u001b[0;32mNone\u001b[0m\u001b[0;34m:\u001b[0m\u001b[0;34m\u001b[0m\u001b[0;34m\u001b[0m\u001b[0m\n",
      "\u001b[0;32m~/miniconda3/lib/python3.7/site-packages/scipy/integrate/quadpack.py\u001b[0m in \u001b[0;36m_quad\u001b[0;34m(func, a, b, args, full_output, epsabs, epsrel, limit, points)\u001b[0m\n\u001b[1;32m    451\u001b[0m     \u001b[0;32mif\u001b[0m \u001b[0mpoints\u001b[0m \u001b[0;32mis\u001b[0m \u001b[0;32mNone\u001b[0m\u001b[0;34m:\u001b[0m\u001b[0;34m\u001b[0m\u001b[0;34m\u001b[0m\u001b[0m\n\u001b[1;32m    452\u001b[0m         \u001b[0;32mif\u001b[0m \u001b[0minfbounds\u001b[0m \u001b[0;34m==\u001b[0m \u001b[0;36m0\u001b[0m\u001b[0;34m:\u001b[0m\u001b[0;34m\u001b[0m\u001b[0;34m\u001b[0m\u001b[0m\n\u001b[0;32m--> 453\u001b[0;31m             \u001b[0;32mreturn\u001b[0m \u001b[0m_quadpack\u001b[0m\u001b[0;34m.\u001b[0m\u001b[0m_qagse\u001b[0m\u001b[0;34m(\u001b[0m\u001b[0mfunc\u001b[0m\u001b[0;34m,\u001b[0m\u001b[0ma\u001b[0m\u001b[0;34m,\u001b[0m\u001b[0mb\u001b[0m\u001b[0;34m,\u001b[0m\u001b[0margs\u001b[0m\u001b[0;34m,\u001b[0m\u001b[0mfull_output\u001b[0m\u001b[0;34m,\u001b[0m\u001b[0mepsabs\u001b[0m\u001b[0;34m,\u001b[0m\u001b[0mepsrel\u001b[0m\u001b[0;34m,\u001b[0m\u001b[0mlimit\u001b[0m\u001b[0;34m)\u001b[0m\u001b[0;34m\u001b[0m\u001b[0;34m\u001b[0m\u001b[0m\n\u001b[0m\u001b[1;32m    454\u001b[0m         \u001b[0;32melse\u001b[0m\u001b[0;34m:\u001b[0m\u001b[0;34m\u001b[0m\u001b[0;34m\u001b[0m\u001b[0m\n\u001b[1;32m    455\u001b[0m             \u001b[0;32mreturn\u001b[0m \u001b[0m_quadpack\u001b[0m\u001b[0;34m.\u001b[0m\u001b[0m_qagie\u001b[0m\u001b[0;34m(\u001b[0m\u001b[0mfunc\u001b[0m\u001b[0;34m,\u001b[0m\u001b[0mbound\u001b[0m\u001b[0;34m,\u001b[0m\u001b[0minfbounds\u001b[0m\u001b[0;34m,\u001b[0m\u001b[0margs\u001b[0m\u001b[0;34m,\u001b[0m\u001b[0mfull_output\u001b[0m\u001b[0;34m,\u001b[0m\u001b[0mepsabs\u001b[0m\u001b[0;34m,\u001b[0m\u001b[0mepsrel\u001b[0m\u001b[0;34m,\u001b[0m\u001b[0mlimit\u001b[0m\u001b[0;34m)\u001b[0m\u001b[0;34m\u001b[0m\u001b[0;34m\u001b[0m\u001b[0m\n",
      "\u001b[0;32m<ipython-input-29-908e1a565a25>\u001b[0m in \u001b[0;36mmoo\u001b[0;34m(x, a, b, c)\u001b[0m\n\u001b[1;32m      1\u001b[0m \u001b[0;32mdef\u001b[0m \u001b[0mmoo\u001b[0m\u001b[0;34m(\u001b[0m\u001b[0mx\u001b[0m\u001b[0;34m,\u001b[0m \u001b[0ma\u001b[0m\u001b[0;34m=\u001b[0m\u001b[0;36m1\u001b[0m\u001b[0;34m,\u001b[0m \u001b[0mb\u001b[0m\u001b[0;34m=\u001b[0m\u001b[0;36m2\u001b[0m\u001b[0;34m,\u001b[0m \u001b[0mc\u001b[0m\u001b[0;34m=\u001b[0m\u001b[0;36m3\u001b[0m\u001b[0;34m)\u001b[0m\u001b[0;34m:\u001b[0m\u001b[0;34m\u001b[0m\u001b[0;34m\u001b[0m\u001b[0m\n\u001b[0;32m----> 2\u001b[0;31m     \u001b[0;32mreturn\u001b[0m \u001b[0ma\u001b[0m\u001b[0;34m*\u001b[0m\u001b[0mx\u001b[0m\u001b[0;34m**\u001b[0m\u001b[0;36m2\u001b[0m \u001b[0;34m+\u001b[0m \u001b[0mb\u001b[0m\u001b[0;34m*\u001b[0m\u001b[0mx\u001b[0m \u001b[0;34m+\u001b[0m \u001b[0mc\u001b[0m\u001b[0;34m\u001b[0m\u001b[0;34m\u001b[0m\u001b[0m\n\u001b[0m",
      "\u001b[0;31mTypeError\u001b[0m: unsupported operand type(s) for *: 'dict' and 'float'"
     ]
    }
   ],
   "source": [
    "scipy.integrate.quad(moo, 0, 1, args={'b': 7})"
   ]
  },
  {
   "cell_type": "code",
   "execution_count": 34,
   "metadata": {},
   "outputs": [],
   "source": [
    "d1 = {'a': 10, 'b': 20}"
   ]
  },
  {
   "cell_type": "code",
   "execution_count": 35,
   "metadata": {},
   "outputs": [
    {
     "data": {
      "text/plain": [
       "('a', 'b')"
      ]
     },
     "execution_count": 35,
     "metadata": {},
     "output_type": "execute_result"
    }
   ],
   "source": [
    "tuple(d1)"
   ]
  },
  {
   "cell_type": "code",
   "execution_count": 78,
   "metadata": {},
   "outputs": [
    {
     "data": {
      "text/plain": [
       "array([[0.        , 0.        , 0.        , 0.        , 0.        ],\n",
       "       [0.30492008, 0.02312441, 0.46377796, 0.7021982 , 0.59805544],\n",
       "       [0.60984016, 0.04624883, 0.92755592, 1.4043964 , 1.19611088],\n",
       "       [0.91476024, 0.06937324, 1.39133389, 2.10659459, 1.79416632],\n",
       "       [1.21968031, 0.09249765, 1.85511185, 2.80879279, 2.39222176]])"
      ]
     },
     "execution_count": 78,
     "metadata": {},
     "output_type": "execute_result"
    }
   ],
   "source": [
    "np.outer(np.arange(5), np.random.rand(5))"
   ]
  },
  {
   "cell_type": "code",
   "execution_count": 143,
   "metadata": {},
   "outputs": [],
   "source": [
    "kx = np.arange(5)\n",
    "ky = np.random.rand(6)"
   ]
  },
  {
   "cell_type": "code",
   "execution_count": 144,
   "metadata": {},
   "outputs": [],
   "source": [
    "p = kx[:, np.newaxis]**2 + ky**2"
   ]
  },
  {
   "cell_type": "code",
   "execution_count": 135,
   "metadata": {},
   "outputs": [],
   "source": [
    "def VFourier(k, n=1, x=np.inf, l=1000, **kwargs):\n",
    "    print(k, n, x, l)"
   ]
  },
  {
   "cell_type": "code",
   "execution_count": 136,
   "metadata": {},
   "outputs": [
    {
     "name": "stdout",
     "output_type": "stream",
     "text": [
      "0.5 1 inf 1000\n"
     ]
    }
   ],
   "source": [
    "d1 = {'q': 40}#'n': 3,\n",
    "#       'x': 2,}\n",
    "#       'l': 50}\n",
    "VFourier(0.5, **d1)"
   ]
  },
  {
   "cell_type": "code",
   "execution_count": 137,
   "metadata": {},
   "outputs": [
    {
     "data": {
      "text/plain": [
       "13.09090909090909"
      ]
     },
     "execution_count": 137,
     "metadata": {},
     "output_type": "execute_result"
    }
   ],
   "source": [
    "1000 / (4*60 + 35) * 3.6"
   ]
  },
  {
   "cell_type": "code",
   "execution_count": 138,
   "metadata": {},
   "outputs": [
    {
     "data": {
      "text/plain": [
       "10.434782608695652"
      ]
     },
     "execution_count": 138,
     "metadata": {},
     "output_type": "execute_result"
    }
   ],
   "source": [
    "1000 / (5*60 + 45) * 3.6"
   ]
  },
  {
   "cell_type": "code",
   "execution_count": 145,
   "metadata": {},
   "outputs": [
    {
     "name": "stdout",
     "output_type": "stream",
     "text": [
      "[0.00595632 0.00454255 0.3694124  0.65433512 0.0045845  0.3516463 ]\n",
      "[1.00595632 1.00454255 1.3694124  1.65433512 1.0045845  1.3516463 ]\n",
      "[4.00595632 4.00454255 4.3694124  4.65433512 4.0045845  4.3516463 ]\n",
      "[9.00595632 9.00454255 9.3694124  9.65433512 9.0045845  9.3516463 ]\n",
      "[16.00595632 16.00454255 16.3694124  16.65433512 16.0045845  16.3516463 ]\n"
     ]
    }
   ],
   "source": [
    "for k in p:\n",
    "    print(k)"
   ]
  },
  {
   "cell_type": "code",
   "execution_count": 1,
   "metadata": {},
   "outputs": [
    {
     "ename": "NameError",
     "evalue": "name 'p' is not defined",
     "output_type": "error",
     "traceback": [
      "\u001b[0;31m---------------------------------------------------------------------------\u001b[0m",
      "\u001b[0;31mNameError\u001b[0m                                 Traceback (most recent call last)",
      "\u001b[0;32m<ipython-input-1-1611f00151ff>\u001b[0m in \u001b[0;36m<module>\u001b[0;34m\u001b[0m\n\u001b[0;32m----> 1\u001b[0;31m \u001b[0mp\u001b[0m\u001b[0;34m.\u001b[0m\u001b[0mshape\u001b[0m\u001b[0;34m\u001b[0m\u001b[0;34m\u001b[0m\u001b[0m\n\u001b[0m",
      "\u001b[0;31mNameError\u001b[0m: name 'p' is not defined"
     ]
    }
   ],
   "source": [
    "p.shape"
   ]
  },
  {
   "cell_type": "code",
   "execution_count": 12,
   "metadata": {},
   "outputs": [],
   "source": [
    "from scipy.sparse.linalg import LinearOperator\n",
    "\n",
    "@numba.njit(numba.float64[:](numba.float64[:]))\n",
    "def mv(v):\n",
    "    x = np.array([ 1, 19, 29, 43, 18,  6, 27, 32, 11, 25,\n",
    "                   -2, -38, -58, -86, -36, -12, -54, -64, -22, -50])\n",
    "    w = np.zeros(10)\n",
    "    \n",
    "    for i in range(20):\n",
    "        w[i%10] = x[i] * v[(9-i)%10]\n",
    "        \n",
    "    return w\n"
   ]
  },
  {
   "cell_type": "code",
   "execution_count": 9,
   "metadata": {},
   "outputs": [],
   "source": [
    "x = np.array([ 1, 19, 29, 43, 18,  6, 27, 32, 11, 25])"
   ]
  },
  {
   "cell_type": "code",
   "execution_count": 11,
   "metadata": {},
   "outputs": [
    {
     "data": {
      "text/plain": [
       "array([ -2, -38, -58, -86, -36, -12, -54, -64, -22, -50])"
      ]
     },
     "execution_count": 11,
     "metadata": {},
     "output_type": "execute_result"
    }
   ],
   "source": [
    "-x*2"
   ]
  },
  {
   "cell_type": "code",
   "execution_count": 13,
   "metadata": {},
   "outputs": [],
   "source": [
    "A = LinearOperator((10, 10), matvec=mv)"
   ]
  },
  {
   "cell_type": "code",
   "execution_count": 14,
   "metadata": {},
   "outputs": [
    {
     "data": {
      "text/plain": [
       "(array([-32.43484671,  33.20803628,  36.11951866,  42.33443018,\n",
       "         67.31966108,  73.01157758]),\n",
       " array([[-7.74525682e-01, -4.91293011e-01,  1.56478476e-01,\n",
       "         -2.85089818e-02, -4.48640353e-03,  2.01975832e-02],\n",
       "        [ 4.03690910e-02,  7.37783323e-03,  1.92400078e-01,\n",
       "         -6.92532162e-01, -3.50344390e-03, -1.33021240e-02],\n",
       "        [ 1.43580655e-02,  4.10779523e-03, -1.23413973e-02,\n",
       "         -2.07384662e-02, -7.08302699e-01, -8.91166187e-02],\n",
       "        [-6.74735629e-03,  1.58185565e-02, -2.45831632e-02,\n",
       "         -2.81425307e-02, -9.39220672e-02,  7.76027529e-01],\n",
       "        [-3.45586061e-01,  3.81940979e-01,  6.71100467e-01,\n",
       "          1.95106113e-01, -6.32635511e-04,  1.64851105e-02],\n",
       "        [-3.10340862e-01, -2.24103216e-01, -5.43856733e-01,\n",
       "         -1.12713507e-01,  1.26738999e-02, -1.41768516e-02],\n",
       "        [-1.25787317e-02, -2.39528334e-02,  2.15513101e-02,\n",
       "          7.60236853e-03,  7.87475692e-02, -6.16627506e-01],\n",
       "        [ 1.03686274e-02,  1.75794046e-02, -1.58669706e-02,\n",
       "         -4.49832659e-03,  6.94562115e-01,  8.42919011e-02],\n",
       "        [-1.30508710e-03, -5.73236298e-02, -1.38758858e-01,\n",
       "          6.77474682e-01, -2.45092666e-02,  1.22182332e-02],\n",
       "        [-4.26872360e-01,  7.47020554e-01, -4.14262998e-01,\n",
       "         -9.24318721e-02, -8.60732259e-03, -3.60275110e-02]]))"
      ]
     },
     "execution_count": 14,
     "metadata": {},
     "output_type": "execute_result"
    }
   ],
   "source": [
    "scipy.sparse.linalg.eigsh(A, k=6, M=None, sigma=None, which='LA')"
   ]
  },
  {
   "cell_type": "code",
   "execution_count": null,
   "metadata": {},
   "outputs": [],
   "source": []
  },
  {
   "cell_type": "code",
   "execution_count": 128,
   "metadata": {},
   "outputs": [],
   "source": [
    "spec = [\n",
    "    ('x', numba.float64[:]), \n",
    "    ('N', numba.int64)# an array field\n",
    "]\n",
    "\n",
    "@numba.jitclass(spec)\n",
    "class myClassJit:\n",
    "    \n",
    "    def __init__(self):\n",
    "        np.random.seed(455)\n",
    "        self.N = 100_000\n",
    "        self.x = np.random.rand(self.N)\n",
    "        \n",
    "    def mv(self, v):\n",
    "        w = np.zeros(self.N)\n",
    "        for i in range(self.N):\n",
    "            w[i] += self.x[i] * v[(i+2)%self.N]\n",
    "            w[(i+2)%self.N] += self.x[i] * v[i]\n",
    "\n",
    "        return w\n",
    "    \n",
    "class myClass:\n",
    "    \n",
    "    def __init__(self):\n",
    "        np.random.seed(455)\n",
    "        self.N = 100_000\n",
    "        self.x = np.random.rand(self.N)\n",
    "        \n",
    "    def mv(self, v):\n",
    "        w = np.zeros(self.N)\n",
    "        for i in range(self.N):\n",
    "            w[i] += self.x[i] * v[(i+2)%self.N]\n",
    "            w[(i+2)%self.N] += self.x[i] * v[i]\n",
    "\n",
    "        return w"
   ]
  },
  {
   "cell_type": "code",
   "execution_count": 129,
   "metadata": {},
   "outputs": [],
   "source": [
    "myObjJit = myClassJit()\n",
    "myObj = myClass()\n",
    "AJit = LinearOperator((100_000, 100_000), matvec=myObjJit.mv)\n",
    "A = LinearOperator((100_000, 100_000), matvec=myObj.mv)"
   ]
  },
  {
   "cell_type": "code",
   "execution_count": 132,
   "metadata": {},
   "outputs": [
    {
     "name": "stdout",
     "output_type": "stream",
     "text": [
      "0.1595759391784668 0.0019483566284179688\n"
     ]
    }
   ],
   "source": [
    "t1 =  time.time()\n",
    "VJit = AJit.matvec(np.ones(100_000))\n",
    "t2 = time.time()\n",
    "V = A.matvec(np.ones(100_000))\n",
    "t3 = time.time()\n",
    "print(t3-t2, t2-t1)"
   ]
  },
  {
   "cell_type": "code",
   "execution_count": 125,
   "metadata": {},
   "outputs": [],
   "source": [
    "import time"
   ]
  },
  {
   "cell_type": "code",
   "execution_count": 66,
   "metadata": {},
   "outputs": [],
   "source": [
    "def mv(v):\n",
    "    w = np.zeros(10)\n",
    "\n",
    "    for i in range(20):\n",
    "        w[i%10] = x[i] * v[(9-i)%10]\n",
    "\n",
    "    return w"
   ]
  },
  {
   "cell_type": "code",
   "execution_count": null,
   "metadata": {},
   "outputs": [],
   "source": [
    "scipy.sparse.linalg.eigsh(A, k=6, M=None, sigma=None, which='SA')"
   ]
  },
  {
   "cell_type": "code",
   "execution_count": 80,
   "metadata": {},
   "outputs": [],
   "source": [
    "M = np.zeros((10, 10))\n",
    "x = np.array([ 1, 19, 29, 43, 18,  6, 27, 32, 11, 25])\n",
    "\n",
    "for i in range(10):\n",
    "    M[i, (i+2)%10] = x[i]\n",
    "    M[(i+2)%10, i] = x[i]"
   ]
  },
  {
   "cell_type": "code",
   "execution_count": 81,
   "metadata": {},
   "outputs": [
    {
     "data": {
      "text/plain": [
       "array([[ 0.,  0.,  1.,  0.,  0.,  0.,  0.,  0., 11.,  0.],\n",
       "       [ 0.,  0.,  0., 19.,  0.,  0.,  0.,  0.,  0., 25.],\n",
       "       [ 1.,  0.,  0.,  0., 29.,  0.,  0.,  0.,  0.,  0.],\n",
       "       [ 0., 19.,  0.,  0.,  0., 43.,  0.,  0.,  0.,  0.],\n",
       "       [ 0.,  0., 29.,  0.,  0.,  0., 18.,  0.,  0.,  0.],\n",
       "       [ 0.,  0.,  0., 43.,  0.,  0.,  0.,  6.,  0.,  0.],\n",
       "       [ 0.,  0.,  0.,  0., 18.,  0.,  0.,  0., 27.,  0.],\n",
       "       [ 0.,  0.,  0.,  0.,  0.,  6.,  0.,  0.,  0., 32.],\n",
       "       [11.,  0.,  0.,  0.,  0.,  0., 27.,  0.,  0.,  0.],\n",
       "       [ 0., 25.,  0.,  0.,  0.,  0.,  0., 32.,  0.,  0.]])"
      ]
     },
     "execution_count": 81,
     "metadata": {},
     "output_type": "execute_result"
    }
   ],
   "source": [
    "M"
   ]
  },
  {
   "cell_type": "code",
   "execution_count": 82,
   "metadata": {},
   "outputs": [
    {
     "data": {
      "text/plain": [
       "(array([-48.66970975, -39.65191996, -38.87121517, -22.60022918,\n",
       "          0.41081299,   2.28407144,  21.98955592,  34.5767149 ,\n",
       "         39.07107543,  51.46084337]),\n",
       " array([[-2.12920044e-17, -1.03177410e-16,  1.06430077e-01,\n",
       "          3.01227207e-01,  9.01442363e-01,  2.41678935e-16,\n",
       "          2.62498469e-01, -4.18169626e-17,  1.28183573e-01,\n",
       "         -1.43896242e-18],\n",
       "        [ 4.00270027e-01, -2.85397474e-01, -1.66533454e-16,\n",
       "          0.00000000e+00,  2.01227923e-16, -7.43978813e-01,\n",
       "          0.00000000e+00,  2.14585551e-01,  5.55111512e-17,\n",
       "         -3.98473028e-01],\n",
       "        [-1.24900090e-16, -4.82253126e-16,  4.25278016e-01,\n",
       "         -5.39390452e-01,  2.27433567e-01,  8.32667268e-17,\n",
       "         -5.42748586e-01,  9.36750677e-17,  4.26490908e-01,\n",
       "          4.16333634e-16],\n",
       "        [-6.54780895e-01, -2.45966238e-01, -6.66133815e-16,\n",
       "          5.55111512e-17,  3.64291930e-17, -6.36247631e-02,\n",
       "         -1.11022302e-16, -4.08662072e-01, -1.11022302e-16,\n",
       "         -5.82846283e-01],\n",
       "        [ 4.03323208e-16,  7.12103987e-16, -5.73707012e-01,\n",
       "          4.09969677e-01, -2.78624035e-02,  2.16840434e-17,\n",
       "         -4.20596512e-01,  8.47846099e-17,  5.70181891e-01,\n",
       "          2.23345648e-16],\n",
       "        [ 5.64252688e-01,  3.52920595e-01,  6.64035227e-16,\n",
       "         -1.23177410e-16, -5.09341171e-17,  3.25355208e-01,\n",
       "         -1.08680941e-16, -4.23425986e-01, -6.07482525e-17,\n",
       "         -5.21459855e-01],\n",
       "        [-1.94289029e-16, -5.72458747e-16,  5.53757013e-01,\n",
       "          3.54273026e-01, -3.67056649e-01, -1.11022302e-16,\n",
       "          3.60609915e-01, -1.59594560e-16,  5.50521298e-01,\n",
       "         -3.46944695e-17],\n",
       "        [ 1.15593988e-01, -5.69571827e-01, -5.66703683e-16,\n",
       "          4.20099925e-17, -1.61563181e-16,  5.79833225e-01,\n",
       "          1.84526218e-17,  4.88631580e-01,  9.38084755e-17,\n",
       "         -2.95395623e-01],\n",
       "        [ 1.66533454e-16,  3.88578059e-16, -4.14758585e-01,\n",
       "         -5.69855769e-01,  1.29900602e-02,  0.00000000e+00,\n",
       "          5.74088486e-01, -1.38777878e-16,  4.16525375e-01,\n",
       "         -5.55111512e-17],\n",
       "        [-2.81607562e-01,  6.39596653e-01,  5.63882795e-16,\n",
       "         -6.57409366e-18,  7.47601405e-18, -1.96172105e-02,\n",
       "          3.30578314e-17,  6.07369711e-01,  1.25927736e-16,\n",
       "         -3.77267148e-01]]))"
      ]
     },
     "execution_count": 82,
     "metadata": {},
     "output_type": "execute_result"
    }
   ],
   "source": [
    "np.linalg.eigh(M)"
   ]
  },
  {
   "cell_type": "code",
   "execution_count": 5,
   "metadata": {},
   "outputs": [],
   "source": [
    "poop = np.load('/tigress/ak20/QH/hilbert/Nphi21_Ne7_sector63.npy')"
   ]
  },
  {
   "cell_type": "code",
   "execution_count": 6,
   "metadata": {},
   "outputs": [
    {
     "data": {
      "text/plain": [
       "array([[ 6,  7,  8, ..., 10, 11, 12],\n",
       "       [ 5,  7,  8, ..., 10, 11, 13],\n",
       "       [ 5,  6,  8, ..., 10, 12, 13],\n",
       "       ...,\n",
       "       [ 0,  1,  2, ..., 16, 19, 20],\n",
       "       [ 0,  1,  2, ..., 17, 19, 20],\n",
       "       [ 0,  1,  2, ..., 18, 19, 20]], dtype=int8)"
      ]
     },
     "execution_count": 6,
     "metadata": {},
     "output_type": "execute_result"
    }
   ],
   "source": [
    "poop"
   ]
  },
  {
   "cell_type": "code",
   "execution_count": 7,
   "metadata": {},
   "outputs": [],
   "source": [
    "jetty = np.zeros((0, 7), dtype='int8')"
   ]
  },
  {
   "cell_type": "code",
   "execution_count": 16,
   "metadata": {},
   "outputs": [],
   "source": [
    "# @numba.njit\n",
    "def fn1(Nphi, Ne, sector, fol='/tigress/ak20/QH/hilbert/'):\n",
    "    fil = np.load(fol+'Nphi{0:d}_Ne{1:d}_sector{2:d}.npy'.format(Nphi, Ne, sector))\n",
    "    return fil"
   ]
  },
  {
   "cell_type": "code",
   "execution_count": 17,
   "metadata": {},
   "outputs": [
    {
     "data": {
      "text/plain": [
       "array([[ 6,  7,  8, ..., 10, 11, 12],\n",
       "       [ 5,  7,  8, ..., 10, 11, 13],\n",
       "       [ 5,  6,  8, ..., 10, 12, 13],\n",
       "       ...,\n",
       "       [ 0,  1,  2, ..., 16, 19, 20],\n",
       "       [ 0,  1,  2, ..., 17, 19, 20],\n",
       "       [ 0,  1,  2, ..., 18, 19, 20]], dtype=int8)"
      ]
     },
     "execution_count": 17,
     "metadata": {},
     "output_type": "execute_result"
    }
   ],
   "source": [
    "fn1(21, 7, 63)"
   ]
  },
  {
   "cell_type": "code",
   "execution_count": 33,
   "metadata": {},
   "outputs": [],
   "source": [
    "@numba.njit(numba.float64[:](numba.int64))\n",
    "def f1(N):\n",
    "    y = np.zeros(N)\n",
    "    return y"
   ]
  },
  {
   "cell_type": "code",
   "execution_count": 27,
   "metadata": {},
   "outputs": [
    {
     "data": {
      "text/plain": [
       "array([0., 0., 0., 0., 0., 0.])"
      ]
     },
     "execution_count": 27,
     "metadata": {},
     "output_type": "execute_result"
    }
   ],
   "source": [
    "f1(6)"
   ]
  },
  {
   "cell_type": "code",
   "execution_count": 35,
   "metadata": {},
   "outputs": [],
   "source": [
    "poo = numba.float32[:]"
   ]
  },
  {
   "cell_type": "code",
   "execution_count": 44,
   "metadata": {},
   "outputs": [],
   "source": [
    "@numba.njit(numba.boolean(numba.int64, numba.int64))\n",
    "def getTrue(x, y):\n",
    "    if x > y:\n",
    "        return True\n",
    "    else:\n",
    "        return False"
   ]
  },
  {
   "cell_type": "code",
   "execution_count": 46,
   "metadata": {},
   "outputs": [
    {
     "data": {
      "text/plain": [
       "True"
      ]
     },
     "execution_count": 46,
     "metadata": {},
     "output_type": "execute_result"
    }
   ],
   "source": [
    "getTrue(43., 11.3)"
   ]
  },
  {
   "cell_type": "code",
   "execution_count": 39,
   "metadata": {},
   "outputs": [
    {
     "ename": "AttributeError",
     "evalue": "module 'numba' has no attribute 'version'",
     "output_type": "error",
     "traceback": [
      "\u001b[0;31m---------------------------------------------------------------------------\u001b[0m",
      "\u001b[0;31mAttributeError\u001b[0m                            Traceback (most recent call last)",
      "\u001b[0;32m<ipython-input-39-dee1c4e75bf9>\u001b[0m in \u001b[0;36m<module>\u001b[0;34m\u001b[0m\n\u001b[0;32m----> 1\u001b[0;31m \u001b[0mnumba\u001b[0m\u001b[0;34m.\u001b[0m\u001b[0mversion\u001b[0m\u001b[0;34m\u001b[0m\u001b[0;34m\u001b[0m\u001b[0m\n\u001b[0m",
      "\u001b[0;31mAttributeError\u001b[0m: module 'numba' has no attribute 'version'"
     ]
    }
   ],
   "source": []
  },
  {
   "cell_type": "code",
   "execution_count": 47,
   "metadata": {},
   "outputs": [
    {
     "ename": "TypingError",
     "evalue": "Failed in nopython mode pipeline (step: nopython frontend)\nInvalid use of Function(<built-in function zeros>) with argument(s) of type(s): (int64, dtype=Literal[str](int16))\n * parameterized\nIn definition 0:\n    All templates rejected with literals.\nIn definition 1:\n    All templates rejected without literals.\nThis error is usually caused by passing an argument of a type that is unsupported by the named function.\n[1] During: resolving callee type: Function(<built-in function zeros>)\n[2] During: typing of call at /home/ak20/QH/QH_ED/hilbert.py (153)\n\n\nFile \"hilbert.py\", line 153:\n    def get_sector_id(states, Nphi):\n        <source elided>\n        NphiArr = np.arange(Nphi)\n        sectorArr = np.zeros(Nh, dtype='int16')\n        ^\n",
     "output_type": "error",
     "traceback": [
      "\u001b[0;31m---------------------------------------------------------------------------\u001b[0m",
      "\u001b[0;31mTypingError\u001b[0m                               Traceback (most recent call last)",
      "\u001b[0;32m<ipython-input-47-5a7c1c192417>\u001b[0m in \u001b[0;36m<module>\u001b[0;34m\u001b[0m\n\u001b[0;32m----> 1\u001b[0;31m \u001b[0;32mimport\u001b[0m \u001b[0mhilbert\u001b[0m\u001b[0;34m\u001b[0m\u001b[0;34m\u001b[0m\u001b[0m\n\u001b[0m",
      "\u001b[0;32m~/QH/QH_ED/hilbert.py\u001b[0m in \u001b[0;36m<module>\u001b[0;34m\u001b[0m\n\u001b[1;32m      8\u001b[0m \u001b[0;34m\u001b[0m\u001b[0m\n\u001b[1;32m      9\u001b[0m \u001b[0;34m\u001b[0m\u001b[0m\n\u001b[0;32m---> 10\u001b[0;31m \u001b[0;32mclass\u001b[0m \u001b[0mUtils\u001b[0m\u001b[0;34m:\u001b[0m\u001b[0;34m\u001b[0m\u001b[0;34m\u001b[0m\u001b[0m\n\u001b[0m\u001b[1;32m     11\u001b[0m \u001b[0;34m\u001b[0m\u001b[0m\n\u001b[1;32m     12\u001b[0m     \u001b[0;32mdef\u001b[0m \u001b[0m__init__\u001b[0m\u001b[0;34m(\u001b[0m\u001b[0mself\u001b[0m\u001b[0;34m,\u001b[0m \u001b[0mNe\u001b[0m\u001b[0;34m,\u001b[0m \u001b[0mNphi\u001b[0m\u001b[0;34m,\u001b[0m \u001b[0mtorus\u001b[0m\u001b[0;34m,\u001b[0m \u001b[0mpotential\u001b[0m\u001b[0;34m=\u001b[0m\u001b[0;32mNone\u001b[0m\u001b[0;34m)\u001b[0m\u001b[0;34m:\u001b[0m\u001b[0;34m\u001b[0m\u001b[0;34m\u001b[0m\u001b[0m\n",
      "\u001b[0;32m~/QH/QH_ED/hilbert.py\u001b[0m in \u001b[0;36mUtils\u001b[0;34m()\u001b[0m\n\u001b[1;32m    142\u001b[0m \u001b[0;34m\u001b[0m\u001b[0m\n\u001b[1;32m    143\u001b[0m \u001b[0;34m\u001b[0m\u001b[0m\n\u001b[0;32m--> 144\u001b[0;31m     \u001b[0;34m@\u001b[0m\u001b[0mnumba\u001b[0m\u001b[0;34m.\u001b[0m\u001b[0mnjit\u001b[0m\u001b[0;34m(\u001b[0m\u001b[0mnumba\u001b[0m\u001b[0;34m.\u001b[0m\u001b[0mint16\u001b[0m\u001b[0;34m[\u001b[0m\u001b[0;34m:\u001b[0m\u001b[0;34m]\u001b[0m\u001b[0;34m(\u001b[0m\u001b[0mnumba\u001b[0m\u001b[0;34m.\u001b[0m\u001b[0mint8\u001b[0m\u001b[0;34m[\u001b[0m\u001b[0;34m:\u001b[0m\u001b[0;34m]\u001b[0m\u001b[0;34m,\u001b[0m \u001b[0mnumba\u001b[0m\u001b[0;34m.\u001b[0m\u001b[0mint64\u001b[0m\u001b[0;34m)\u001b[0m\u001b[0;34m)\u001b[0m\u001b[0;34m\u001b[0m\u001b[0;34m\u001b[0m\u001b[0m\n\u001b[0m\u001b[1;32m    145\u001b[0m     \u001b[0;32mdef\u001b[0m \u001b[0mget_sector_id\u001b[0m\u001b[0;34m(\u001b[0m\u001b[0mstates\u001b[0m\u001b[0;34m,\u001b[0m \u001b[0mNphi\u001b[0m\u001b[0;34m)\u001b[0m\u001b[0;34m:\u001b[0m\u001b[0;34m\u001b[0m\u001b[0;34m\u001b[0m\u001b[0m\n\u001b[1;32m    146\u001b[0m         \"\"\"\n",
      "\u001b[0;32m~/miniconda3/lib/python3.7/site-packages/numba/decorators.py\u001b[0m in \u001b[0;36mwrapper\u001b[0;34m(func)\u001b[0m\n\u001b[1;32m    198\u001b[0m             \u001b[0;32mwith\u001b[0m \u001b[0mtypeinfer\u001b[0m\u001b[0;34m.\u001b[0m\u001b[0mregister_dispatcher\u001b[0m\u001b[0;34m(\u001b[0m\u001b[0mdisp\u001b[0m\u001b[0;34m)\u001b[0m\u001b[0;34m:\u001b[0m\u001b[0;34m\u001b[0m\u001b[0;34m\u001b[0m\u001b[0m\n\u001b[1;32m    199\u001b[0m                 \u001b[0;32mfor\u001b[0m \u001b[0msig\u001b[0m \u001b[0;32min\u001b[0m \u001b[0msigs\u001b[0m\u001b[0;34m:\u001b[0m\u001b[0;34m\u001b[0m\u001b[0;34m\u001b[0m\u001b[0m\n\u001b[0;32m--> 200\u001b[0;31m                     \u001b[0mdisp\u001b[0m\u001b[0;34m.\u001b[0m\u001b[0mcompile\u001b[0m\u001b[0;34m(\u001b[0m\u001b[0msig\u001b[0m\u001b[0;34m)\u001b[0m\u001b[0;34m\u001b[0m\u001b[0;34m\u001b[0m\u001b[0m\n\u001b[0m\u001b[1;32m    201\u001b[0m                 \u001b[0mdisp\u001b[0m\u001b[0;34m.\u001b[0m\u001b[0mdisable_compile\u001b[0m\u001b[0;34m(\u001b[0m\u001b[0;34m)\u001b[0m\u001b[0;34m\u001b[0m\u001b[0;34m\u001b[0m\u001b[0m\n\u001b[1;32m    202\u001b[0m         \u001b[0;32mreturn\u001b[0m \u001b[0mdisp\u001b[0m\u001b[0;34m\u001b[0m\u001b[0;34m\u001b[0m\u001b[0m\n",
      "\u001b[0;32m~/miniconda3/lib/python3.7/site-packages/numba/compiler_lock.py\u001b[0m in \u001b[0;36m_acquire_compile_lock\u001b[0;34m(*args, **kwargs)\u001b[0m\n\u001b[1;32m     30\u001b[0m         \u001b[0;32mdef\u001b[0m \u001b[0m_acquire_compile_lock\u001b[0m\u001b[0;34m(\u001b[0m\u001b[0;34m*\u001b[0m\u001b[0margs\u001b[0m\u001b[0;34m,\u001b[0m \u001b[0;34m**\u001b[0m\u001b[0mkwargs\u001b[0m\u001b[0;34m)\u001b[0m\u001b[0;34m:\u001b[0m\u001b[0;34m\u001b[0m\u001b[0;34m\u001b[0m\u001b[0m\n\u001b[1;32m     31\u001b[0m             \u001b[0;32mwith\u001b[0m \u001b[0mself\u001b[0m\u001b[0;34m:\u001b[0m\u001b[0;34m\u001b[0m\u001b[0;34m\u001b[0m\u001b[0m\n\u001b[0;32m---> 32\u001b[0;31m                 \u001b[0;32mreturn\u001b[0m \u001b[0mfunc\u001b[0m\u001b[0;34m(\u001b[0m\u001b[0;34m*\u001b[0m\u001b[0margs\u001b[0m\u001b[0;34m,\u001b[0m \u001b[0;34m**\u001b[0m\u001b[0mkwargs\u001b[0m\u001b[0;34m)\u001b[0m\u001b[0;34m\u001b[0m\u001b[0;34m\u001b[0m\u001b[0m\n\u001b[0m\u001b[1;32m     33\u001b[0m         \u001b[0;32mreturn\u001b[0m \u001b[0m_acquire_compile_lock\u001b[0m\u001b[0;34m\u001b[0m\u001b[0;34m\u001b[0m\u001b[0m\n\u001b[1;32m     34\u001b[0m \u001b[0;34m\u001b[0m\u001b[0m\n",
      "\u001b[0;32m~/miniconda3/lib/python3.7/site-packages/numba/dispatcher.py\u001b[0m in \u001b[0;36mcompile\u001b[0;34m(self, sig)\u001b[0m\n\u001b[1;32m    766\u001b[0m             \u001b[0mself\u001b[0m\u001b[0;34m.\u001b[0m\u001b[0m_cache_misses\u001b[0m\u001b[0;34m[\u001b[0m\u001b[0msig\u001b[0m\u001b[0;34m]\u001b[0m \u001b[0;34m+=\u001b[0m \u001b[0;36m1\u001b[0m\u001b[0;34m\u001b[0m\u001b[0;34m\u001b[0m\u001b[0m\n\u001b[1;32m    767\u001b[0m             \u001b[0;32mtry\u001b[0m\u001b[0;34m:\u001b[0m\u001b[0;34m\u001b[0m\u001b[0;34m\u001b[0m\u001b[0m\n\u001b[0;32m--> 768\u001b[0;31m                 \u001b[0mcres\u001b[0m \u001b[0;34m=\u001b[0m \u001b[0mself\u001b[0m\u001b[0;34m.\u001b[0m\u001b[0m_compiler\u001b[0m\u001b[0;34m.\u001b[0m\u001b[0mcompile\u001b[0m\u001b[0;34m(\u001b[0m\u001b[0margs\u001b[0m\u001b[0;34m,\u001b[0m \u001b[0mreturn_type\u001b[0m\u001b[0;34m)\u001b[0m\u001b[0;34m\u001b[0m\u001b[0;34m\u001b[0m\u001b[0m\n\u001b[0m\u001b[1;32m    769\u001b[0m             \u001b[0;32mexcept\u001b[0m \u001b[0merrors\u001b[0m\u001b[0;34m.\u001b[0m\u001b[0mForceLiteralArg\u001b[0m \u001b[0;32mas\u001b[0m \u001b[0me\u001b[0m\u001b[0;34m:\u001b[0m\u001b[0;34m\u001b[0m\u001b[0;34m\u001b[0m\u001b[0m\n\u001b[1;32m    770\u001b[0m                 \u001b[0;32mdef\u001b[0m \u001b[0mfolded\u001b[0m\u001b[0;34m(\u001b[0m\u001b[0margs\u001b[0m\u001b[0;34m,\u001b[0m \u001b[0mkws\u001b[0m\u001b[0;34m)\u001b[0m\u001b[0;34m:\u001b[0m\u001b[0;34m\u001b[0m\u001b[0;34m\u001b[0m\u001b[0m\n",
      "\u001b[0;32m~/miniconda3/lib/python3.7/site-packages/numba/dispatcher.py\u001b[0m in \u001b[0;36mcompile\u001b[0;34m(self, args, return_type)\u001b[0m\n\u001b[1;32m     79\u001b[0m             \u001b[0;32mreturn\u001b[0m \u001b[0mretval\u001b[0m\u001b[0;34m\u001b[0m\u001b[0;34m\u001b[0m\u001b[0m\n\u001b[1;32m     80\u001b[0m         \u001b[0;32melse\u001b[0m\u001b[0;34m:\u001b[0m\u001b[0;34m\u001b[0m\u001b[0;34m\u001b[0m\u001b[0m\n\u001b[0;32m---> 81\u001b[0;31m             \u001b[0;32mraise\u001b[0m \u001b[0mretval\u001b[0m\u001b[0;34m\u001b[0m\u001b[0;34m\u001b[0m\u001b[0m\n\u001b[0m\u001b[1;32m     82\u001b[0m \u001b[0;34m\u001b[0m\u001b[0m\n\u001b[1;32m     83\u001b[0m     \u001b[0;32mdef\u001b[0m \u001b[0m_compile_cached\u001b[0m\u001b[0;34m(\u001b[0m\u001b[0mself\u001b[0m\u001b[0;34m,\u001b[0m \u001b[0margs\u001b[0m\u001b[0;34m,\u001b[0m \u001b[0mreturn_type\u001b[0m\u001b[0;34m)\u001b[0m\u001b[0;34m:\u001b[0m\u001b[0;34m\u001b[0m\u001b[0;34m\u001b[0m\u001b[0m\n",
      "\u001b[0;32m~/miniconda3/lib/python3.7/site-packages/numba/dispatcher.py\u001b[0m in \u001b[0;36m_compile_cached\u001b[0;34m(self, args, return_type)\u001b[0m\n\u001b[1;32m     89\u001b[0m \u001b[0;34m\u001b[0m\u001b[0m\n\u001b[1;32m     90\u001b[0m         \u001b[0;32mtry\u001b[0m\u001b[0;34m:\u001b[0m\u001b[0;34m\u001b[0m\u001b[0;34m\u001b[0m\u001b[0m\n\u001b[0;32m---> 91\u001b[0;31m             \u001b[0mretval\u001b[0m \u001b[0;34m=\u001b[0m \u001b[0mself\u001b[0m\u001b[0;34m.\u001b[0m\u001b[0m_compile_core\u001b[0m\u001b[0;34m(\u001b[0m\u001b[0margs\u001b[0m\u001b[0;34m,\u001b[0m \u001b[0mreturn_type\u001b[0m\u001b[0;34m)\u001b[0m\u001b[0;34m\u001b[0m\u001b[0;34m\u001b[0m\u001b[0m\n\u001b[0m\u001b[1;32m     92\u001b[0m         \u001b[0;32mexcept\u001b[0m \u001b[0merrors\u001b[0m\u001b[0;34m.\u001b[0m\u001b[0mTypingError\u001b[0m \u001b[0;32mas\u001b[0m \u001b[0me\u001b[0m\u001b[0;34m:\u001b[0m\u001b[0;34m\u001b[0m\u001b[0;34m\u001b[0m\u001b[0m\n\u001b[1;32m     93\u001b[0m             \u001b[0mself\u001b[0m\u001b[0;34m.\u001b[0m\u001b[0m_failed_cache\u001b[0m\u001b[0;34m[\u001b[0m\u001b[0mkey\u001b[0m\u001b[0;34m]\u001b[0m \u001b[0;34m=\u001b[0m \u001b[0me\u001b[0m\u001b[0;34m\u001b[0m\u001b[0;34m\u001b[0m\u001b[0m\n",
      "\u001b[0;32m~/miniconda3/lib/python3.7/site-packages/numba/dispatcher.py\u001b[0m in \u001b[0;36m_compile_core\u001b[0;34m(self, args, return_type)\u001b[0m\n\u001b[1;32m    107\u001b[0m                                       \u001b[0margs\u001b[0m\u001b[0;34m=\u001b[0m\u001b[0margs\u001b[0m\u001b[0;34m,\u001b[0m \u001b[0mreturn_type\u001b[0m\u001b[0;34m=\u001b[0m\u001b[0mreturn_type\u001b[0m\u001b[0;34m,\u001b[0m\u001b[0;34m\u001b[0m\u001b[0;34m\u001b[0m\u001b[0m\n\u001b[1;32m    108\u001b[0m                                       \u001b[0mflags\u001b[0m\u001b[0;34m=\u001b[0m\u001b[0mflags\u001b[0m\u001b[0;34m,\u001b[0m \u001b[0mlocals\u001b[0m\u001b[0;34m=\u001b[0m\u001b[0mself\u001b[0m\u001b[0;34m.\u001b[0m\u001b[0mlocals\u001b[0m\u001b[0;34m,\u001b[0m\u001b[0;34m\u001b[0m\u001b[0;34m\u001b[0m\u001b[0m\n\u001b[0;32m--> 109\u001b[0;31m                                       pipeline_class=self.pipeline_class)\n\u001b[0m\u001b[1;32m    110\u001b[0m         \u001b[0;31m# Check typing error if object mode is used\u001b[0m\u001b[0;34m\u001b[0m\u001b[0;34m\u001b[0m\u001b[0;34m\u001b[0m\u001b[0m\n\u001b[1;32m    111\u001b[0m         \u001b[0;32mif\u001b[0m \u001b[0mcres\u001b[0m\u001b[0;34m.\u001b[0m\u001b[0mtyping_error\u001b[0m \u001b[0;32mis\u001b[0m \u001b[0;32mnot\u001b[0m \u001b[0;32mNone\u001b[0m \u001b[0;32mand\u001b[0m \u001b[0;32mnot\u001b[0m \u001b[0mflags\u001b[0m\u001b[0;34m.\u001b[0m\u001b[0menable_pyobject\u001b[0m\u001b[0;34m:\u001b[0m\u001b[0;34m\u001b[0m\u001b[0;34m\u001b[0m\u001b[0m\n",
      "\u001b[0;32m~/miniconda3/lib/python3.7/site-packages/numba/compiler.py\u001b[0m in \u001b[0;36mcompile_extra\u001b[0;34m(typingctx, targetctx, func, args, return_type, flags, locals, library, pipeline_class)\u001b[0m\n\u001b[1;32m    549\u001b[0m     pipeline = pipeline_class(typingctx, targetctx, library,\n\u001b[1;32m    550\u001b[0m                               args, return_type, flags, locals)\n\u001b[0;32m--> 551\u001b[0;31m     \u001b[0;32mreturn\u001b[0m \u001b[0mpipeline\u001b[0m\u001b[0;34m.\u001b[0m\u001b[0mcompile_extra\u001b[0m\u001b[0;34m(\u001b[0m\u001b[0mfunc\u001b[0m\u001b[0;34m)\u001b[0m\u001b[0;34m\u001b[0m\u001b[0;34m\u001b[0m\u001b[0m\n\u001b[0m\u001b[1;32m    552\u001b[0m \u001b[0;34m\u001b[0m\u001b[0m\n\u001b[1;32m    553\u001b[0m \u001b[0;34m\u001b[0m\u001b[0m\n",
      "\u001b[0;32m~/miniconda3/lib/python3.7/site-packages/numba/compiler.py\u001b[0m in \u001b[0;36mcompile_extra\u001b[0;34m(self, func)\u001b[0m\n\u001b[1;32m    329\u001b[0m         \u001b[0mself\u001b[0m\u001b[0;34m.\u001b[0m\u001b[0mstate\u001b[0m\u001b[0;34m.\u001b[0m\u001b[0mlifted\u001b[0m \u001b[0;34m=\u001b[0m \u001b[0;34m(\u001b[0m\u001b[0;34m)\u001b[0m\u001b[0;34m\u001b[0m\u001b[0;34m\u001b[0m\u001b[0m\n\u001b[1;32m    330\u001b[0m         \u001b[0mself\u001b[0m\u001b[0;34m.\u001b[0m\u001b[0mstate\u001b[0m\u001b[0;34m.\u001b[0m\u001b[0mlifted_from\u001b[0m \u001b[0;34m=\u001b[0m \u001b[0;32mNone\u001b[0m\u001b[0;34m\u001b[0m\u001b[0;34m\u001b[0m\u001b[0m\n\u001b[0;32m--> 331\u001b[0;31m         \u001b[0;32mreturn\u001b[0m \u001b[0mself\u001b[0m\u001b[0;34m.\u001b[0m\u001b[0m_compile_bytecode\u001b[0m\u001b[0;34m(\u001b[0m\u001b[0;34m)\u001b[0m\u001b[0;34m\u001b[0m\u001b[0;34m\u001b[0m\u001b[0m\n\u001b[0m\u001b[1;32m    332\u001b[0m \u001b[0;34m\u001b[0m\u001b[0m\n\u001b[1;32m    333\u001b[0m     \u001b[0;32mdef\u001b[0m \u001b[0mcompile_ir\u001b[0m\u001b[0;34m(\u001b[0m\u001b[0mself\u001b[0m\u001b[0;34m,\u001b[0m \u001b[0mfunc_ir\u001b[0m\u001b[0;34m,\u001b[0m \u001b[0mlifted\u001b[0m\u001b[0;34m=\u001b[0m\u001b[0;34m(\u001b[0m\u001b[0;34m)\u001b[0m\u001b[0;34m,\u001b[0m \u001b[0mlifted_from\u001b[0m\u001b[0;34m=\u001b[0m\u001b[0;32mNone\u001b[0m\u001b[0;34m)\u001b[0m\u001b[0;34m:\u001b[0m\u001b[0;34m\u001b[0m\u001b[0;34m\u001b[0m\u001b[0m\n",
      "\u001b[0;32m~/miniconda3/lib/python3.7/site-packages/numba/compiler.py\u001b[0m in \u001b[0;36m_compile_bytecode\u001b[0;34m(self)\u001b[0m\n\u001b[1;32m    391\u001b[0m         \"\"\"\n\u001b[1;32m    392\u001b[0m         \u001b[0;32massert\u001b[0m \u001b[0mself\u001b[0m\u001b[0;34m.\u001b[0m\u001b[0mstate\u001b[0m\u001b[0;34m.\u001b[0m\u001b[0mfunc_ir\u001b[0m \u001b[0;32mis\u001b[0m \u001b[0;32mNone\u001b[0m\u001b[0;34m\u001b[0m\u001b[0;34m\u001b[0m\u001b[0m\n\u001b[0;32m--> 393\u001b[0;31m         \u001b[0;32mreturn\u001b[0m \u001b[0mself\u001b[0m\u001b[0;34m.\u001b[0m\u001b[0m_compile_core\u001b[0m\u001b[0;34m(\u001b[0m\u001b[0;34m)\u001b[0m\u001b[0;34m\u001b[0m\u001b[0;34m\u001b[0m\u001b[0m\n\u001b[0m\u001b[1;32m    394\u001b[0m \u001b[0;34m\u001b[0m\u001b[0m\n\u001b[1;32m    395\u001b[0m     \u001b[0;32mdef\u001b[0m \u001b[0m_compile_ir\u001b[0m\u001b[0;34m(\u001b[0m\u001b[0mself\u001b[0m\u001b[0;34m)\u001b[0m\u001b[0;34m:\u001b[0m\u001b[0;34m\u001b[0m\u001b[0;34m\u001b[0m\u001b[0m\n",
      "\u001b[0;32m~/miniconda3/lib/python3.7/site-packages/numba/compiler.py\u001b[0m in \u001b[0;36m_compile_core\u001b[0;34m(self)\u001b[0m\n\u001b[1;32m    371\u001b[0m                 \u001b[0mself\u001b[0m\u001b[0;34m.\u001b[0m\u001b[0mstate\u001b[0m\u001b[0;34m.\u001b[0m\u001b[0mstatus\u001b[0m\u001b[0;34m.\u001b[0m\u001b[0mfail_reason\u001b[0m \u001b[0;34m=\u001b[0m \u001b[0me\u001b[0m\u001b[0;34m\u001b[0m\u001b[0;34m\u001b[0m\u001b[0m\n\u001b[1;32m    372\u001b[0m                 \u001b[0;32mif\u001b[0m \u001b[0mis_final_pipeline\u001b[0m\u001b[0;34m:\u001b[0m\u001b[0;34m\u001b[0m\u001b[0;34m\u001b[0m\u001b[0m\n\u001b[0;32m--> 373\u001b[0;31m                     \u001b[0;32mraise\u001b[0m \u001b[0me\u001b[0m\u001b[0;34m\u001b[0m\u001b[0;34m\u001b[0m\u001b[0m\n\u001b[0m\u001b[1;32m    374\u001b[0m         \u001b[0;32melse\u001b[0m\u001b[0;34m:\u001b[0m\u001b[0;34m\u001b[0m\u001b[0;34m\u001b[0m\u001b[0m\n\u001b[1;32m    375\u001b[0m             \u001b[0;32mraise\u001b[0m \u001b[0mCompilerError\u001b[0m\u001b[0;34m(\u001b[0m\u001b[0;34m\"All available pipelines exhausted\"\u001b[0m\u001b[0;34m)\u001b[0m\u001b[0;34m\u001b[0m\u001b[0;34m\u001b[0m\u001b[0m\n",
      "\u001b[0;32m~/miniconda3/lib/python3.7/site-packages/numba/compiler.py\u001b[0m in \u001b[0;36m_compile_core\u001b[0;34m(self)\u001b[0m\n\u001b[1;32m    362\u001b[0m             \u001b[0mres\u001b[0m \u001b[0;34m=\u001b[0m \u001b[0;32mNone\u001b[0m\u001b[0;34m\u001b[0m\u001b[0;34m\u001b[0m\u001b[0m\n\u001b[1;32m    363\u001b[0m             \u001b[0;32mtry\u001b[0m\u001b[0;34m:\u001b[0m\u001b[0;34m\u001b[0m\u001b[0;34m\u001b[0m\u001b[0m\n\u001b[0;32m--> 364\u001b[0;31m                 \u001b[0mpm\u001b[0m\u001b[0;34m.\u001b[0m\u001b[0mrun\u001b[0m\u001b[0;34m(\u001b[0m\u001b[0mself\u001b[0m\u001b[0;34m.\u001b[0m\u001b[0mstate\u001b[0m\u001b[0;34m)\u001b[0m\u001b[0;34m\u001b[0m\u001b[0;34m\u001b[0m\u001b[0m\n\u001b[0m\u001b[1;32m    365\u001b[0m                 \u001b[0;32mif\u001b[0m \u001b[0mself\u001b[0m\u001b[0;34m.\u001b[0m\u001b[0mstate\u001b[0m\u001b[0;34m.\u001b[0m\u001b[0mcr\u001b[0m \u001b[0;32mis\u001b[0m \u001b[0;32mnot\u001b[0m \u001b[0;32mNone\u001b[0m\u001b[0;34m:\u001b[0m\u001b[0;34m\u001b[0m\u001b[0;34m\u001b[0m\u001b[0m\n\u001b[1;32m    366\u001b[0m                     \u001b[0;32mbreak\u001b[0m\u001b[0;34m\u001b[0m\u001b[0;34m\u001b[0m\u001b[0m\n",
      "\u001b[0;32m~/miniconda3/lib/python3.7/site-packages/numba/compiler_machinery.py\u001b[0m in \u001b[0;36mrun\u001b[0;34m(self, state)\u001b[0m\n\u001b[1;32m    345\u001b[0m                     \u001b[0;34m(\u001b[0m\u001b[0mself\u001b[0m\u001b[0;34m.\u001b[0m\u001b[0mpipeline_name\u001b[0m\u001b[0;34m,\u001b[0m \u001b[0mpass_desc\u001b[0m\u001b[0;34m)\u001b[0m\u001b[0;34m\u001b[0m\u001b[0;34m\u001b[0m\u001b[0m\n\u001b[1;32m    346\u001b[0m                 \u001b[0mpatched_exception\u001b[0m \u001b[0;34m=\u001b[0m \u001b[0mself\u001b[0m\u001b[0;34m.\u001b[0m\u001b[0m_patch_error\u001b[0m\u001b[0;34m(\u001b[0m\u001b[0mmsg\u001b[0m\u001b[0;34m,\u001b[0m \u001b[0me\u001b[0m\u001b[0;34m)\u001b[0m\u001b[0;34m\u001b[0m\u001b[0;34m\u001b[0m\u001b[0m\n\u001b[0;32m--> 347\u001b[0;31m                 \u001b[0;32mraise\u001b[0m \u001b[0mpatched_exception\u001b[0m\u001b[0;34m\u001b[0m\u001b[0;34m\u001b[0m\u001b[0m\n\u001b[0m\u001b[1;32m    348\u001b[0m \u001b[0;34m\u001b[0m\u001b[0m\n\u001b[1;32m    349\u001b[0m     \u001b[0;32mdef\u001b[0m \u001b[0mdependency_analysis\u001b[0m\u001b[0;34m(\u001b[0m\u001b[0mself\u001b[0m\u001b[0;34m)\u001b[0m\u001b[0;34m:\u001b[0m\u001b[0;34m\u001b[0m\u001b[0;34m\u001b[0m\u001b[0m\n",
      "\u001b[0;32m~/miniconda3/lib/python3.7/site-packages/numba/compiler_machinery.py\u001b[0m in \u001b[0;36mrun\u001b[0;34m(self, state)\u001b[0m\n\u001b[1;32m    336\u001b[0m                 \u001b[0mpass_inst\u001b[0m \u001b[0;34m=\u001b[0m \u001b[0m_pass_registry\u001b[0m\u001b[0;34m.\u001b[0m\u001b[0mget\u001b[0m\u001b[0;34m(\u001b[0m\u001b[0mpss\u001b[0m\u001b[0;34m)\u001b[0m\u001b[0;34m.\u001b[0m\u001b[0mpass_inst\u001b[0m\u001b[0;34m\u001b[0m\u001b[0;34m\u001b[0m\u001b[0m\n\u001b[1;32m    337\u001b[0m                 \u001b[0;32mif\u001b[0m \u001b[0misinstance\u001b[0m\u001b[0;34m(\u001b[0m\u001b[0mpass_inst\u001b[0m\u001b[0;34m,\u001b[0m \u001b[0mCompilerPass\u001b[0m\u001b[0;34m)\u001b[0m\u001b[0;34m:\u001b[0m\u001b[0;34m\u001b[0m\u001b[0;34m\u001b[0m\u001b[0m\n\u001b[0;32m--> 338\u001b[0;31m                     \u001b[0mself\u001b[0m\u001b[0;34m.\u001b[0m\u001b[0m_runPass\u001b[0m\u001b[0;34m(\u001b[0m\u001b[0midx\u001b[0m\u001b[0;34m,\u001b[0m \u001b[0mpass_inst\u001b[0m\u001b[0;34m,\u001b[0m \u001b[0mstate\u001b[0m\u001b[0;34m)\u001b[0m\u001b[0;34m\u001b[0m\u001b[0;34m\u001b[0m\u001b[0m\n\u001b[0m\u001b[1;32m    339\u001b[0m                 \u001b[0;32melse\u001b[0m\u001b[0;34m:\u001b[0m\u001b[0;34m\u001b[0m\u001b[0;34m\u001b[0m\u001b[0m\n\u001b[1;32m    340\u001b[0m                     \u001b[0;32mraise\u001b[0m \u001b[0mBaseException\u001b[0m\u001b[0;34m(\u001b[0m\u001b[0;34m\"Legacy pass in use\"\u001b[0m\u001b[0;34m)\u001b[0m\u001b[0;34m\u001b[0m\u001b[0;34m\u001b[0m\u001b[0m\n",
      "\u001b[0;32m~/miniconda3/lib/python3.7/site-packages/numba/compiler_lock.py\u001b[0m in \u001b[0;36m_acquire_compile_lock\u001b[0;34m(*args, **kwargs)\u001b[0m\n\u001b[1;32m     30\u001b[0m         \u001b[0;32mdef\u001b[0m \u001b[0m_acquire_compile_lock\u001b[0m\u001b[0;34m(\u001b[0m\u001b[0;34m*\u001b[0m\u001b[0margs\u001b[0m\u001b[0;34m,\u001b[0m \u001b[0;34m**\u001b[0m\u001b[0mkwargs\u001b[0m\u001b[0;34m)\u001b[0m\u001b[0;34m:\u001b[0m\u001b[0;34m\u001b[0m\u001b[0;34m\u001b[0m\u001b[0m\n\u001b[1;32m     31\u001b[0m             \u001b[0;32mwith\u001b[0m \u001b[0mself\u001b[0m\u001b[0;34m:\u001b[0m\u001b[0;34m\u001b[0m\u001b[0;34m\u001b[0m\u001b[0m\n\u001b[0;32m---> 32\u001b[0;31m                 \u001b[0;32mreturn\u001b[0m \u001b[0mfunc\u001b[0m\u001b[0;34m(\u001b[0m\u001b[0;34m*\u001b[0m\u001b[0margs\u001b[0m\u001b[0;34m,\u001b[0m \u001b[0;34m**\u001b[0m\u001b[0mkwargs\u001b[0m\u001b[0;34m)\u001b[0m\u001b[0;34m\u001b[0m\u001b[0;34m\u001b[0m\u001b[0m\n\u001b[0m\u001b[1;32m     33\u001b[0m         \u001b[0;32mreturn\u001b[0m \u001b[0m_acquire_compile_lock\u001b[0m\u001b[0;34m\u001b[0m\u001b[0;34m\u001b[0m\u001b[0m\n\u001b[1;32m     34\u001b[0m \u001b[0;34m\u001b[0m\u001b[0m\n",
      "\u001b[0;32m~/miniconda3/lib/python3.7/site-packages/numba/compiler_machinery.py\u001b[0m in \u001b[0;36m_runPass\u001b[0;34m(self, index, pss, internal_state)\u001b[0m\n\u001b[1;32m    300\u001b[0m             \u001b[0mmutated\u001b[0m \u001b[0;34m|=\u001b[0m \u001b[0mcheck\u001b[0m\u001b[0;34m(\u001b[0m\u001b[0mpss\u001b[0m\u001b[0;34m.\u001b[0m\u001b[0mrun_initialization\u001b[0m\u001b[0;34m,\u001b[0m \u001b[0minternal_state\u001b[0m\u001b[0;34m)\u001b[0m\u001b[0;34m\u001b[0m\u001b[0;34m\u001b[0m\u001b[0m\n\u001b[1;32m    301\u001b[0m         \u001b[0;32mwith\u001b[0m \u001b[0mSimpleTimer\u001b[0m\u001b[0;34m(\u001b[0m\u001b[0;34m)\u001b[0m \u001b[0;32mas\u001b[0m \u001b[0mpass_time\u001b[0m\u001b[0;34m:\u001b[0m\u001b[0;34m\u001b[0m\u001b[0;34m\u001b[0m\u001b[0m\n\u001b[0;32m--> 302\u001b[0;31m             \u001b[0mmutated\u001b[0m \u001b[0;34m|=\u001b[0m \u001b[0mcheck\u001b[0m\u001b[0;34m(\u001b[0m\u001b[0mpss\u001b[0m\u001b[0;34m.\u001b[0m\u001b[0mrun_pass\u001b[0m\u001b[0;34m,\u001b[0m \u001b[0minternal_state\u001b[0m\u001b[0;34m)\u001b[0m\u001b[0;34m\u001b[0m\u001b[0;34m\u001b[0m\u001b[0m\n\u001b[0m\u001b[1;32m    303\u001b[0m         \u001b[0;32mwith\u001b[0m \u001b[0mSimpleTimer\u001b[0m\u001b[0;34m(\u001b[0m\u001b[0;34m)\u001b[0m \u001b[0;32mas\u001b[0m \u001b[0mfinalize_time\u001b[0m\u001b[0;34m:\u001b[0m\u001b[0;34m\u001b[0m\u001b[0;34m\u001b[0m\u001b[0m\n\u001b[1;32m    304\u001b[0m             \u001b[0mmutated\u001b[0m \u001b[0;34m|=\u001b[0m \u001b[0mcheck\u001b[0m\u001b[0;34m(\u001b[0m\u001b[0mpss\u001b[0m\u001b[0;34m.\u001b[0m\u001b[0mrun_finalizer\u001b[0m\u001b[0;34m,\u001b[0m \u001b[0minternal_state\u001b[0m\u001b[0;34m)\u001b[0m\u001b[0;34m\u001b[0m\u001b[0;34m\u001b[0m\u001b[0m\n",
      "\u001b[0;32m~/miniconda3/lib/python3.7/site-packages/numba/compiler_machinery.py\u001b[0m in \u001b[0;36mcheck\u001b[0;34m(func, compiler_state)\u001b[0m\n\u001b[1;32m    273\u001b[0m \u001b[0;34m\u001b[0m\u001b[0m\n\u001b[1;32m    274\u001b[0m         \u001b[0;32mdef\u001b[0m \u001b[0mcheck\u001b[0m\u001b[0;34m(\u001b[0m\u001b[0mfunc\u001b[0m\u001b[0;34m,\u001b[0m \u001b[0mcompiler_state\u001b[0m\u001b[0;34m)\u001b[0m\u001b[0;34m:\u001b[0m\u001b[0;34m\u001b[0m\u001b[0;34m\u001b[0m\u001b[0m\n\u001b[0;32m--> 275\u001b[0;31m             \u001b[0mmangled\u001b[0m \u001b[0;34m=\u001b[0m \u001b[0mfunc\u001b[0m\u001b[0;34m(\u001b[0m\u001b[0mcompiler_state\u001b[0m\u001b[0;34m)\u001b[0m\u001b[0;34m\u001b[0m\u001b[0;34m\u001b[0m\u001b[0m\n\u001b[0m\u001b[1;32m    276\u001b[0m             \u001b[0;32mif\u001b[0m \u001b[0mmangled\u001b[0m \u001b[0;32mnot\u001b[0m \u001b[0;32min\u001b[0m \u001b[0;34m(\u001b[0m\u001b[0;32mTrue\u001b[0m\u001b[0;34m,\u001b[0m \u001b[0;32mFalse\u001b[0m\u001b[0;34m)\u001b[0m\u001b[0;34m:\u001b[0m\u001b[0;34m\u001b[0m\u001b[0;34m\u001b[0m\u001b[0m\n\u001b[1;32m    277\u001b[0m                 msg = (\"CompilerPass implementations should return True/False. \"\n",
      "\u001b[0;32m~/miniconda3/lib/python3.7/site-packages/numba/typed_passes.py\u001b[0m in \u001b[0;36mrun_pass\u001b[0;34m(self, state)\u001b[0m\n\u001b[1;32m     93\u001b[0m                 \u001b[0mstate\u001b[0m\u001b[0;34m.\u001b[0m\u001b[0mreturn_type\u001b[0m\u001b[0;34m,\u001b[0m\u001b[0;34m\u001b[0m\u001b[0;34m\u001b[0m\u001b[0m\n\u001b[1;32m     94\u001b[0m                 \u001b[0mstate\u001b[0m\u001b[0;34m.\u001b[0m\u001b[0mlocals\u001b[0m\u001b[0;34m,\u001b[0m\u001b[0;34m\u001b[0m\u001b[0;34m\u001b[0m\u001b[0m\n\u001b[0;32m---> 95\u001b[0;31m                 raise_errors=self._raise_errors)\n\u001b[0m\u001b[1;32m     96\u001b[0m             \u001b[0mstate\u001b[0m\u001b[0;34m.\u001b[0m\u001b[0mtypemap\u001b[0m \u001b[0;34m=\u001b[0m \u001b[0mtypemap\u001b[0m\u001b[0;34m\u001b[0m\u001b[0;34m\u001b[0m\u001b[0m\n\u001b[1;32m     97\u001b[0m             \u001b[0;32mif\u001b[0m \u001b[0mself\u001b[0m\u001b[0;34m.\u001b[0m\u001b[0m_raise_errors\u001b[0m\u001b[0;34m:\u001b[0m\u001b[0;34m\u001b[0m\u001b[0;34m\u001b[0m\u001b[0m\n",
      "\u001b[0;32m~/miniconda3/lib/python3.7/site-packages/numba/typed_passes.py\u001b[0m in \u001b[0;36mtype_inference_stage\u001b[0;34m(typingctx, interp, args, return_type, locals, raise_errors)\u001b[0m\n\u001b[1;32m     65\u001b[0m \u001b[0;34m\u001b[0m\u001b[0m\n\u001b[1;32m     66\u001b[0m         \u001b[0minfer\u001b[0m\u001b[0;34m.\u001b[0m\u001b[0mbuild_constraint\u001b[0m\u001b[0;34m(\u001b[0m\u001b[0;34m)\u001b[0m\u001b[0;34m\u001b[0m\u001b[0;34m\u001b[0m\u001b[0m\n\u001b[0;32m---> 67\u001b[0;31m         \u001b[0minfer\u001b[0m\u001b[0;34m.\u001b[0m\u001b[0mpropagate\u001b[0m\u001b[0;34m(\u001b[0m\u001b[0mraise_errors\u001b[0m\u001b[0;34m=\u001b[0m\u001b[0mraise_errors\u001b[0m\u001b[0;34m)\u001b[0m\u001b[0;34m\u001b[0m\u001b[0;34m\u001b[0m\u001b[0m\n\u001b[0m\u001b[1;32m     68\u001b[0m         \u001b[0mtypemap\u001b[0m\u001b[0;34m,\u001b[0m \u001b[0mrestype\u001b[0m\u001b[0;34m,\u001b[0m \u001b[0mcalltypes\u001b[0m \u001b[0;34m=\u001b[0m \u001b[0minfer\u001b[0m\u001b[0;34m.\u001b[0m\u001b[0munify\u001b[0m\u001b[0;34m(\u001b[0m\u001b[0mraise_errors\u001b[0m\u001b[0;34m=\u001b[0m\u001b[0mraise_errors\u001b[0m\u001b[0;34m)\u001b[0m\u001b[0;34m\u001b[0m\u001b[0;34m\u001b[0m\u001b[0m\n\u001b[1;32m     69\u001b[0m \u001b[0;34m\u001b[0m\u001b[0m\n",
      "\u001b[0;32m~/miniconda3/lib/python3.7/site-packages/numba/typeinfer.py\u001b[0m in \u001b[0;36mpropagate\u001b[0;34m(self, raise_errors)\u001b[0m\n\u001b[1;32m    983\u001b[0m                                   if isinstance(e, ForceLiteralArg)]\n\u001b[1;32m    984\u001b[0m                 \u001b[0;32mif\u001b[0m \u001b[0;32mnot\u001b[0m \u001b[0mforce_lit_args\u001b[0m\u001b[0;34m:\u001b[0m\u001b[0;34m\u001b[0m\u001b[0;34m\u001b[0m\u001b[0m\n\u001b[0;32m--> 985\u001b[0;31m                     \u001b[0;32mraise\u001b[0m \u001b[0merrors\u001b[0m\u001b[0;34m[\u001b[0m\u001b[0;36m0\u001b[0m\u001b[0;34m]\u001b[0m\u001b[0;34m\u001b[0m\u001b[0;34m\u001b[0m\u001b[0m\n\u001b[0m\u001b[1;32m    986\u001b[0m                 \u001b[0;32melse\u001b[0m\u001b[0;34m:\u001b[0m\u001b[0;34m\u001b[0m\u001b[0;34m\u001b[0m\u001b[0m\n\u001b[1;32m    987\u001b[0m                     \u001b[0;32mraise\u001b[0m \u001b[0mreduce\u001b[0m\u001b[0;34m(\u001b[0m\u001b[0moperator\u001b[0m\u001b[0;34m.\u001b[0m\u001b[0mor_\u001b[0m\u001b[0;34m,\u001b[0m \u001b[0mforce_lit_args\u001b[0m\u001b[0;34m)\u001b[0m\u001b[0;34m\u001b[0m\u001b[0;34m\u001b[0m\u001b[0m\n",
      "\u001b[0;31mTypingError\u001b[0m: Failed in nopython mode pipeline (step: nopython frontend)\nInvalid use of Function(<built-in function zeros>) with argument(s) of type(s): (int64, dtype=Literal[str](int16))\n * parameterized\nIn definition 0:\n    All templates rejected with literals.\nIn definition 1:\n    All templates rejected without literals.\nThis error is usually caused by passing an argument of a type that is unsupported by the named function.\n[1] During: resolving callee type: Function(<built-in function zeros>)\n[2] During: typing of call at /home/ak20/QH/QH_ED/hilbert.py (153)\n\n\nFile \"hilbert.py\", line 153:\n    def get_sector_id(states, Nphi):\n        <source elided>\n        NphiArr = np.arange(Nphi)\n        sectorArr = np.zeros(Nh, dtype='int16')\n        ^\n"
     ]
    }
   ],
   "source": [
    "import hilbert"
   ]
  },
  {
   "cell_type": "code",
   "execution_count": null,
   "metadata": {},
   "outputs": [],
   "source": []
  }
 ],
 "metadata": {
  "kernelspec": {
   "display_name": "Python [conda env:root]",
   "language": "python",
   "name": "conda-root-py"
  },
  "language_info": {
   "codemirror_mode": {
    "name": "ipython",
    "version": 3
   },
   "file_extension": ".py",
   "mimetype": "text/x-python",
   "name": "python",
   "nbconvert_exporter": "python",
   "pygments_lexer": "ipython3",
   "version": "3.7.4"
  }
 },
 "nbformat": 4,
 "nbformat_minor": 4
}

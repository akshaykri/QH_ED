{
 "cells": [
  {
   "cell_type": "code",
   "execution_count": 1,
   "metadata": {},
   "outputs": [],
   "source": [
    "a=2"
   ]
  },
  {
   "cell_type": "code",
   "execution_count": 2,
   "metadata": {},
   "outputs": [],
   "source": [
    "import numpy as np\n",
    "import numba\n",
    "import scipy.sparse as ssp\n",
    "import scipy.stats\n",
    "import time\n",
    "import sys\n",
    "import pdb\n",
    "from functools import partial\n",
    "# %load_ext line_profiler\n",
    "%load_ext autoreload\n",
    "import matplotlib.pyplot as plt\n",
    "plt.rc('text', usetex=True)"
   ]
  },
  {
   "cell_type": "markdown",
   "metadata": {},
   "source": [
    "## NUMBA EXPERIMENTS"
   ]
  },
  {
   "cell_type": "code",
   "execution_count": 1,
   "metadata": {},
   "outputs": [],
   "source": [
    "from QH_ED import landau\n",
    "from QH_ED import utils\n",
    "from QH_ED import hilbert\n",
    "from QH_ED import observables\n",
    "from functools import partial"
   ]
  },
  {
   "cell_type": "code",
   "execution_count": 38,
   "metadata": {},
   "outputs": [],
   "source": [
    "Nphi = 24\n",
    "Ne = 8\n",
    "Nth = 4 # numer of threads for parallelization\n",
    "torus1 = landau.Torus(Nphi, aspect_ratio=1.0)\n",
    "vParams = {'power': (1.0, {'n': 0, 'x': 5.0})} # Coulomb power law, Gaussian cut-off\n",
    "hamParams = {'alpha': 1.0, 'n': 0, 'Nphi': Nphi} # mass anisotropy, Landau level index"
   ]
  },
  {
   "cell_type": "code",
   "execution_count": 39,
   "metadata": {},
   "outputs": [],
   "source": [
    "pot1 = landau.Potential(torus=torus1, vParams=vParams, hamParams=hamParams)\n",
    "pot1.setV2()\n",
    "T4 = np.real(utils.Utils.make4tensorsym(torus1, pot1.V2))\n",
    "\n",
    "hilb = [None]*Ne\n",
    "hilbLen = [None]*Ne\n",
    "dictx = [None]*Ne\n",
    "\n",
    "for sector in range(Ne):\n",
    "    hilb[sector], hilbLen[sector] = utils.Utils.getHilb(Nphi, Ne, sector)\n",
    "    dictx[sector] = hilbert.getDict(hilb[sector])"
   ]
  },
  {
   "cell_type": "code",
   "execution_count": 40,
   "metadata": {},
   "outputs": [],
   "source": [
    "## test if matvec is the same as mat\n",
    "E_all = [None]*Ne\n",
    "V_all = [None]*Ne\n",
    "\n",
    "# E_all_shell = [None]*Ne\n",
    "# V_all_shell = [None]*Ne\n",
    "\n",
    "for sector in range(Ne):\n",
    "    NH = len(hilb[sector])\n",
    "    dij = hilbert.getMatAux(Nphi, Ne, NH, hilb[sector], hilbLen[sector], T4, dictx[sector], Nth)\n",
    "    HMat = hilbert.dijToCsr(dij, NH)\n",
    "    E_all[sector], V_all[sector] = scipy.sparse.linalg.eigsh(HMat, k=16, which='SA')\n",
    "    \n",
    "#     newMatVec = partial(hilbert.getMatVec, Nphi=Nphi, Ne=Ne, NH=NH, hilb=hilb[sector], \n",
    "#                         hilbLen=hilbLen[sector], T4=T4, dictx=dictx[sector])\n",
    "#     HA = ssp.linalg.LinearOperator((NH, NH), matvec=newMatVec)\n",
    "    \n",
    "#     E_all_shell[sector], V_all_shell[sector] = scipy.sparse.linalg.eigsh(HA, k=6, which='SA')"
   ]
  },
  {
   "cell_type": "code",
   "execution_count": 41,
   "metadata": {},
   "outputs": [
    {
     "data": {
      "text/plain": [
       "[array([-0.55967752, -0.55925689, -0.55894692, -0.55712233, -0.55712233,\n",
       "        -0.55536174, -0.55515746, -0.55515746, -0.55360146, -0.55352729,\n",
       "        -0.55352729, -0.55286499, -0.55286499, -0.5524807 , -0.55131859,\n",
       "        -0.55131859]),\n",
       " array([-0.55715115, -0.55715115, -0.55644821, -0.55644821, -0.55527713,\n",
       "        -0.55421289, -0.55421289, -0.55352729, -0.55285102, -0.55219971,\n",
       "        -0.55219971, -0.55183791, -0.55183791, -0.55131761, -0.55131761,\n",
       "        -0.55069115]),\n",
       " array([-0.55845145, -0.55712233, -0.55640261, -0.55640261, -0.55558444,\n",
       "        -0.55515746, -0.55462759, -0.55462759, -0.55445842, -0.55445842,\n",
       "        -0.55421289, -0.55421289, -0.5534591 , -0.552612  , -0.552612  ,\n",
       "        -0.55131761]),\n",
       " array([-0.55715115, -0.55715115, -0.5556405 , -0.55462759, -0.55462759,\n",
       "        -0.55388498, -0.55388498, -0.55286499, -0.55274146, -0.552612  ,\n",
       "        -0.552612  , -0.55219971, -0.55219971, -0.55131859, -0.55125073,\n",
       "        -0.55125073]),\n",
       " array([-0.56344631, -0.56039144, -0.55967752, -0.55901744, -0.55894692,\n",
       "        -0.55845145, -0.55845145, -0.55725675, -0.5556405 , -0.5556405 ,\n",
       "        -0.55558444, -0.55558444, -0.55527713, -0.55527713, -0.5534591 ,\n",
       "        -0.5534591 ]),\n",
       " array([-0.55715115, -0.55715115, -0.5556405 , -0.55462759, -0.55462759,\n",
       "        -0.55388498, -0.55388498, -0.55286499, -0.55274146, -0.552612  ,\n",
       "        -0.552612  , -0.55219971, -0.55219971, -0.55131859, -0.55125073,\n",
       "        -0.55125073]),\n",
       " array([-0.55845145, -0.55712233, -0.55640261, -0.55640261, -0.55558444,\n",
       "        -0.55515746, -0.55462759, -0.55462759, -0.55445842, -0.55445842,\n",
       "        -0.55421289, -0.55421289, -0.5534591 , -0.552612  , -0.552612  ,\n",
       "        -0.55131761]),\n",
       " array([-0.55715115, -0.55715115, -0.55644821, -0.55644821, -0.55527713,\n",
       "        -0.55421289, -0.55421289, -0.55352729, -0.55285102, -0.55219971,\n",
       "        -0.55219971, -0.55183791, -0.55183791, -0.55131761, -0.55131761,\n",
       "        -0.55069115])]"
      ]
     },
     "execution_count": 41,
     "metadata": {},
     "output_type": "execute_result"
    }
   ],
   "source": [
    "E_all#, E_all_shell"
   ]
  },
  {
   "cell_type": "code",
   "execution_count": 7,
   "metadata": {},
   "outputs": [
    {
     "data": {
      "text/plain": [
       "-0.11381495632932992"
      ]
     },
     "execution_count": 7,
     "metadata": {},
     "output_type": "execute_result"
    }
   ],
   "source": [
    "(E_all[0][0])/Ne"
   ]
  },
  {
   "cell_type": "code",
   "execution_count": 8,
   "metadata": {},
   "outputs": [
    {
     "data": {
      "text/plain": [
       "(0.23408183057230375-7.837314966011835e-33j)"
      ]
     },
     "execution_count": 8,
     "metadata": {},
     "output_type": "execute_result"
    }
   ],
   "source": [
    "np.sum((pot1.V2))"
   ]
  },
  {
   "cell_type": "markdown",
   "metadata": {},
   "source": [
    "## SPEED TESTS"
   ]
  },
  {
   "cell_type": "code",
   "execution_count": 42,
   "metadata": {},
   "outputs": [],
   "source": [
    "t1 = time.time()\n",
    "Nphi = 24\n",
    "Ne = 8\n",
    "sector = 4\n",
    "Nth = 4\n",
    "\n",
    "torus1 = landau.Torus(Nphi, aspect_ratio=5.0)\n",
    "hamParams = {'alpha': 1.0, 'n': 0, 'Nphi': Nphi} # mass anisotropy, Landau level index\n",
    "vParams = {'power': (1.0, {'n': 1, 'x': np.inf})} # Coulomb power law, Gaussian cut-off\n",
    "vParams = {'haldane': (1.0, {'Vm': [0, 1]})} # Haldane pseudopotential\n",
    "\n",
    "pot1 = landau.Potential(torus=torus1, vParams=vParams, hamParams=hamParams)\n",
    "pot1.setV2()\n",
    "T4 = np.real(utils.Utils.make4tensorsym(torus1, pot1.V2))\n",
    "\n",
    "hilb_s, hilbLen_s = utils.Utils.getHilb(Nphi, Ne, sector)\n",
    "dictx = hilbert.getDict(hilb_s)\n",
    "NH = len(hilb_s)\n",
    "###########\n",
    "t2 = time.time()\n",
    "\n",
    "dij = hilbert.getMatAux(Nphi, Ne, NH, hilb_s, hilbLen_s, T4, dictx, Nth)\n",
    "t2b = time.time()\n",
    "HMat = hilbert.dijToCsr(dij, NH)\n",
    "###########\n",
    "t3 = time.time()\n",
    "newMatVec = partial(hilbert.getMatVec, Nphi=Nphi, Ne=Ne, NH=len(hilb_s), hilb=hilb_s, \n",
    "                    hilbLen=hilbLen_s, T4=T4, dictx=dictx)\n",
    "HA = ssp.linalg.LinearOperator((NH, NH), matvec=newMatVec)\n",
    "###########\n",
    "t4 = time.time()\n",
    "npOnes = np.ones(sum(hilbLen_s))"
   ]
  },
  {
   "cell_type": "code",
   "execution_count": 43,
   "metadata": {},
   "outputs": [],
   "source": [
    "# hilbert.getMatAux.parallel_diagnostics(level=2)"
   ]
  },
  {
   "cell_type": "code",
   "execution_count": 44,
   "metadata": {},
   "outputs": [
    {
     "name": "stdout",
     "output_type": "stream",
     "text": [
      "0.024280309677124023\n",
      "3.8479976654052734\n",
      "0.354748010635376\n",
      "0.6269369125366211\n"
     ]
    }
   ],
   "source": [
    "print(t2 - t1)\n",
    "print(t2b - t2)\n",
    "print(t3 - t2b)\n",
    "print(t4 - t3)"
   ]
  },
  {
   "cell_type": "code",
   "execution_count": 45,
   "metadata": {},
   "outputs": [
    {
     "name": "stdout",
     "output_type": "stream",
     "text": [
      "0.652733325958252\n",
      "0.0061724185943603516\n"
     ]
    }
   ],
   "source": [
    "t1 = time.time()\n",
    "v1 = HMat.dot(npOnes)\n",
    "t2 = time.time()\n",
    "v2 = newMatVec(npOnes)\n",
    "t3 = time.time()\n",
    "print(t3 - t2)\n",
    "print(t2 - t1)"
   ]
  },
  {
   "cell_type": "code",
   "execution_count": 46,
   "metadata": {},
   "outputs": [
    {
     "data": {
      "text/plain": [
       "8.881784197001252e-15"
      ]
     },
     "execution_count": 46,
     "metadata": {},
     "output_type": "execute_result"
    }
   ],
   "source": [
    "np.max(np.abs(v1-v2))"
   ]
  },
  {
   "cell_type": "code",
   "execution_count": 47,
   "metadata": {},
   "outputs": [
    {
     "name": "stdout",
     "output_type": "stream",
     "text": [
      "111.86066198348999\n",
      "5.5789947509765625e-05\n"
     ]
    }
   ],
   "source": [
    "t1 = time.time()\n",
    "Exx, Vxx = ssp.linalg.eigsh(HMat, k=6, which='SA')\n",
    "t2 = time.time()\n",
    "# Eyy, Vyy = ssp.linalg.eigsh(HA, k=6, which='SA')\n",
    "t3 = time.time()\n",
    "print(t2 - t1)\n",
    "print(t3 - t2)"
   ]
  },
  {
   "cell_type": "code",
   "execution_count": 48,
   "metadata": {},
   "outputs": [
    {
     "data": {
      "text/plain": [
       "array([-2.33333333, -1.3329657 , -1.33296429, -1.3329609 , -1.3329575 ,\n",
       "       -1.33295609])"
      ]
     },
     "execution_count": 48,
     "metadata": {},
     "output_type": "execute_result"
    }
   ],
   "source": [
    "Exx"
   ]
  },
  {
   "cell_type": "code",
   "execution_count": 49,
   "metadata": {},
   "outputs": [
    {
     "data": {
      "text/plain": [
       "[<matplotlib.lines.Line2D at 0x2aba73f5fd50>]"
      ]
     },
     "execution_count": 49,
     "metadata": {},
     "output_type": "execute_result"
    },
    {
     "data": {
      "image/png": "[encoded data removed]",
      "text/plain": [
       "<Figure size 432x288 with 1 Axes>"
      ]
     },
     "metadata": {
      "needs_background": "light"
     },
     "output_type": "display_data"
    }
   ],
   "source": [
    "f, ax = plt.subplots()\n",
    "ax.plot(Vxx[:, 0]**2)"
   ]
  },
  {
   "cell_type": "code",
   "execution_count": 50,
   "metadata": {},
   "outputs": [
    {
     "data": {
      "text/plain": [
       "0.6985612008103124"
      ]
     },
     "execution_count": 50,
     "metadata": {},
     "output_type": "execute_result"
    }
   ],
   "source": [
    "Vxx[23675, 0]**2"
   ]
  },
  {
   "cell_type": "code",
   "execution_count": 51,
   "metadata": {},
   "outputs": [],
   "source": [
    "CDWx = np.array([ 0,  3,  6,  9, 12, 15, 18, 21])+2"
   ]
  },
  {
   "cell_type": "code",
   "execution_count": 52,
   "metadata": {},
   "outputs": [
    {
     "data": {
      "text/plain": [
       "23675"
      ]
     },
     "execution_count": 52,
     "metadata": {},
     "output_type": "execute_result"
    }
   ],
   "source": [
    "dictx[np.sum(2**CDWx)]"
   ]
  },
  {
   "cell_type": "markdown",
   "metadata": {},
   "source": [
    "## Expectation values"
   ]
  },
  {
   "cell_type": "code",
   "execution_count": 53,
   "metadata": {},
   "outputs": [],
   "source": [
    "hilbObj1 = hilbert.Hilbert(Nphi=Nphi, Ne=Ne, NH=NH, hilb=hilb_s, hilbLen=hilbLen_s, dictx=dictx)"
   ]
  },
  {
   "cell_type": "code",
   "execution_count": 54,
   "metadata": {},
   "outputs": [],
   "source": [
    "obs1 = observables.Observables(torus1, hamParams, hilbObj1)"
   ]
  },
  {
   "cell_type": "code",
   "execution_count": 55,
   "metadata": {},
   "outputs": [],
   "source": [
    "nX = 30\n",
    "x_diag = 0.5 * np.arange(nX+1) * torus1.Lx / nX\n",
    "r_arr = np.c_[x_diag, x_diag]\n",
    "gRdiag = obs1.gr(r_arr, Vxx[:, 0])\n"
   ]
  },
  {
   "cell_type": "code",
   "execution_count": 56,
   "metadata": {},
   "outputs": [
    {
     "data": {
      "text/plain": [
       "[<matplotlib.lines.Line2D at 0x2aba254fcb10>]"
      ]
     },
     "execution_count": 56,
     "metadata": {},
     "output_type": "execute_result"
    },
    {
     "data": {
      "image/png": "[encoded data removed]",
      "text/plain": [
       "<Figure size 288x216 with 1 Axes>"
      ]
     },
     "metadata": {
      "needs_background": "light"
     },
     "output_type": "display_data"
    }
   ],
   "source": [
    "f, ax = plt.subplots(figsize=(4,3))\n",
    "ax.plot(x_diag, gRdiag)"
   ]
  },
  {
   "cell_type": "code",
   "execution_count": 57,
   "metadata": {},
   "outputs": [
    {
     "name": "stdout",
     "output_type": "stream",
     "text": [
      "316.09766697883606\n"
     ]
    }
   ],
   "source": [
    "nX = 10\n",
    "nY = 40\n",
    "t1 = time.time()\n",
    "gR1 = obs1.grAux(nX, nY, Vxx[:, 0])\n",
    "t2 = time.time()\n",
    "print(t2 - t1)"
   ]
  },
  {
   "cell_type": "code",
   "execution_count": 58,
   "metadata": {},
   "outputs": [
    {
     "data": {
      "text/plain": [
       "(5.491747397182614, 27.458736985913067)"
      ]
     },
     "execution_count": 58,
     "metadata": {},
     "output_type": "execute_result"
    }
   ],
   "source": [
    "torus1.Lx, torus1.Ly"
   ]
  },
  {
   "cell_type": "code",
   "execution_count": 59,
   "metadata": {},
   "outputs": [
    {
     "ename": "NameError",
     "evalue": "name 'im2' is not defined",
     "output_type": "error",
     "traceback": [
      "\u001b[0;31m---------------------------------------------------------------------------\u001b[0m",
      "\u001b[0;31mNameError\u001b[0m                                 Traceback (most recent call last)",
      "\u001b[0;32m<ipython-input-59-77a4820dd0d2>\u001b[0m in \u001b[0;36m<module>\u001b[0;34m\u001b[0m\n\u001b[1;32m     27\u001b[0m \u001b[0;34m\u001b[0m\u001b[0m\n\u001b[1;32m     28\u001b[0m \u001b[0mf\u001b[0m\u001b[0;34m.\u001b[0m\u001b[0mcolorbar\u001b[0m\u001b[0;34m(\u001b[0m\u001b[0mim1\u001b[0m\u001b[0;34m,\u001b[0m \u001b[0mcax\u001b[0m\u001b[0;34m=\u001b[0m\u001b[0mcax\u001b[0m\u001b[0;34m)\u001b[0m\u001b[0;34m\u001b[0m\u001b[0;34m\u001b[0m\u001b[0m\n\u001b[0;32m---> 29\u001b[0;31m \u001b[0mf\u001b[0m\u001b[0;34m.\u001b[0m\u001b[0mcolorbar\u001b[0m\u001b[0;34m(\u001b[0m\u001b[0mim2\u001b[0m\u001b[0;34m,\u001b[0m \u001b[0mcax\u001b[0m\u001b[0;34m=\u001b[0m\u001b[0mcbx\u001b[0m\u001b[0;34m)\u001b[0m\u001b[0;34m\u001b[0m\u001b[0;34m\u001b[0m\u001b[0m\n\u001b[0m\u001b[1;32m     30\u001b[0m \u001b[0mf\u001b[0m\u001b[0;34m.\u001b[0m\u001b[0mtight_layout\u001b[0m\u001b[0;34m(\u001b[0m\u001b[0;34m)\u001b[0m\u001b[0;34m\u001b[0m\u001b[0;34m\u001b[0m\u001b[0m\n\u001b[1;32m     31\u001b[0m \u001b[0;31m# f.savefig('/home/ak20/QH/plots/grSk_Nphi24_Ne8_ar1.pdf')\u001b[0m\u001b[0;34m\u001b[0m\u001b[0;34m\u001b[0m\u001b[0;34m\u001b[0m\u001b[0m\n",
      "\u001b[0;31mNameError\u001b[0m: name 'im2' is not defined"
     ]
    },
    {
     "data": {
      "image/png": "[encoded data removed]",
      "text/plain": [
       "<Figure size 432x288 with 3 Axes>"
      ]
     },
     "metadata": {
      "needs_background": "light"
     },
     "output_type": "display_data"
    }
   ],
   "source": [
    "from mpl_toolkits.axes_grid1 import make_axes_locatable\n",
    "interp = 'gaussian'\n",
    "\n",
    "f, (ax, bx) = plt.subplots(1, 2, figsize=(6, 4))\n",
    "im1 = ax.imshow(gR1.T, interpolation=interp, extent=[0, torus1.Lx, 0, torus1.Ly])\n",
    "\n",
    "ax.set_xlabel(r'$x / l_B$')\n",
    "ax.set_ylabel(r'$y / l_B$')\n",
    "divider = make_axes_locatable(ax)\n",
    "cax = divider.append_axes(\"right\", size=\"10%\", pad=0.15)\n",
    "ax.set_title(r'$g(r)$')\n",
    "\n",
    "# poop = Sk + Sk[:, ::-1]\n",
    "# im2 = bx.imshow(np.abs(poop.T), interpolation=interp, extent=[kx[0], kx[-1], ky[0], ky[-1]])\n",
    "# bx.set_xlabel(r'$k_x$')\n",
    "# bx.set_ylabel(r'$k_y$')\n",
    "# divider = make_axes_locatable(bx)\n",
    "# cbx = divider.append_axes(\"right\", size=\"10%\", pad=0.15)\n",
    "# bx.set_title(r'$S(k)$')\n",
    "\n",
    "# bx.plot(np.sqrt(torus1.Lx**2 + torus1.Ly**2) * np.arange(gR1.shape[0])/(gR1.shape[0] - 1),\n",
    "#         np.diag(gR1))\n",
    "# bx.set_xlim(0, np.sqrt(torus1.Lx**2 + torus1.Ly**2)/2)\n",
    "# bx.set_ylim(0)\n",
    "# bx.set_xlabel(r'$r/l_B$')\n",
    "# bx.set_ylabel(r'$g(r)$')\n",
    "\n",
    "f.colorbar(im1, cax=cax)\n",
    "f.colorbar(im2, cax=cbx)\n",
    "f.tight_layout()\n",
    "# f.savefig('/home/ak20/QH/plots/grSk_Nphi24_Ne8_ar1.pdf')"
   ]
  },
  {
   "cell_type": "code",
   "execution_count": 65,
   "metadata": {},
   "outputs": [
    {
     "data": {
      "text/plain": [
       "[<matplotlib.lines.Line2D at 0x2aba1e752c50>]"
      ]
     },
     "execution_count": 65,
     "metadata": {},
     "output_type": "execute_result"
    },
    {
     "data": {
      "image/png": "[encoded data removed]",
      "text/plain": [
       "<Figure size 432x288 with 1 Axes>"
      ]
     },
     "metadata": {
      "needs_background": "light"
     },
     "output_type": "display_data"
    }
   ],
   "source": [
    "plt.plot(gR1[0,:41])\n"
   ]
  },
  {
   "cell_type": "code",
   "execution_count": 136,
   "metadata": {},
   "outputs": [],
   "source": [
    "x_arr = 0.5 * np.arange(2*nX+1) * torus1.Lx / nX\n",
    "y_arr = 0.5 * np.arange(2*nY+1) * torus1.Ly / nY\n",
    "kx, ky, _ = torus1.get_karr()"
   ]
  },
  {
   "cell_type": "code",
   "execution_count": 135,
   "metadata": {},
   "outputs": [
    {
     "data": {
      "text/plain": [
       "(41, 41)"
      ]
     },
     "execution_count": 135,
     "metadata": {},
     "output_type": "execute_result"
    }
   ],
   "source": [
    "gR1.shape"
   ]
  },
  {
   "cell_type": "code",
   "execution_count": 137,
   "metadata": {},
   "outputs": [],
   "source": [
    "r_grid = np.meshgrid(x_arr, y_arr)"
   ]
  },
  {
   "cell_type": "code",
   "execution_count": 138,
   "metadata": {},
   "outputs": [
    {
     "data": {
      "text/plain": [
       "(41, 41)"
      ]
     },
     "execution_count": 138,
     "metadata": {},
     "output_type": "execute_result"
    }
   ],
   "source": [
    "r_grid[0].shape"
   ]
  },
  {
   "cell_type": "code",
   "execution_count": 139,
   "metadata": {},
   "outputs": [],
   "source": [
    "x_grid = r_grid[0].T\n",
    "y_grid = r_grid[1].T"
   ]
  },
  {
   "cell_type": "code",
   "execution_count": 141,
   "metadata": {},
   "outputs": [],
   "source": [
    "def expK(kx_val, ky_val):\n",
    "    return np.exp(1j*kx_val*x_grid) * np.exp(1j*ky_val*y_grid)"
   ]
  },
  {
   "cell_type": "code",
   "execution_count": 72,
   "metadata": {},
   "outputs": [],
   "source": [
    "fofxy = expK(kx[10], ky[10]) * gR1"
   ]
  },
  {
   "cell_type": "code",
   "execution_count": 140,
   "metadata": {},
   "outputs": [],
   "source": [
    "rho0 = 1/(2*np.pi*3)\n",
    "kx = np.r_[-4:4:31j]\n",
    "ky = np.r_[-4:4:31j]"
   ]
  },
  {
   "cell_type": "code",
   "execution_count": 95,
   "metadata": {},
   "outputs": [
    {
     "data": {
      "text/plain": [
       "array([-4.        , -3.73333333, -3.46666667, -3.2       , -2.93333333,\n",
       "       -2.66666667, -2.4       , -2.13333333, -1.86666667, -1.6       ,\n",
       "       -1.33333333, -1.06666667, -0.8       , -0.53333333, -0.26666667,\n",
       "        0.        ,  0.26666667,  0.53333333,  0.8       ,  1.06666667,\n",
       "        1.33333333,  1.6       ,  1.86666667,  2.13333333,  2.4       ,\n",
       "        2.66666667,  2.93333333,  3.2       ,  3.46666667,  3.73333333,\n",
       "        4.        ])"
      ]
     },
     "execution_count": 95,
     "metadata": {},
     "output_type": "execute_result"
    }
   ],
   "source": [
    "kx"
   ]
  },
  {
   "cell_type": "code",
   "execution_count": 110,
   "metadata": {},
   "outputs": [
    {
     "data": {
      "text/plain": [
       "array([[0.97402294, 0.94632414, 0.93440095, 0.94632414, 0.97402294],\n",
       "       [0.86286514, 0.54832764, 0.33355991, 0.54832764, 0.86286514],\n",
       "       [0.9173966 , 0.50385709, 0.        , 0.50385709, 0.9173966 ],\n",
       "       [0.86286514, 0.54832764, 0.33355991, 0.54832764, 0.86286514],\n",
       "       [0.97402294, 0.94632414, 0.93440095, 0.94632414, 0.97402294]])"
      ]
     },
     "execution_count": 110,
     "metadata": {},
     "output_type": "execute_result"
    }
   ],
   "source": [
    "poop = Sk[13:18, 13:18]\n",
    "poop[2,2] = 0\n",
    "np.abs(poop + poop[::-1, :])/2"
   ]
  },
  {
   "cell_type": "code",
   "execution_count": 142,
   "metadata": {},
   "outputs": [],
   "source": [
    "Sk = np.zeros((len(kx), len(ky)), dtype='complex128')\n",
    "for ckx, kxval in enumerate(kx):\n",
    "    for cky, kyval in enumerate(ky):\n",
    "        fofxy = expK(kxval, kyval) * (gR1 - 1)\n",
    "        \n",
    "        Sk[ckx, cky] = 1 + rho0 *scipy.integrate.simps(np.array([scipy.integrate.simps(\n",
    "                        fofxy[:, i], x_arr) for i in range(2*nY+1)]), y_arr)"
   ]
  },
  {
   "cell_type": "code",
   "execution_count": 88,
   "metadata": {},
   "outputs": [
    {
     "data": {
      "text/plain": [
       "<matplotlib.image.AxesImage at 0x2b9eed446910>"
      ]
     },
     "execution_count": 88,
     "metadata": {},
     "output_type": "execute_result"
    },
    {
     "data": {
      "image/png": "[encoded data removed]",
      "text/plain": [
       "<Figure size 432x288 with 1 Axes>"
      ]
     },
     "metadata": {
      "needs_background": "light"
     },
     "output_type": "display_data"
    }
   ],
   "source": [
    "plt.imshow(np.real((Sk[60:105, 60:105])))"
   ]
  },
  {
   "cell_type": "code",
   "execution_count": 67,
   "metadata": {},
   "outputs": [
    {
     "data": {
      "text/plain": [
       "array([0.00000000e+00, 3.14107591e-02, 6.27905195e-02, 9.41083133e-02,\n",
       "       1.25333234e-01, 1.56434465e-01, 1.87381315e-01, 2.18143241e-01,\n",
       "       2.48689887e-01, 2.78991106e-01, 3.09016994e-01, 3.38737920e-01,\n",
       "       3.68124553e-01, 3.97147891e-01, 4.25779292e-01, 4.53990500e-01,\n",
       "       4.81753674e-01, 5.09041416e-01, 5.35826795e-01, 5.62083378e-01,\n",
       "       5.87785252e-01, 6.12907054e-01, 6.37423990e-01, 6.61311865e-01,\n",
       "       6.84547106e-01, 7.07106781e-01, 7.28968627e-01, 7.50111070e-01,\n",
       "       7.70513243e-01, 7.90155012e-01, 8.09016994e-01, 8.27080574e-01,\n",
       "       8.44327926e-01, 8.60742027e-01, 8.76306680e-01, 8.91006524e-01,\n",
       "       9.04827052e-01, 9.17754626e-01, 9.29776486e-01, 9.40880769e-01,\n",
       "       9.51056516e-01, 9.60293686e-01, 9.68583161e-01, 9.75916762e-01,\n",
       "       9.82287251e-01, 9.87688341e-01, 9.92114701e-01, 9.95561965e-01,\n",
       "       9.98026728e-01, 9.99506560e-01, 1.00000000e+00, 9.99506560e-01,\n",
       "       9.98026728e-01, 9.95561965e-01, 9.92114701e-01, 9.87688341e-01,\n",
       "       9.82287251e-01, 9.75916762e-01, 9.68583161e-01, 9.60293686e-01,\n",
       "       9.51056516e-01, 9.40880769e-01, 9.29776486e-01, 9.17754626e-01,\n",
       "       9.04827052e-01, 8.91006524e-01, 8.76306680e-01, 8.60742027e-01,\n",
       "       8.44327926e-01, 8.27080574e-01, 8.09016994e-01, 7.90155012e-01,\n",
       "       7.70513243e-01, 7.50111070e-01, 7.28968627e-01, 7.07106781e-01,\n",
       "       6.84547106e-01, 6.61311865e-01, 6.37423990e-01, 6.12907054e-01,\n",
       "       5.87785252e-01, 5.62083378e-01, 5.35826795e-01, 5.09041416e-01,\n",
       "       4.81753674e-01, 4.53990500e-01, 4.25779292e-01, 3.97147891e-01,\n",
       "       3.68124553e-01, 3.38737920e-01, 3.09016994e-01, 2.78991106e-01,\n",
       "       2.48689887e-01, 2.18143241e-01, 1.87381315e-01, 1.56434465e-01,\n",
       "       1.25333234e-01, 9.41083133e-02, 6.27905195e-02, 3.14107591e-02,\n",
       "       1.22464680e-16])"
      ]
     },
     "execution_count": 67,
     "metadata": {},
     "output_type": "execute_result"
    }
   ],
   "source": [
    "np.sin(np.r_[0:np.pi:101j])"
   ]
  },
  {
   "cell_type": "code",
   "execution_count": 70,
   "metadata": {},
   "outputs": [
    {
     "data": {
      "text/plain": [
       "2.000000010824504"
      ]
     },
     "execution_count": 70,
     "metadata": {},
     "output_type": "execute_result"
    }
   ],
   "source": [
    "scipy.integrate.simps(np.sin(np.r_[0:np.pi:101j]), np.r_[0:np.pi:101j])"
   ]
  },
  {
   "cell_type": "code",
   "execution_count": null,
   "metadata": {},
   "outputs": [],
   "source": [
    "kx, ky"
   ]
  },
  {
   "cell_type": "code",
   "execution_count": 35,
   "metadata": {},
   "outputs": [
    {
     "data": {
      "text/plain": [
       "Timer unit: 1e-06 s\n",
       "\n",
       "Total time: 2.78016 s\n",
       "File: /home/ak20/QH/QH_ED/QH_ED/observables.py\n",
       "Function: gr at line 24\n",
       "\n",
       "Line #      Hits         Time  Per Hit   % Time  Line Contents\n",
       "==============================================================\n",
       "    24                                               def gr(self, nX, nY, V):\n",
       "    25                                                   \"\"\"\n",
       "    26                                                   pair correlation function\n",
       "    27                                                   \n",
       "    28                                                   inputs:\n",
       "    29                                                   ---------\n",
       "    30                                                   nX  : int, number of points along x-direction of torus\n",
       "    31                                                   nY  : int, number of points along y-direction of torus\n",
       "    32                                                   V   : np.array, eigenvector\n",
       "    33                                                   \n",
       "    34                                                   outputs:\n",
       "    35                                                   ---------\n",
       "    36                                                   g(r): over \n",
       "    37                                                   \"\"\"\n",
       "    38                                           \n",
       "    39         1        267.0    267.0      0.0          kx, ky, mmax = self.torus.get_karr()\n",
       "    40         1         26.0     26.0      0.0          X_arr = np.arange(nX) * self.torus.Lx / nX\n",
       "    41         1         13.0     13.0      0.0          Y_arr = np.arange(nY) * self.torus.Ly / nY\n",
       "    42         1          2.0      2.0      0.0          Nth = 4\n",
       "    43                                                   \n",
       "    44         1          5.0      5.0      0.0          grOut = np.zeros((len(X_arr), len(Y_arr)))\n",
       "    45                                                   \n",
       "    46         3          8.0      2.7      0.0          for cX, X in enumerate(X_arr):\n",
       "    47         6         43.0      7.2      0.0              for cY, Y in enumerate(Y_arr):\n",
       "    48                                                           \n",
       "    49         4         10.0      2.5      0.0                  vDeltaParams = {'delta': (1.0, {'x0': X, 'y0': Y})}\n",
       "    50         4         12.0      3.0      0.0                  VkFF = Potential.applyFF(kx, ky, \n",
       "    51         4       1397.0    349.2      0.1                                   Potential.getVk(kx, ky, vDeltaParams), \n",
       "    52         4       5906.0   1476.5      0.2                                   self.hamParams)\n",
       "    53                                                           \n",
       "    54                                           \n",
       "    55         4       4349.0   1087.2      0.2                  T4_delta = Utils.make4tensorsym(self.torus, VkFF)\n",
       "    56                                                           \n",
       "    57                                                           ###################\n",
       "    58                                           #                 dijind, dijA = QH_ED.hilbert.getMatAuxC(self.hilbObj.Nphi,\n",
       "    59                                           #                                                   self.hilbObj.Ne,\n",
       "    60                                           #                                                   self.hilbObj.NH,\n",
       "    61                                           #                                                   self.hilbObj.hilb,\n",
       "    62                                           #                                                   self.hilbObj.hilbLen,\n",
       "    63                                           #                                                   T4_delta,\n",
       "    64                                           #                                                   self.hilbObj.dictx,\n",
       "    65                                           #                                                   Nth)       \n",
       "    66                                                           \n",
       "    67                                           #                 HX = scipy.sparse.coo_matrix((self.hilbObj.NH, self.hilbObj.NH))\n",
       "    68                                                           \n",
       "    69                                           #                 for i in np.arange(Nth):\n",
       "    70                                           #                     HX += scipy.sparse.coo_matrix((dijA[i, :], \n",
       "    71                                           #                                                  (dijind[i, 0, :], dijind[i, 1, :])),\n",
       "    72                                           #                                                  shape=(self.hilbObj.NH, self.hilbObj.NH))\n",
       "    73                                           #                 HX = HX.tocsr()\n",
       "    74                                           #                 elem = np.inner(V, HX.dot(V))\n",
       "    75                                                           ###################\n",
       "    76         4         15.0      3.8      0.0                  newMatVec = partial(QH_ED.hilbert.getMatVecC, \n",
       "    77         4         11.0      2.8      0.0                                      Nphi = self.hilbObj.Nphi, \n",
       "    78         4          6.0      1.5      0.0                                      Ne = self.hilbObj.Ne, \n",
       "    79         4          8.0      2.0      0.0                                      NH = self.hilbObj.NH, \n",
       "    80         4          6.0      1.5      0.0                                      hilb = self.hilbObj.hilb, \n",
       "    81         4          6.0      1.5      0.0                                      hilbLen = self.hilbObj.hilbLen, \n",
       "    82         4          6.0      1.5      0.0                                      T4 = T4_delta,\n",
       "    83         4         19.0      4.8      0.0                                      dictx = self.hilbObj.dictx)\n",
       "    84                                                                                                                                           \n",
       "    85         4    2767829.0 691957.2     99.6                  elem = np.inner(V*(1.0+0.0j), newMatVec(V*(1.0+0.0j)))\n",
       "    86                                                           ###################\n",
       "    87                                                           \n",
       "    88                                                           \n",
       "    89         4        155.0     38.8      0.0                  assert np.imag(elem) < 1e-12\n",
       "    90                                                           \n",
       "    91         4         58.0     14.5      0.0                  grOut[cX, cY] = np.real(elem)\n",
       "    92                                                           \n",
       "    93                                                           \n",
       "    94         1          1.0      1.0      0.0          return np.c_[np.r_[grOut, grOut[:1,:]], \n",
       "    95                                                                np.r_[grOut[:,:1], grOut[:1,:1]]]"
      ]
     },
     "metadata": {},
     "output_type": "display_data"
    }
   ],
   "source": [
    "%lprun -f obs1.gr obs1.gr(2, 2, Vxx[:, 0])"
   ]
  },
  {
   "cell_type": "code",
   "execution_count": 21,
   "metadata": {},
   "outputs": [],
   "source": [
    "## TESting\n",
    "kx, ky, mmax = torus1.get_karr()\n",
    "vDeltaParams = {'delta': (1.0, {'x0': 0.35, 'y0': 0.42})}\n",
    "VkFF = landau.Potential.applyFF(kx, ky, \n",
    "                 landau.Potential.getVk(kx, ky, vDeltaParams), \n",
    "                 hamParams)\n",
    "\n",
    "\n",
    "T4_delta = utils.Utils.make4tensorsym(torus1, VkFF)"
   ]
  },
  {
   "cell_type": "code",
   "execution_count": 23,
   "metadata": {},
   "outputs": [],
   "source": [
    "newMatVec = partial(hilbert.getMatVecC, \n",
    "                    Nphi = hilbObj1.Nphi, \n",
    "                    Ne = hilbObj1.Ne, \n",
    "                    NH = hilbObj1.NH, \n",
    "                    hilb = hilbObj1.hilb, \n",
    "                    hilbLen = hilbObj1.hilbLen, \n",
    "                    T4 = T4_delta,\n",
    "                    dictx = hilbObj1.dictx)\n",
    "\n",
    "elem = np.inner(Vxx[:, 0]*(1.0+0.0j), newMatVec(Vxx[:, 0]*(1.0+0.0j)))"
   ]
  },
  {
   "cell_type": "code",
   "execution_count": 24,
   "metadata": {},
   "outputs": [
    {
     "data": {
      "text/plain": [
       "(-0.0008774110654936184+0.05785219113906988j)"
      ]
     },
     "execution_count": 24,
     "metadata": {},
     "output_type": "execute_result"
    }
   ],
   "source": [
    "elem"
   ]
  },
  {
   "cell_type": "code",
   "execution_count": 21,
   "metadata": {},
   "outputs": [],
   "source": [
    "## check if stuff is ok\n",
    "dijX1, dijX2 = hilbert.getMatAuxC(Nphi, Ne, NH, hilb_s, hilbLen_s, T4_delta, dictx, Nth)"
   ]
  },
  {
   "cell_type": "code",
   "execution_count": 22,
   "metadata": {},
   "outputs": [],
   "source": [
    "HX = scipy.sparse.coo_matrix((NH, NH))\n",
    "for i in np.arange(4):\n",
    "    HX += scipy.sparse.coo_matrix((dijX2[i, :], \n",
    "                                 (dijX1[i, 0, :], dijX1[i, 1, :])),\n",
    "                                 shape=(NH, NH))\n",
    "\n",
    "HX = HX.tocsr()"
   ]
  },
  {
   "cell_type": "code",
   "execution_count": 25,
   "metadata": {},
   "outputs": [
    {
     "data": {
      "text/plain": [
       "(0.006201058250996212+6.179952383167375e-18j)"
      ]
     },
     "execution_count": 25,
     "metadata": {},
     "output_type": "execute_result"
    }
   ],
   "source": [
    "np.inner(Vxx[:, 0], HX.dot(Vxx[:, 0]))"
   ]
  },
  {
   "cell_type": "code",
   "execution_count": 23,
   "metadata": {},
   "outputs": [
    {
     "data": {
      "text/plain": [
       "3.947085571718001e-17"
      ]
     },
     "execution_count": 23,
     "metadata": {},
     "output_type": "execute_result"
    }
   ],
   "source": [
    "np.max(np.abs(HX - HX.conj().T))"
   ]
  },
  {
   "cell_type": "code",
   "execution_count": 23,
   "metadata": {},
   "outputs": [],
   "source": [
    "EX, VX = np.linalg.eig(HX.todense())"
   ]
  },
  {
   "cell_type": "code",
   "execution_count": 26,
   "metadata": {},
   "outputs": [],
   "source": [
    "Earg = np.argsort(np.real(EX))"
   ]
  },
  {
   "cell_type": "code",
   "execution_count": 30,
   "metadata": {},
   "outputs": [],
   "source": [
    "EX = EX[Earg]"
   ]
  },
  {
   "cell_type": "code",
   "execution_count": 32,
   "metadata": {},
   "outputs": [],
   "source": [
    "VX = VX[:, Earg]"
   ]
  },
  {
   "cell_type": "code",
   "execution_count": 35,
   "metadata": {},
   "outputs": [
    {
     "data": {
      "text/plain": [
       "matrix([[-1.+0.j]])"
      ]
     },
     "execution_count": 35,
     "metadata": {},
     "output_type": "execute_result"
    }
   ],
   "source": [
    "VX[:, 0].T.dot(Vxx[:, 0])"
   ]
  },
  {
   "cell_type": "code",
   "execution_count": 30,
   "metadata": {},
   "outputs": [
    {
     "ename": "ValueError",
     "evalue": "shapes (1038,1) and (1038,) not aligned: 1 (dim 1) != 1038 (dim 0)",
     "output_type": "error",
     "traceback": [
      "\u001b[0;31m---------------------------------------------------------------------------\u001b[0m",
      "\u001b[0;31mValueError\u001b[0m                                Traceback (most recent call last)",
      "\u001b[0;32m<ipython-input-30-71a06583fe96>\u001b[0m in \u001b[0;36m<module>\u001b[0;34m\u001b[0m\n\u001b[0;32m----> 1\u001b[0;31m \u001b[0mVX\u001b[0m\u001b[0;34m[\u001b[0m\u001b[0;34m:\u001b[0m\u001b[0;34m,\u001b[0m \u001b[0;36m0\u001b[0m\u001b[0;34m]\u001b[0m\u001b[0;34m.\u001b[0m\u001b[0mdot\u001b[0m\u001b[0;34m(\u001b[0m\u001b[0mVxx\u001b[0m\u001b[0;34m[\u001b[0m\u001b[0;34m:\u001b[0m\u001b[0;34m,\u001b[0m\u001b[0;36m0\u001b[0m\u001b[0;34m]\u001b[0m\u001b[0;34m)\u001b[0m\u001b[0;34m\u001b[0m\u001b[0;34m\u001b[0m\u001b[0m\n\u001b[0m",
      "\u001b[0;31mValueError\u001b[0m: shapes (1038,1) and (1038,) not aligned: 1 (dim 1) != 1038 (dim 0)"
     ]
    }
   ],
   "source": [
    "VX[:, 0].dot(Vxx[:,0])"
   ]
  },
  {
   "cell_type": "code",
   "execution_count": 21,
   "metadata": {},
   "outputs": [
    {
     "data": {
      "text/plain": [
       "<matplotlib.image.AxesImage at 0x2b4597fb7410>"
      ]
     },
     "execution_count": 21,
     "metadata": {},
     "output_type": "execute_result"
    },
    {
     "data": {
      "image/png": "[encoded data removed]",
      "text/plain": [
       "<Figure size 432x288 with 2 Axes>"
      ]
     },
     "metadata": {
      "needs_background": "light"
     },
     "output_type": "display_data"
    }
   ],
   "source": [
    "f, (ax, bx) = plt.subplots(1, 2)\n",
    "ax.imshow(np.log10(np.abs(np.roll(T4, [0], axis=0))))\n",
    "bx.imshow(np.log10(np.abs(T4_delta)))"
   ]
  },
  {
   "cell_type": "code",
   "execution_count": 37,
   "metadata": {},
   "outputs": [
    {
     "data": {
      "text/plain": [
       "array([[ 0.02275289+5.22418517e-19j,  0.02406358+1.61404269e-02j,\n",
       "         0.00696524+1.69853239e-02j, -0.00115903+5.66938888e-03j],\n",
       "       [ 0.01058398+6.69709665e-20j,  0.01586974+1.06444868e-02j,\n",
       "         0.00651243+1.58811123e-02j, -0.00153638+7.51520278e-03j],\n",
       "       [ 0.00347267-1.30147539e-19j,  0.00738214+4.95150322e-03j,\n",
       "         0.0042949 +1.04734708e-02j, -0.0014365 +7.02664135e-03j],\n",
       "       [ 0.00080368-5.66404160e-19j,  0.00242213+1.62462088e-03j,\n",
       "         0.00199786+4.87195160e-03j, -0.00094736+4.63401567e-03j]])"
      ]
     },
     "execution_count": 37,
     "metadata": {},
     "output_type": "execute_result"
    }
   ],
   "source": [
    "T4_delta[:4, :4]"
   ]
  },
  {
   "cell_type": "code",
   "execution_count": 38,
   "metadata": {},
   "outputs": [
    {
     "data": {
      "text/plain": [
       "0.0"
      ]
     },
     "execution_count": 38,
     "metadata": {},
     "output_type": "execute_result"
    }
   ],
   "source": [
    "np.max(np.abs(np.imag(HMat)))"
   ]
  },
  {
   "cell_type": "code",
   "execution_count": 39,
   "metadata": {},
   "outputs": [
    {
     "data": {
      "text/plain": [
       "1.3877787807814457e-16"
      ]
     },
     "execution_count": 39,
     "metadata": {},
     "output_type": "execute_result"
    }
   ],
   "source": [
    "np.max(np.abs(HMat - HMat.conj().T))"
   ]
  },
  {
   "cell_type": "code",
   "execution_count": 40,
   "metadata": {},
   "outputs": [],
   "source": [
    "dij_delta_R = hilbert.getMatAux(Nphi, Ne, NH, hilb_s, hilbLen_s, np.real(T4_delta), dictx, Nth)\n",
    "Mat_delta_R = hilbert.dijToCsr(dij_delta_R, NH)\n",
    "dij_delta_I = hilbert.getMatAux(Nphi, Ne, NH, hilb_s, hilbLen_s, np.imag(T4_delta), dictx, Nth)\n",
    "Mat_delta_I = hilbert.dijToCsr(dij_delta_I, NH)"
   ]
  },
  {
   "cell_type": "code",
   "execution_count": 41,
   "metadata": {},
   "outputs": [
    {
     "data": {
      "text/plain": [
       "matrix([[-2.19171203e-02,  6.01144164e-05,  4.64565463e-04,\n",
       "          1.20897018e-03],\n",
       "        [ 1.90349883e-05, -1.10433078e-02,  1.59667079e-03,\n",
       "          1.68808407e-03],\n",
       "        [ 4.63040405e-05,  5.53253020e-04, -7.86701605e-03,\n",
       "         -4.09029967e-03],\n",
       "        [ 2.95998680e-05,  2.96295669e-04,  4.24268909e-04,\n",
       "         -1.78062804e-02]])"
      ]
     },
     "execution_count": 41,
     "metadata": {},
     "output_type": "execute_result"
    }
   ],
   "source": [
    "Mat_delta_R[:4, :4].todense()"
   ]
  },
  {
   "cell_type": "code",
   "execution_count": 22,
   "metadata": {},
   "outputs": [],
   "source": [
    "MM = Mat_delta_R + 1.0j*Mat_delta_I"
   ]
  },
  {
   "cell_type": "code",
   "execution_count": 36,
   "metadata": {},
   "outputs": [
    {
     "data": {
      "text/plain": [
       "-2.0201490136484326"
      ]
     },
     "execution_count": 36,
     "metadata": {},
     "output_type": "execute_result"
    }
   ],
   "source": [
    "np.dot(Vxx[:, 0], Mat_delta.dot(Vxx[:, 0]))"
   ]
  },
  {
   "cell_type": "code",
   "execution_count": 23,
   "metadata": {},
   "outputs": [
    {
     "data": {
      "text/plain": [
       "0.3184701421146091"
      ]
     },
     "execution_count": 23,
     "metadata": {},
     "output_type": "execute_result"
    }
   ],
   "source": [
    "np.max(np.abs(MM - MM.conj().T))"
   ]
  },
  {
   "cell_type": "code",
   "execution_count": 58,
   "metadata": {},
   "outputs": [],
   "source": [
    "@numba.njit(numba.float64[:](numba.float64[:]))\n",
    "def doSomethingf(x):\n",
    "    return 2.0*x\n",
    "\n",
    "@numba.njit(numba.complex128[:](numba.complex128[:]))\n",
    "def doSomethingc(x):\n",
    "    return 3.0*x"
   ]
  },
  {
   "cell_type": "code",
   "execution_count": 59,
   "metadata": {},
   "outputs": [],
   "source": [
    "xIn1 = np.random.randn(10)\n",
    "xOut1 = doSomethingf(xIn1)\n",
    "xIn2 = np.random.randn(10)*1.0j\n",
    "xOut2 = doSomethingc(xIn2)"
   ]
  },
  {
   "cell_type": "code",
   "execution_count": 60,
   "metadata": {},
   "outputs": [
    {
     "data": {
      "text/plain": [
       "(array([ 2.24222802,  1.24183604,  2.44193996, -0.90800834, -0.17920522,\n",
       "         1.36881542, -0.40600028,  0.31186499, -0.54783695,  0.15567293]),\n",
       " array([ 4.48445604,  2.48367209,  4.88387991, -1.81601668, -0.35841045,\n",
       "         2.73763084, -0.81200057,  0.62372999, -1.09567391,  0.31134585]),\n",
       " array([ 0.+1.03350948j, -0.-0.76714511j, -0.-0.02830501j, -0.-1.10897831j,\n",
       "         0.+0.38259845j,  0.+1.01406919j,  0.+1.14085992j, -0.-1.83264951j,\n",
       "         0.+0.62863811j,  0.+0.42554809j]),\n",
       " array([0.+3.10052843j, 0.-2.30143532j, 0.-0.08491502j, 0.-3.32693494j,\n",
       "        0.+1.14779536j, 0.+3.04220756j, 0.+3.42257977j, 0.-5.49794853j,\n",
       "        0.+1.88591434j, 0.+1.27664427j]))"
      ]
     },
     "execution_count": 60,
     "metadata": {},
     "output_type": "execute_result"
    }
   ],
   "source": [
    "xIn1, xOut1, xIn2, xOut2"
   ]
  },
  {
   "cell_type": "code",
   "execution_count": 20,
   "metadata": {},
   "outputs": [],
   "source": [
    "# %lprun -f scipy.sparse.linalg.eigsh scipy.sparse.linalg.eigsh(HA, k=6, which='SA')"
   ]
  },
  {
   "cell_type": "code",
   "execution_count": 21,
   "metadata": {},
   "outputs": [
    {
     "data": {
      "text/plain": [
       "(0, 2.5)"
      ]
     },
     "execution_count": 21,
     "metadata": {},
     "output_type": "execute_result"
    },
    {
     "data": {
      "image/png": "[encoded data removed]",
      "text/plain": [
       "<Figure size 432x288 with 1 Axes>"
      ]
     },
     "metadata": {
      "needs_background": "light"
     },
     "output_type": "display_data"
    }
   ],
   "source": [
    "h, b = np.histogram((np.abs(HMat.data)), bins=100)\n",
    "h2, b2 = np.histogram(np.abs(HMat.diagonal()), bins = 100)\n",
    "f, ax = plt.subplots()\n",
    "ax.plot(0.5*(b[1:]+b[:-1]), h/(np.sum(h)*(b[1]-b[0])) / HMat.shape[0] * HMat.size)\n",
    "ax.plot(0.5*(b2[1:]+b2[:-1]), h2/(np.sum(h2)*(b2[1]-b2[0])))\n",
    "ax.set_ylim(0, 2.5)"
   ]
  },
  {
   "cell_type": "code",
   "execution_count": 41,
   "metadata": {},
   "outputs": [],
   "source": [
    "@numba.njit(numba.types.ListType(numba.int64)(numba.int64), \n",
    "            parallel=True, fastmath=True)\n",
    "def getThu(Nphi):\n",
    "    l = numba.typed.List()\n",
    "    for i in numba.prange(Nphi):\n",
    "        l.append(i+10)#np.zeros(10, dtype=numba.int64))\n",
    "    return l"
   ]
  },
  {
   "cell_type": "code",
   "execution_count": 44,
   "metadata": {},
   "outputs": [],
   "source": [
    "p = getThu(10)"
   ]
  },
  {
   "cell_type": "code",
   "execution_count": 45,
   "metadata": {},
   "outputs": [
    {
     "data": {
      "text/plain": [
       "ListType[int64]([10, 11, 12, 13, 14, 15, 16, 17, 18, 19])"
      ]
     },
     "execution_count": 45,
     "metadata": {},
     "output_type": "execute_result"
    }
   ],
   "source": [
    "p"
   ]
  },
  {
   "cell_type": "code",
   "execution_count": 33,
   "metadata": {},
   "outputs": [
    {
     "name": "stdout",
     "output_type": "stream",
     "text": [
      "0.0027780532836914062\n",
      "0.5485620498657227\n",
      "204.40676975250244\n"
     ]
    }
   ],
   "source": [
    "run runSim.py 0 0 8 /tigress/ak20/QH/anisoMayCoulomb/ 0"
   ]
  },
  {
   "cell_type": "code",
   "execution_count": 44,
   "metadata": {},
   "outputs": [
    {
     "name": "stdout",
     "output_type": "stream",
     "text": [
      "-rw-r--r-- 1 ak20 ee 176 May 25 17:59 /tigress/ak20/QH/anisoMayCoulomb/LL0/ar000/Nphi27_Ne9_sector0_alpha10_E.npy\n"
     ]
    }
   ],
   "source": [
    "ls -lah /tigress/ak20/QH/anisoMayCoulomb/LL0/ar000/Nphi27_Ne9_sector0_alpha10_E.npy"
   ]
  },
  {
   "cell_type": "code",
   "execution_count": 45,
   "metadata": {},
   "outputs": [],
   "source": [
    "poop = np.load('/tigress/ak20/QH/anisoMayCoulomb/LL0/ar000/Nphi27_Ne9_sector0_alpha10_E.npy')"
   ]
  },
  {
   "cell_type": "code",
   "execution_count": 46,
   "metadata": {},
   "outputs": [
    {
     "data": {
      "text/plain": [
       "array([-2.35406978, -2.29561763, -2.29561763, -2.26946669, -2.26946669,\n",
       "       -2.25893621])"
      ]
     },
     "execution_count": 46,
     "metadata": {},
     "output_type": "execute_result"
    }
   ],
   "source": [
    "poop"
   ]
  },
  {
   "cell_type": "code",
   "execution_count": 69,
   "metadata": {},
   "outputs": [
    {
     "data": {
      "image/png": "[encoded data removed]",
      "text/plain": [
       "<Figure size 288x216 with 1 Axes>"
      ]
     },
     "metadata": {
      "needs_background": "light"
     },
     "output_type": "display_data"
    }
   ],
   "source": [
    "Ne_arr = np.array([4, 5, 6, 7, 8, 9, 10])\n",
    "E0_1_3 = np.array([-0.190605, -0.211767, -0.228524, -0.241565, -0.252519, -0.261563, -0.269021])\n",
    "Vq_sum = np.array([0.6543087, 0.6995266, 0.7332350, 0.7596026, 0.7809539, 0.798699, 0.8137518])\n",
    "X = np.r_[0.001:0.35:0.001]\n",
    "func = lambda x, a, b, c: a*x*x + b*x + c\n",
    "\n",
    "f, ax = plt.subplots(figsize=(4, 3))\n",
    "ax.plot(1/Ne_arr, E0_1_3, 'o', label=r'normal order')\n",
    "sl, ic, _, _, _ = scipy.stats.linregress(1/Ne_arr, E0_1_3)\n",
    "ax.plot(X, sl*X + ic, color='C0', ls='-', label='linear fit')\n",
    "popt, pcov = scipy.optimize.curve_fit(func, 1/Ne_arr, E0_1_3)\n",
    "ax.plot(X, func(X, *popt), color='C0', ls='--', label='quadratic fit')\n",
    "\n",
    "ax.plot(1/Ne_arr, E0_1_3-0.5*Vq_sum, 'o',\n",
    "        label=r'with diagonal term')\n",
    "sl, ic, _, _, _ = scipy.stats.linregress(1/Ne_arr, E0_1_3-0.5*Vq_sum)\n",
    "ax.plot(X, sl*X + ic, color='C1', ls='-', label='linear fit')\n",
    "popt, pcov = scipy.optimize.curve_fit(func, 1/Ne_arr, E0_1_3-0.5*Vq_sum)\n",
    "ax.plot(X, func(X, *popt), color='C1', ls='--', label='quadratic fit')\n",
    "\n",
    "# ax.plot(1/Ne_arr, 2/np.pi*E0_1_3 - Vq_sum/(2*np.pi), 'o')\n",
    "# sl, ic, _, _, _ = scipy.stats.linregress(1/Ne_arr, 2/np.pi*E0_1_3 - Vq_sum/(2*np.pi))\n",
    "# ax.plot(X, sl*X + ic, '-')\n",
    "# popt, pcov = scipy.optimize.curve_fit(func, 1/Ne_arr, 2/np.pi*E0_1_3 - Vq_sum/(2*np.pi))\n",
    "# ax.plot(X, func(X, *popt))\n",
    "\n",
    "ax.set_xlim(0, 0.30)\n",
    "ax.set_ylim(-0.9, -0.1)\n",
    "ax.set_xlabel(r'$1/N_e$')\n",
    "ax.set_ylabel(r'ground state energy per particle')\n",
    "ax.legend(loc='center left', bbox_to_anchor=[1.00,0.50])\n",
    "ax.set_title(r'$\\nu = 1/3$ in the lowest Landau level')\n",
    "# f.tight_layout()\n",
    "f.savefig('/home/ak20/QH/plots/nu_1_3_energies.pdf', bbox_inches='tight', transparent=True)"
   ]
  },
  {
   "cell_type": "code",
   "execution_count": 45,
   "metadata": {},
   "outputs": [
    {
     "data": {
      "text/plain": [
       "-0.4130008287308483"
      ]
     },
     "execution_count": 45,
     "metadata": {},
     "output_type": "execute_result"
    }
   ],
   "source": [
    "func(X, *popt)[0]/2"
   ]
  },
  {
   "cell_type": "code",
   "execution_count": 18,
   "metadata": {},
   "outputs": [],
   "source": [
    "alp_arr = np.r_[1.0:4.01:0.1] # 31\n",
    "asp_arr = np.array([0, 0.25, 0.5])\n",
    "Ne_arr = np.array([6, 7, 8, 9, 10])\n",
    "\n",
    "E0 = np.zeros((2, len(Ne_arr), len(asp_arr), len(alp_arr), 10, 6)) * np.nan\n",
    "cf = 0\n",
    "fol = '/tigress/ak20/QH/anisoMayCoulomb/'\n",
    "\n",
    "for LL in [0, 1]:\n",
    "    for cNe, Ne in enumerate(Ne_arr):\n",
    "        Nphi = 3*Ne\n",
    "        for casp, ar_factor in enumerate(asp_arr):\n",
    "            for calp, alpha in enumerate(alp_arr):\n",
    "\n",
    "                for sector in range(Ne):\n",
    "                    try:\n",
    "                        fil = 'Nphi{0:d}_Ne{1:d}_sector{2:d}_alpha{3:d}'.format(\n",
    "                               Nphi, Ne, sector, int(round(10*alpha)))\n",
    "                        dat = np.load(fol+'LL{0:d}/ar{1:03d}/'.format(\n",
    "                                LL, int(round(100*ar_factor)))+fil+'_E.npy')\n",
    "                        E0[LL, cNe, casp, calp, sector, :] = dat\n",
    "                    except FileNotFoundError:\n",
    "                        pass"
   ]
  },
  {
   "cell_type": "code",
   "execution_count": 18,
   "metadata": {},
   "outputs": [
    {
     "data": {
      "text/plain": [
       "(-0.28, -0.13)"
      ]
     },
     "execution_count": 18,
     "metadata": {},
     "output_type": "execute_result"
    },
    {
     "data": {
      "image/png": "[encoded data removed]",
      "text/plain": [
       "<Figure size 288x216 with 1 Axes>"
      ]
     },
     "metadata": {
      "needs_background": "light"
     },
     "output_type": "display_data"
    }
   ],
   "source": [
    "f, ax = plt.subplots(figsize=(4, 3))\n",
    "ax.plot(Ne_arr, np.nanmin(E0[0, :, 0, 0, :, 0], axis=1)/Ne_arr, 'o', label=r'$1/3$')\n",
    "ax.plot(Ne_arr, np.nanmin(E0[1, :, 0, 0, :, 0], axis=1)/Ne_arr, 'o', label=r'$7/3$')\n",
    "ax.legend(loc='upper right', title=r'$\\nu$')\n",
    "ax.set_xlabel(r'$N_e$')\n",
    "ax.set_ylabel(r'ground state energy per particle')\n",
    "ax.set_ylim(-0.28, -0.13)\n",
    "# f.savefig('/home/ak20/QH/plots/nu_1_3.pdf', bbox_inches='tight', transparent=True)"
   ]
  },
  {
   "cell_type": "code",
   "execution_count": 56,
   "metadata": {},
   "outputs": [
    {
     "name": "stdout",
     "output_type": "stream",
     "text": [
      "0.002174334727458982\n",
      "0.004406740968040168\n",
      "0.010409334537381465\n",
      "0.014498432053128951\n",
      "0.005479884919186606\n"
     ]
    }
   ],
   "source": [
    "for i in range(5):\n",
    "    temp = np.sort((E0[1, i, 0, 0, :, :]).flatten())\n",
    "    print(temp[1]-temp[0])"
   ]
  },
  {
   "cell_type": "code",
   "execution_count": 37,
   "metadata": {},
   "outputs": [
    {
     "data": {
      "text/plain": [
       "array([-2.69021372, -2.35406978, -2.02014901, -1.69095466, -1.3711444 ])"
      ]
     },
     "execution_count": 37,
     "metadata": {},
     "output_type": "execute_result"
    }
   ],
   "source": [
    "np.sort(np.nanmin(E0[0, :, 0, 0, :, 0], axis=1))"
   ]
  },
  {
   "cell_type": "code",
   "execution_count": 19,
   "metadata": {},
   "outputs": [
    {
     "data": {
      "text/plain": [
       "(-0.28, -0.13)"
      ]
     },
     "execution_count": 19,
     "metadata": {},
     "output_type": "execute_result"
    },
    {
     "data": {
      "image/png": "[encoded data removed]",
      "text/plain": [
       "<Figure size 288x216 with 1 Axes>"
      ]
     },
     "metadata": {
      "needs_background": "light"
     },
     "output_type": "display_data"
    }
   ],
   "source": [
    "f, ax = plt.subplots(figsize=(4, 3))\n",
    "ax.plot(Ne_arr, np.nanmin(E0[0, :, 0, 0, :, 0], axis=1)/Ne_arr, 'o', label=r'$1/3$')\n",
    "ax.plot(Ne_arr, np.nanmin(E0[1, :, 0, 0, :, 0], axis=1)/Ne_arr, 'o', label=r'$7/3$')\n",
    "ax.legend(loc='upper right', title=r'$\\nu$')\n",
    "ax.set_xlabel(r'$N_e$')\n",
    "ax.set_ylabel(r'ground state energy per particle')\n",
    "ax.set_ylim(-0.28, -0.13)\n",
    "# f.savefig('/home/ak20/QH/plots/nu_1_3.pdf', bbox_inches='tight', transparent=True)"
   ]
  },
  {
   "cell_type": "code",
   "execution_count": 20,
   "metadata": {},
   "outputs": [
    {
     "data": {
      "text/plain": [
       "array([-0.15129619, -0.16280329, -0.17488675, -0.18432131, -0.18996998])"
      ]
     },
     "execution_count": 20,
     "metadata": {},
     "output_type": "execute_result"
    }
   ],
   "source": [
    "np.nanmin(E0[1, :, 0, 0, :, 0], axis=1)/Ne_arr"
   ]
  },
  {
   "cell_type": "code",
   "execution_count": 24,
   "metadata": {},
   "outputs": [
    {
     "data": {
      "text/plain": [
       "array([[0.01334966, 0.01380972, 0.01380972, 0.01473751, 0.01685826,\n",
       "        0.01927478],\n",
       "       [0.0151394 , 0.0151394 , 0.01784952, 0.02002861, 0.02002861,\n",
       "        0.0207794 ],\n",
       "       [0.01284481, 0.01284481, 0.01865181, 0.01927478, 0.01986352,\n",
       "        0.01986352],\n",
       "       [0.01100711, 0.01100711, 0.01380972, 0.0151394 , 0.0151394 ,\n",
       "        0.01940723],\n",
       "       [0.01161358, 0.01284481, 0.01284481, 0.01940723, 0.01940723,\n",
       "        0.0207794 ],\n",
       "       [0.        , 0.00547988, 0.01161358, 0.01161358, 0.01473751,\n",
       "        0.01784952],\n",
       "       [0.01161358, 0.01284481, 0.01284481, 0.01940723, 0.01940723,\n",
       "        0.0207794 ],\n",
       "       [0.01100711, 0.01100711, 0.01380972, 0.0151394 , 0.0151394 ,\n",
       "        0.01940723],\n",
       "       [0.01284481, 0.01284481, 0.01865181, 0.01927478, 0.01986352,\n",
       "        0.01986352],\n",
       "       [0.0151394 , 0.0151394 , 0.01784952, 0.02002861, 0.02002861,\n",
       "        0.0207794 ]])"
      ]
     },
     "execution_count": 24,
     "metadata": {},
     "output_type": "execute_result"
    }
   ],
   "source": [
    "E0[1, 4, 0, 0, :, :] - np.min(E0[1, 4, 0, 0, :, :])"
   ]
  },
  {
   "cell_type": "code",
   "execution_count": 53,
   "metadata": {},
   "outputs": [
    {
     "data": {
      "image/png": "[encoded data removed]",
      "text/plain": [
       "<Figure size 720x216 with 3 Axes>"
      ]
     },
     "metadata": {
      "needs_background": "light"
     },
     "output_type": "display_data"
    }
   ],
   "source": [
    "f, axs = plt.subplots(1, 3, figsize=(10, 3))\n",
    "ylims = [[0.040, 0.065], [0, 0.025]]\n",
    "LL = 1\n",
    "spl_title = ['1', r'1/\\alpha^{1/4}', r'1/\\alpha^{1/2}']\n",
    "for casp, ar_factor in enumerate(asp_arr):\n",
    "    for cNe, Ne in enumerate(Ne_arr):\n",
    "        E_Ne_ar = E0[LL, cNe, casp, :, :, :]\n",
    "        E_Ne_ar = E_Ne_ar.reshape(31, 60)\n",
    "        E_Ne_ar = np.sort(E_Ne_ar)\n",
    "        axs[casp].plot(alp_arr, E_Ne_ar[:, 1] - E_Ne_ar[:, 0], \n",
    "                label=str(Ne), marker='.', color=plt.cm.YlGnBu((Ne-3)/7))\n",
    "\n",
    "\n",
    "    axs[casp].set_xlabel(r'mass anisotropy $\\alpha$')\n",
    "    if casp == 0: axs[casp].set_ylabel(r'Ground state energy gap')\n",
    "    axs[casp].set_xlim(0.9, 2.1)\n",
    "    axs[casp].set_ylim(ylims[LL])\n",
    "    if casp == 2: axs[casp].legend(loc='center left', title=r'$N_e$', \n",
    "                                      bbox_to_anchor=(1.00, 0.50))\n",
    "    axs[casp].set_title(r'$ L_y / L_x = '+spl_title[casp]+'$')\n",
    "    axs[casp].grid(True)\n",
    "\n",
    "f.tight_layout()\n",
    "f.savefig('/home/ak20/QH/plots/anisoMay_LL1.pdf', bbox_inches='tight', transparent=True)"
   ]
  },
  {
   "cell_type": "code",
   "execution_count": 67,
   "metadata": {},
   "outputs": [
    {
     "data": {
      "image/png": "[encoded data removed]",
      "text/plain": [
       "<Figure size 720x216 with 3 Axes>"
      ]
     },
     "metadata": {
      "needs_background": "light"
     },
     "output_type": "display_data"
    }
   ],
   "source": [
    "f, axs = plt.subplots(1, 3, figsize=(10, 3))\n",
    "# ylims = [[-2.70, -2.35], [-1.91, -1.81]]\n",
    "ylims = [[-2.40, -2.05], [-1.67, -1.57]]\n",
    "# ms = ['.', 'x', '+']\n",
    "ls = ['-', '--', ':']\n",
    "\n",
    "LL = 1\n",
    "Ne = 9\n",
    "cNe = Ne - 6\n",
    "spl_title = ['1', r'1/\\alpha^{1/4}', r'1/\\alpha^{1/4}']\n",
    "for casp, ar_factor in enumerate(asp_arr):\n",
    "    for sector in range(Ne):\n",
    "        for Ex in range(2):\n",
    "            E_Ne_ar = E0[LL, cNe, casp, :, sector, :]\n",
    "            labx = str(sector) if Ex == 0 else '_nolegend_'\n",
    "            axs[casp].plot(alp_arr, E_Ne_ar[:, Ex], label=labx,\n",
    "                           ls=ls[Ex], lw = 1, color='C{0:d}'.format(sector))\n",
    "        \n",
    "    axs[casp].set_xlabel(r'mass anisotropy $\\alpha$')\n",
    "    if casp == 0: axs[casp].set_ylabel(r'Energy')\n",
    "    axs[casp].set_xlim(0.9, 2.1)\n",
    "    axs[casp].set_ylim(ylims[LL])\n",
    "    if casp == 2: axs[casp].legend(loc='center left', title=r'$k$ sector', \n",
    "                                      bbox_to_anchor=(1.00, 0.50))\n",
    "    axs[casp].set_title(r'$ L_y / L_x = '+spl_title[casp]+'$')\n",
    "    axs[casp].grid(True)\n",
    "f.tight_layout()\n",
    "f.savefig('/home/ak20/QH/plots/anisoMay_E_Ne9_LL1.pdf', bbox_inches='tight', transparent=True)"
   ]
  },
  {
   "cell_type": "code",
   "execution_count": 20,
   "metadata": {},
   "outputs": [],
   "source": [
    "E0 = np.zeros((len(Ne_arr), len(asp_arr), len(alp_arr), 8, 6)) * np.nan\n",
    "for cNe, Ne in enumerate(Ne_arr[:]):\n",
    "    Nphi = 3*Ne\n",
    "    for casp, aspect_ratio in enumerate(asp_arr):\n",
    "        for calp, alpha in enumerate(alp_arr):\n",
    "            \n",
    "            E_all = np.zeros(0)\n",
    "            \n",
    "            for sector in range(Ne):\n",
    "                fil = 'Nphi{0:d}_Ne{1:d}_sector{2:d}_alpha{3:d}_ar{4:d}'.format(\n",
    "                       Nphi, Ne, sector, int(round(10*alpha)), int(round(100*aspect_ratio)))\n",
    "                try:\n",
    "                    E0[cNe, casp, calp, sector, :] = np.load(fol+fil+'_E.npy')\n",
    "                    cf += 1\n",
    "#                     E_all = np.r_[E_all, dat]\n",
    "                except FileNotFoundError:\n",
    "                    pass\n",
    "                \n",
    "#             E_all.sort()\n",
    "#             E0[cNe, casp, calp] = E_all[1] - E_all[0]"
   ]
  },
  {
   "cell_type": "code",
   "execution_count": 334,
   "metadata": {},
   "outputs": [
    {
     "data": {
      "image/png": "[encoded data removed]",
      "text/plain": [
       "<Figure size 792x216 with 3 Axes>"
      ]
     },
     "metadata": {
      "needs_background": "light"
     },
     "output_type": "display_data"
    }
   ],
   "source": [
    "f, (ax, bx, cx) = plt.subplots(1, 3, figsize=(11, 3))\n",
    "\n",
    "for sector in np.arange(7):\n",
    "    ax.plot(alp_arr, E0[0, 1, :, sector, 0], color=plt.cm.viridis(sector/6))\n",
    "    ax.plot(alp_arr, E0[0, 1, :, sector, 1], color=plt.cm.viridis(sector/6), ls='--')\n",
    "    \n",
    "    bx.plot(alp_arr, E0[1, 1, :, sector, 0], color=plt.cm.viridis(sector/7))\n",
    "    bx.plot(alp_arr, E0[1, 1, :, sector, 1], color=plt.cm.viridis(sector/7), ls='--')\n",
    "    \n",
    "    cx.plot(alp_arr, E0[2, 1, :, sector, 0], color=plt.cm.viridis(sector/8))\n",
    "    cx.plot(alp_arr, E0[2, 1, :, sector, 1], color=plt.cm.viridis(sector/8), ls='--')"
   ]
  },
  {
   "cell_type": "code",
   "execution_count": 40,
   "metadata": {},
   "outputs": [],
   "source": [
    "def myfun(x, C, S):\n",
    "    lC = len(C)\n",
    "    lS = len(S)\n",
    "    return np.sum(C*np.cos(2*np.pi*np.outer(x, np.arange(lC))) + \\\n",
    "                  S*np.cos(2*np.pi*np.outer(x, np.arange(lS))), axis=1)\n",
    "\n",
    "C = np.random.randn(5)\n",
    "S = np.random.randn(5)"
   ]
  },
  {
   "cell_type": "code",
   "execution_count": 41,
   "metadata": {},
   "outputs": [
    {
     "data": {
      "text/plain": [
       "[<matplotlib.lines.Line2D at 0x2aacf8f60610>]"
      ]
     },
     "execution_count": 41,
     "metadata": {},
     "output_type": "execute_result"
    },
    {
     "data": {
      "image/png": "[encoded data removed]",
      "text/plain": [
       "<Figure size 432x288 with 1 Axes>"
      ]
     },
     "metadata": {
      "needs_background": "light"
     },
     "output_type": "display_data"
    }
   ],
   "source": [
    "f, ax = plt.subplots()\n",
    "ax.plot(np.r_[0:3:0.01], myfun(np.r_[0:3:0.01], C, S))"
   ]
  },
  {
   "cell_type": "code",
   "execution_count": 30,
   "metadata": {},
   "outputs": [],
   "source": [
    "fol = '/tigress/ak20/QH/anisoMayCoulomb/LL1/ar000/'\n",
    "Ne_arr = np.array([9, 10, 11, 12, 13, 14])\n",
    "\n",
    "E0 = np.nan*np.zeros((6, 14, 6))\n",
    "for cNe, Ne in enumerate(Ne_arr):\n",
    "    Nphi = 2*Ne\n",
    "    for sector in range(Ne):\n",
    "        fil = 'Nphi{0:d}_Ne{1:d}_sector{2:d}_alpha{3:d}'.format(\n",
    "               Nphi, Ne, sector, int(round(10*1.0)))\n",
    "        dat = np.load(fol+fil+'_E.npy')\n",
    "        E0[cNe, sector, :] = dat"
   ]
  },
  {
   "cell_type": "code",
   "execution_count": 43,
   "metadata": {},
   "outputs": [
    {
     "data": {
      "image/png": "[encoded data removed]",
      "text/plain": [
       "<Figure size 288x216 with 1 Axes>"
      ]
     },
     "metadata": {
      "needs_background": "light"
     },
     "output_type": "display_data"
    }
   ],
   "source": [
    "f, ax = plt.subplots(figsize=(4, 3))\n",
    "Y = np.nanmin(E0[:,:,0], axis=1)\n",
    "sl, ic, _, _, _ = scipy.stats.linregress(Ne_arr, Y)\n",
    "ax.plot(Ne_arr, Y, 'o')\n",
    "X = np.r_[Ne_arr, 16]\n",
    "ax.plot(X, sl*X+ic)\n",
    "\n",
    "ax.set_ylabel('ground state energy')\n",
    "ax.set_xlabel('$N_e$')\n",
    "ax.set_xlim(8.8, 16.2)\n",
    "ax.set_ylim(-4.0, -1.6)\n",
    "ax.set_yticks(np.r_[-4.0:-1.59:0.4])\n",
    "ax.set_title(r'$\\nu = 5/2$')\n",
    "ax.grid(True)\n",
    "f.savefig('/home/ak20/QH/plots/anisoMay_p5_q2_GS.pdf', bbox_inches='tight')"
   ]
  },
  {
   "cell_type": "code",
   "execution_count": 42,
   "metadata": {},
   "outputs": [
    {
     "data": {
      "text/plain": [
       "(1.3831067735688094, 4.852275595212951e-10)"
      ]
     },
     "execution_count": 42,
     "metadata": {},
     "output_type": "execute_result"
    }
   ],
   "source": [
    "scipy.integrate.quad(myfun, 0, 1, (C, S))"
   ]
  },
  {
   "cell_type": "code",
   "execution_count": 50,
   "metadata": {},
   "outputs": [
    {
     "data": {
      "text/plain": [
       "array([ 9.86175363, -3.70501496,  7.41178403, -1.30339297,  3.9221096 ])"
      ]
     },
     "execution_count": 50,
     "metadata": {},
     "output_type": "execute_result"
    }
   ],
   "source": [
    "S*2*np.pi"
   ]
  },
  {
   "cell_type": "code",
   "execution_count": 10,
   "metadata": {},
   "outputs": [],
   "source": [
    "@numba.njit(numba.float64[:,:](numba.int64))\n",
    "def test_diag(N):\n",
    "    Mat = np.random.randn(N, N)\n",
    "    Mat += Mat.T\n",
    "    E, V = np.linalg.eigh(Mat)\n",
    "    return V\n",
    "\n",
    "@numba.njit(numba.float64[:,:,:](numba.int64, numba.int64),\n",
    "            parallel=True)\n",
    "def test_diag_aux(N, Nth):\n",
    "    ret = np.zeros((Nth, N, N), dtype=numba.float64)\n",
    "    for i in numba.prange(Nth):\n",
    "        ret[i, :, :] = test_diag(N)\n",
    "        \n",
    "    return ret\n",
    "\n",
    "@numba.njit(numba.float64[:,:,:](numba.int64, numba.int64),\n",
    "            parallel=True)\n",
    "def test_diag_two(N, Nth):\n",
    "    ret = np.zeros((Nth, N, N), dtype=numba.float64)\n",
    "    Mat = np.random.randn(N, N)\n",
    "    Mat += Mat.T\n",
    "    for i in numba.prange(Nth):\n",
    "        E, V = np.linalg.eigh(Mat)\n",
    "        ret[i, :, :] = V\n",
    "        \n",
    "    return ret"
   ]
  },
  {
   "cell_type": "code",
   "execution_count": 9,
   "metadata": {},
   "outputs": [
    {
     "name": "stdout",
     "output_type": "stream",
     "text": [
      "8.709798574447632\n",
      "10.243133544921875\n"
     ]
    }
   ],
   "source": [
    "Nth = 4\n",
    "t1 = time.time()\n",
    "V_all = test_diag_aux(2048, Nth)\n",
    "t2 = time.time()\n",
    "V_all2 = test_diag_two(2048, Nth)\n",
    "t3 = time.time()\n",
    "print(t2 - t1)\n",
    "print(t3 - t2)"
   ]
  },
  {
   "cell_type": "code",
   "execution_count": 13,
   "metadata": {},
   "outputs": [],
   "source": [
    "M = np.random.randn(2, 3, 3)"
   ]
  },
  {
   "cell_type": "code",
   "execution_count": 15,
   "metadata": {},
   "outputs": [
    {
     "data": {
      "text/plain": [
       "(array([[[-0.6656352 , -2.05013466,  1.153949  ],\n",
       "         [ 1.12616358,  0.89243956,  0.19042904],\n",
       "         [ 1.29691861, -0.00839807,  0.26937057]],\n",
       " \n",
       "        [[-0.62397744, -0.31114466,  0.32390485],\n",
       "         [-1.7387822 ,  0.22246765,  0.63007098],\n",
       "         [-0.16898641,  0.4238755 ,  0.20389965]]]), (3, 3, 2))"
      ]
     },
     "execution_count": 15,
     "metadata": {},
     "output_type": "execute_result"
    }
   ],
   "source": [
    "M, M.T.shape"
   ]
  },
  {
   "cell_type": "code",
   "execution_count": null,
   "metadata": {},
   "outputs": [],
   "source": [
    "gogopo = np.random.rand(2, 3, 5)"
   ]
  },
  {
   "cell_type": "code",
   "execution_count": 49,
   "metadata": {},
   "outputs": [
    {
     "data": {
      "text/plain": [
       "2"
      ]
     },
     "execution_count": 49,
     "metadata": {},
     "output_type": "execute_result"
    }
   ],
   "source": [
    "len(gogopo)"
   ]
  },
  {
   "cell_type": "code",
   "execution_count": 40,
   "metadata": {},
   "outputs": [
    {
     "name": "stdout",
     "output_type": "stream",
     "text": [
      "[ 0  1  2  3  4  5  6  7  8  9 10 11 12 13]\n",
      "[14 15 16 17 18 19 20 21 22 23 24 25 26 27]\n",
      "[28 29 30 31 32 33 34 35 36 37 38 39 40 41]\n",
      "[42 43 44 45 46 47 48 49 50 51 52 53 54 55]\n",
      "[56 57 58 59 60 61 62 63 64 65 66 67 68 69]\n",
      "[70 71 72 73 74 75 76 77 78 79 80 81 82 83]\n",
      "[84 85 86 87 88 89 90 91 92 93 94 95 96 97]\n",
      "[ 98  99 100 101 102 103 104 105 106 107 108 109 110 111]\n",
      "[112 113 114 115 116 117 118 119 120 121 122 123 124 125]\n",
      "[126 127 128 129 130 131 132 133 134 135 136 137 138 139]\n",
      "[140 141 142 143 144 145 146 147 148 149 150 151 152 153]\n",
      "[154 155 156 157 158 159 160 161 162 163 164 165 166 167]\n",
      "[168 169 170 171 172 173 174 175 176 177 178 179 180 181]\n",
      "[182 183 184 185 186 187 188 189 190 191 192 193 194 195]\n",
      "[196 197 198 199 200 201 202 203 204 205 206 207 208 209]\n",
      "[210 211 212 213 214 215 216 217 218 219 220 221 222 223]\n",
      "[224 225 226 227 228 229 230 231 232 233 234 235 236 237]\n",
      "[238 239 240 241 242 243 244 245 246 247 248 249 250 251]\n",
      "[252 253 254 255 256 257 258 259 260 261 262 263 264 265]\n",
      "[266 267 268 269 270 271 272 273 274 275 276 277 278 279]\n",
      "[280 281 282 283 284 285 286 287 288 289 290 291 292 293]\n",
      "[294 295 296 297 298 299 300 301 302 303 304 305 306 307]\n",
      "[308 309 310 311 312 313 314 315 316 317 318 319 320 321]\n",
      "[322 323 324 325 326 327 328 329 330 331 332 333 334 335 336]\n"
     ]
    }
   ],
   "source": [
    "NH = 337\n",
    "Nth = 24\n",
    "for i in range(Nth):\n",
    "    print(np.arange((i*NH)//Nth, ((i+1)*NH)//Nth))"
   ]
  }
 ],
 "metadata": {
  "kernelspec": {
   "display_name": "Python 3",
   "language": "python",
   "name": "python3"
  },
  "language_info": {
   "codemirror_mode": {
    "name": "ipython",
    "version": 3
   },
   "file_extension": ".py",
   "mimetype": "text/x-python",
   "name": "python",
   "nbconvert_exporter": "python",
   "pygments_lexer": "ipython3",
   "version": "3.7.7"
  }
 },
 "nbformat": 4,
 "nbformat_minor": 4
}

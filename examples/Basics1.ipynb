{
 "cells": [
  {
   "cell_type": "code",
   "execution_count": 1,
   "metadata": {},
   "outputs": [],
   "source": [
    "import numpy as np\n",
    "import numba\n",
    "import scipy.sparse as ssp\n",
    "import scipy.stats\n",
    "import time\n",
    "import sys\n",
    "import pdb\n",
    "from functools import partial\n",
    "# %load_ext line_profiler\n",
    "%load_ext autoreload\n",
    "import matplotlib.pyplot as plt\n",
    "plt.rc('text', usetex=True)"
   ]
  },
  {
   "cell_type": "code",
   "execution_count": 2,
   "metadata": {},
   "outputs": [],
   "source": [
    "from QH_ED import landau\n",
    "from QH_ED import utils\n",
    "from QH_ED import hilbert\n",
    "from QH_ED import observables\n",
    "from functools import partial"
   ]
  },
  {
   "cell_type": "markdown",
   "metadata": {},
   "source": [
    "## A simple calculation of 8 electrons at $\\nu=1/3$ in the LLL "
   ]
  },
  {
   "cell_type": "code",
   "execution_count": 40,
   "metadata": {},
   "outputs": [],
   "source": [
    "Nphi = 24\n",
    "Ne = 8\n",
    "sector = 4\n",
    "Nth = 4\n",
    "\n",
    "torus1 = landau.Torus(Nphi, aspect_ratio=1.0)\n",
    "hamParams = {'alpha': 1.0, 'n': 0, 'Nphi': Nphi} # mass anisotropy, Landau level index\n",
    "vParams1 = {'power': (1.0, {'n': 1, 'x': np.inf})} # Coulomb power law, Gaussian cut-off\n",
    "vParams2 = {'haldane': (1.0, {'Vm': [0, 1]})} # Haldane pseudopotential\n",
    "\n",
    "pot1 = landau.Potential(torus=torus1, vParams=vParams1, hamParams=hamParams)\n",
    "pot1.setV2()\n",
    "T41 = np.real(utils.Utils.make4tensorsym(torus1, pot1.V2))\n",
    "\n",
    "pot2 = landau.Potential(torus=torus1, vParams=vParams2, hamParams=hamParams)\n",
    "pot2.setV2()\n",
    "T42 = np.real(utils.Utils.make4tensorsym(torus1, pot2.V2))\n",
    "\n",
    "hilb_s, hilbLen_s = utils.Utils.getHilb(Nphi, Ne, sector)\n",
    "dictx = hilbert.getDict(hilb_s)\n",
    "NH = len(hilb_s)\n",
    "\n",
    "dij1 = hilbert.getMatAux(Nphi, Ne, NH, hilb_s, hilbLen_s, T41, dictx, Nth)\n",
    "dij2 = hilbert.getMatAux(Nphi, Ne, NH, hilb_s, hilbLen_s, T42, dictx, Nth)\n",
    "\n",
    "HMat1 = hilbert.dijToCsr(dij1, NH)\n",
    "HMat2 = hilbert.dijToCsr(dij2, NH)"
   ]
  },
  {
   "cell_type": "code",
   "execution_count": 41,
   "metadata": {},
   "outputs": [],
   "source": [
    "E1, V1 = ssp.linalg.eigsh(HMat1, k=6, which='SA')\n",
    "E2, V2 = ssp.linalg.eigsh(HMat2, k=6, which='SA')"
   ]
  },
  {
   "cell_type": "markdown",
   "metadata": {},
   "source": [
    "## ground state"
   ]
  },
  {
   "cell_type": "code",
   "execution_count": 42,
   "metadata": {},
   "outputs": [
    {
     "name": "stdout",
     "output_type": "stream",
     "text": [
      "Coulomb: -0.252519\n",
      "Haldane: -0.291667\n"
     ]
    }
   ],
   "source": [
    "print(\"Coulomb: {0:.6f}\".format(E1[0]/Ne))\n",
    "print(\"Haldane: {0:.6f}\".format(E2[0]/Ne))"
   ]
  },
  {
   "cell_type": "code",
   "execution_count": 43,
   "metadata": {},
   "outputs": [
    {
     "name": "stdout",
     "output_type": "stream",
     "text": [
      "Wavefunction overlap: 0.980256\n"
     ]
    }
   ],
   "source": [
    "print(\"Wavefunction overlap: {0:.6f}\".format(np.dot(V1[:, 0], V2[:, 0])**2))"
   ]
  },
  {
   "cell_type": "code",
   "execution_count": 44,
   "metadata": {},
   "outputs": [],
   "source": [
    "hilbObj1 = hilbert.Hilbert(Nphi=Nphi, Ne=Ne, NH=NH, hilb=hilb_s, hilbLen=hilbLen_s, dictx=dictx)\n",
    "obs1 = observables.Observables(torus1, hamParams, hilbObj1)"
   ]
  },
  {
   "cell_type": "code",
   "execution_count": 45,
   "metadata": {},
   "outputs": [],
   "source": [
    "nX = 30\n",
    "x_diag = 0.5 * np.arange(nX+1) * torus1.Lx / nX\n",
    "r_arr = np.c_[x_diag, x_diag]\n",
    "gRdiag1 = obs1.gr(r_arr, V1[:, 0])\n",
    "gRdiag2 = obs1.gr(r_arr, V2[:, 0])"
   ]
  },
  {
   "cell_type": "code",
   "execution_count": 46,
   "metadata": {},
   "outputs": [
    {
     "data": {
      "text/plain": [
       "<matplotlib.legend.Legend at 0x2b18eff09190>"
      ]
     },
     "execution_count": 46,
     "metadata": {},
     "output_type": "execute_result"
    },
    {
     "data": {
      "image/png": "[encoded data removed]",
      "text/plain": [
       "<Figure size 288x216 with 1 Axes>"
      ]
     },
     "metadata": {
      "needs_background": "light"
     },
     "output_type": "display_data"
    }
   ],
   "source": [
    "f, ax = plt.subplots(figsize=(4,3))\n",
    "ax.plot(x_diag, gRdiag1, label='Coulomb')\n",
    "ax.plot(x_diag, gRdiag2, label='Haldane')\n",
    "ax.set_xlabel(r'$r$')\n",
    "ax.set_ylabel(r'$g(r)$')\n",
    "ax.set_xlim(0)\n",
    "ax.set_ylim(0)\n",
    "ax.legend(loc='best')"
   ]
  },
  {
   "cell_type": "code",
   "execution_count": null,
   "metadata": {},
   "outputs": [],
   "source": []
  }
 ],
 "metadata": {
  "kernelspec": {
   "display_name": "Python 3",
   "language": "python",
   "name": "python3"
  },
  "language_info": {
   "codemirror_mode": {
    "name": "ipython",
    "version": 3
   },
   "file_extension": ".py",
   "mimetype": "text/x-python",
   "name": "python",
   "nbconvert_exporter": "python",
   "pygments_lexer": "ipython3",
   "version": "3.7.7"
  }
 },
 "nbformat": 4,
 "nbformat_minor": 4
}

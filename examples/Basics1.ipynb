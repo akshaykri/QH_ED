{
 "cells": [
  {
   "cell_type": "code",
   "execution_count": 1,
   "metadata": {},
   "outputs": [],
   "source": [
    "import numpy as np\n",
    "import numba\n",
    "import scipy.sparse as ssp\n",
    "import scipy.stats\n",
    "import time\n",
    "import sys\n",
    "import pdb\n",
    "from functools import partial\n",
    "# %load_ext line_profiler\n",
    "%load_ext autoreload\n",
    "import matplotlib.pyplot as plt\n",
    "plt.rc('text', usetex=True)"
   ]
  },
  {
   "cell_type": "code",
   "execution_count": 2,
   "metadata": {},
   "outputs": [],
   "source": [
    "from QH_ED import landau\n",
    "from QH_ED import utils\n",
    "from QH_ED import hilbert\n",
    "from QH_ED import observables\n",
    "from functools import partial"
   ]
  },
  {
   "cell_type": "markdown",
   "metadata": {},
   "source": [
    "## A simple calculation of 8 electrons at $\\nu=1/3$ in the LLL "
   ]
  },
  {
   "cell_type": "code",
   "execution_count": 3,
   "metadata": {},
   "outputs": [],
   "source": [
    "Nphi = 24\n",
    "Ne = 8\n",
    "sector = 4\n",
    "Nth = 4\n",
    "\n",
    "torus1 = landau.Torus(Nphi, aspect_ratio=1.0)\n",
    "hamParams = {'alpha': 1.0, 'n': 0, 'Nphi': Nphi} # mass anisotropy, Landau level index\n",
    "vParams1 = {'power': (1.0, {'n': 1, 'x': np.inf})} # Coulomb power law, Gaussian cut-off\n",
    "vParams2 = {'haldane': (1.0, {'Vm': [0, 1]})} # Haldane pseudopotential\n",
    "\n",
    "pot1 = landau.Potential(torus=torus1, vParams=vParams1, hamParams=hamParams)\n",
    "pot1.setV2()\n",
    "T41 = np.real(utils.Utils.make4tensorsym(torus1, pot1.V2))\n",
    "\n",
    "pot2 = landau.Potential(torus=torus1, vParams=vParams2, hamParams=hamParams)\n",
    "pot2.setV2()\n",
    "T42 = np.real(utils.Utils.make4tensorsym(torus1, pot2.V2))\n",
    "\n",
    "hilb_s, hilbLen_s = utils.Utils.getHilb(Nphi, Ne, sector)\n",
    "dictx = hilbert.getDict(hilb_s)\n",
    "NH = len(hilb_s)\n",
    "\n",
    "dij1 = hilbert.getMatAux(Nphi, Ne, NH, hilb_s, hilbLen_s, T41, dictx, Nth)\n",
    "dij2 = hilbert.getMatAux(Nphi, Ne, NH, hilb_s, hilbLen_s, T42, dictx, Nth)\n",
    "\n",
    "HMat1 = hilbert.dijToCsr(dij1, NH)\n",
    "HMat2 = hilbert.dijToCsr(dij2, NH)"
   ]
  },
  {
   "cell_type": "code",
   "execution_count": 4,
   "metadata": {},
   "outputs": [],
   "source": [
    "E1, V1 = ssp.linalg.eigsh(HMat1, k=6, which='SA')\n",
    "E2, V2 = ssp.linalg.eigsh(HMat2, k=6, which='SA')"
   ]
  },
  {
   "cell_type": "code",
   "execution_count": 5,
   "metadata": {},
   "outputs": [
    {
     "data": {
      "text/plain": [
       "(array([-2.02014901, -1.95465458, -1.95465458, -1.93826526, -1.93780827,\n",
       "        -1.93780827]),\n",
       " array([-2.33333333, -1.91113698, -1.91113698, -1.90871525, -1.71754719,\n",
       "        -1.71754719]))"
      ]
     },
     "execution_count": 5,
     "metadata": {},
     "output_type": "execute_result"
    }
   ],
   "source": [
    "E1, E2"
   ]
  },
  {
   "cell_type": "markdown",
   "metadata": {},
   "source": [
    "## ground state"
   ]
  },
  {
   "cell_type": "code",
   "execution_count": 6,
   "metadata": {},
   "outputs": [
    {
     "name": "stdout",
     "output_type": "stream",
     "text": [
      "Coulomb: -0.252519\n",
      "Laughlin: -0.291667\n"
     ]
    }
   ],
   "source": [
    "print(\"Coulomb: {0:.6f}\".format(E1[0]/Ne))\n",
    "print(\"Laughlin: {0:.6f}\".format(E2[0]/Ne))"
   ]
  },
  {
   "cell_type": "code",
   "execution_count": 7,
   "metadata": {},
   "outputs": [
    {
     "name": "stdout",
     "output_type": "stream",
     "text": [
      "Wavefunction overlap: 0.980256\n"
     ]
    }
   ],
   "source": [
    "print(\"Wavefunction overlap: {0:.6f}\".format(np.dot(V1[:, 0], V2[:, 0])**2))"
   ]
  },
  {
   "cell_type": "code",
   "execution_count": 8,
   "metadata": {},
   "outputs": [
    {
     "data": {
      "text/plain": [
       "<matplotlib.legend.Legend at 0x2aae27d68f90>"
      ]
     },
     "execution_count": 8,
     "metadata": {},
     "output_type": "execute_result"
    },
    {
     "data": {
      "image/png": "[encoded data removed]",
      "text/plain": [
       "<Figure size 288x216 with 1 Axes>"
      ]
     },
     "metadata": {
      "needs_background": "light"
     },
     "output_type": "display_data"
    }
   ],
   "source": [
    "f, ax = plt.subplots(1, 1, figsize=(4,3))\n",
    "ax.plot(V1[:, 0]**2, label='Coulomb')\n",
    "ax.plot(V2[:, 0]**2, alpha=0.6, label='Laughlin')\n",
    "ax.set_xlabel(r'basis state index $i$')\n",
    "ax.set_ylabel(r'probability density on state $i$')\n",
    "ax.set_xlim([0, sum(hilbLen_s)])\n",
    "ax.set_ylim(0)\n",
    "ax.legend(loc='upper left', bbox_to_anchor=(0.25, 0.99))"
   ]
  },
  {
   "cell_type": "code",
   "execution_count": 9,
   "metadata": {},
   "outputs": [],
   "source": [
    "hilbObj1 = hilbert.Hilbert(Nphi=Nphi, Ne=Ne, NH=NH, hilb=hilb_s, hilbLen=hilbLen_s, dictx=dictx)\n",
    "obs1 = observables.Observables(torus1, hamParams, hilbObj1)"
   ]
  },
  {
   "cell_type": "code",
   "execution_count": 10,
   "metadata": {},
   "outputs": [],
   "source": [
    "nX = 30\n",
    "x_diag = 0.5 * np.arange(nX+1) * torus1.Lx / nX\n",
    "r_arr = np.c_[x_diag, x_diag]\n",
    "gRdiag1 = obs1.gr(r_arr, V1[:, 0])\n",
    "gRdiag2 = obs1.gr(r_arr, V2[:, 0])"
   ]
  },
  {
   "cell_type": "code",
   "execution_count": 11,
   "metadata": {},
   "outputs": [
    {
     "data": {
      "text/plain": [
       "<matplotlib.legend.Legend at 0x2aae27e5ef90>"
      ]
     },
     "execution_count": 11,
     "metadata": {},
     "output_type": "execute_result"
    },
    {
     "data": {
      "image/png": "[encoded data removed]",
      "text/plain": [
       "<Figure size 288x216 with 1 Axes>"
      ]
     },
     "metadata": {
      "needs_background": "light"
     },
     "output_type": "display_data"
    }
   ],
   "source": [
    "f, ax = plt.subplots(figsize=(4,3))\n",
    "ax.plot(x_diag*np.sqrt(2), gRdiag1, label='Coulomb')\n",
    "ax.plot(x_diag*np.sqrt(2), gRdiag2, label='Laughlin')\n",
    "ax.set_xlabel(r'$r$')\n",
    "ax.set_ylabel(r'$g(r)$')\n",
    "ax.set_xlim(0)\n",
    "ax.set_ylim(0)\n",
    "ax.legend(loc='best')"
   ]
  },
  {
   "cell_type": "markdown",
   "metadata": {},
   "source": [
    "## playing around with Gaussian interactions "
   ]
  },
  {
   "cell_type": "code",
   "execution_count": 49,
   "metadata": {},
   "outputs": [],
   "source": [
    "s_arr = np.r_[0.1, 0.5, 1.0, 2.0, 3.0, 10.0]\n",
    "E1_arr = np.zeros((len(s_arr), 6))\n",
    "V1_arr = np.zeros((len(s_arr), sum(hilbLen_s), 6))\n",
    "ov_arr = np.zeros((len(s_arr), 6))\n",
    "\n",
    "hamParams = {'alpha': 1.0, 'n': 0, 'Nphi': Nphi} # mass anisotropy, Landau level index\n",
    "\n",
    "for cs, s in enumerate(s_arr):\n",
    "    vParams1 = {'power': (1.0, {'n': 0, 'x': s})}\n",
    "    pot1 = landau.Potential(torus=torus1, vParams=vParams1, hamParams=hamParams)\n",
    "    pot1.setV2()\n",
    "    T41 = np.real(utils.Utils.make4tensorsym(torus1, pot1.V2))\n",
    "    dij1 = hilbert.getMatAux(Nphi, Ne, NH, hilb_s, hilbLen_s, T41, dictx, Nth)\n",
    "    HMat1 = hilbert.dijToCsr(dij1, NH)\n",
    "    Ex, Vx = ssp.linalg.eigsh(HMat1, k=6, which='SA')\n",
    "    E1_arr[cs, :] = Ex\n",
    "    V1_arr[cs, :, :] = Vx\n",
    "    ov_arr[cs, :] = np.dot(Vx.T, V2[:, 0])**2"
   ]
  },
  {
   "cell_type": "code",
   "execution_count": 50,
   "metadata": {},
   "outputs": [
    {
     "data": {
      "text/plain": [
       "Text(0.5, 0, '$\\\\delta V_1$')"
      ]
     },
     "execution_count": 50,
     "metadata": {},
     "output_type": "execute_result"
    },
    {
     "data": {
      "image/png": "[encoded data removed]",
      "text/plain": [
       "<Figure size 360x360 with 2 Axes>"
      ]
     },
     "metadata": {
      "needs_background": "light"
     },
     "output_type": "display_data"
    }
   ],
   "source": [
    "f, ax = plt.subplots(2, 1, figsize=(5, 5))\n",
    "for i in np.arange(6):\n",
    "    ax[0].plot(s_arr, E1_arr[:, i])\n",
    "    ax[1].plot(s_arr, ov_arr[:, i])\n",
    "# ax[0].set_xlim([s_arr[0], s_arr[-1]])\n",
    "# ax[1].set_xlim([s_arr[0], s_arr[-1]])\n",
    "ax[0].set_ylabel(r'energy')\n",
    "ax[1].set_ylabel(r'overlap $\\langle \\psi | \\psi_H \\rangle$')\n",
    "ax[1].set_xlabel(r'$s$')"
   ]
  },
  {
   "cell_type": "markdown",
   "metadata": {},
   "source": [
    "## EXPERIMENTS in $n=1$ LL"
   ]
  },
  {
   "cell_type": "code",
   "execution_count": 12,
   "metadata": {},
   "outputs": [],
   "source": [
    "Nphi = 24\n",
    "Ne = 8\n",
    "sector = 4\n",
    "Nth = 4\n",
    "\n",
    "torus1 = landau.Torus(Nphi, aspect_ratio=1.0)\n",
    "hamParams = {'alpha': 1.0, 'n': 1, 'Nphi': Nphi} # mass anisotropy, Landau level index\n",
    "vParams1 = {'power': (1.0, {'n': 1, 'x': np.inf})} # Coulomb power law, Gaussian cut-off\n",
    "vParams2 = {'haldane': (1.0, {'Vm': [0, 1]})} # Haldane pseudopotential\n",
    "\n",
    "pot1 = landau.Potential(torus=torus1, vParams=vParams1, hamParams=hamParams)\n",
    "pot1.setV2()\n",
    "T41 = np.real(utils.Utils.make4tensorsym(torus1, pot1.V2))\n",
    "\n",
    "pot2 = landau.Potential(torus=torus1, vParams=vParams2, hamParams=hamParams)\n",
    "pot2.setV2()\n",
    "T42 = np.real(utils.Utils.make4tensorsym(torus1, pot2.V2))\n",
    "\n",
    "hilb_s, hilbLen_s = utils.Utils.getHilb(Nphi, Ne, sector)\n",
    "dictx = hilbert.getDict(hilb_s)\n",
    "NH = len(hilb_s)\n",
    "\n",
    "dij1 = hilbert.getMatAux(Nphi, Ne, NH, hilb_s, hilbLen_s, T41, dictx, Nth)\n",
    "dij2 = hilbert.getMatAux(Nphi, Ne, NH, hilb_s, hilbLen_s, T42, dictx, Nth)\n",
    "\n",
    "HMat1 = hilbert.dijToCsr(dij1, NH)\n",
    "HMat2 = hilbert.dijToCsr(dij2, NH) \n",
    "\n",
    "E1, V1 = ssp.linalg.eigsh(HMat1, k=6, which='SA')\n",
    "E2, V2 = ssp.linalg.eigsh(HMat2, k=6, which='SA')"
   ]
  },
  {
   "cell_type": "code",
   "execution_count": 13,
   "metadata": {},
   "outputs": [
    {
     "name": "stdout",
     "output_type": "stream",
     "text": [
      "Coulomb: -0.174887\n",
      "Laughlin: -0.291667\n"
     ]
    }
   ],
   "source": [
    "print(\"Coulomb: {0:.6f}\".format(E1[0]/Ne))\n",
    "print(\"Laughlin: {0:.6f}\".format(E2[0]/Ne))"
   ]
  },
  {
   "cell_type": "code",
   "execution_count": 14,
   "metadata": {},
   "outputs": [
    {
     "name": "stdout",
     "output_type": "stream",
     "text": [
      "Wavefunction overlap: 0.617796\n"
     ]
    }
   ],
   "source": [
    "print(\"Wavefunction overlap: {0:.6f}\".format(np.dot(V1[:, 0], V2[:, 0])**2))"
   ]
  },
  {
   "cell_type": "code",
   "execution_count": 15,
   "metadata": {},
   "outputs": [],
   "source": [
    "hilbObj1 = hilbert.Hilbert(Nphi=Nphi, Ne=Ne, NH=NH, hilb=hilb_s, hilbLen=hilbLen_s, dictx=dictx)\n",
    "obs1 = observables.Observables(torus1, hamParams, hilbObj1)"
   ]
  },
  {
   "cell_type": "code",
   "execution_count": 16,
   "metadata": {},
   "outputs": [],
   "source": [
    "nX = 60\n",
    "x_diag = 0.5 * np.arange(nX+1) * torus1.Lx / nX\n",
    "r_arr = np.c_[x_diag, x_diag]\n",
    "gRdiag1 = obs1.gr(r_arr, V1[:, 0])\n",
    "gRdiag2 = obs1.gr(r_arr, V2[:, 0])"
   ]
  },
  {
   "cell_type": "code",
   "execution_count": 17,
   "metadata": {},
   "outputs": [
    {
     "data": {
      "text/plain": [
       "<matplotlib.legend.Legend at 0x2aae27fb8390>"
      ]
     },
     "execution_count": 17,
     "metadata": {},
     "output_type": "execute_result"
    },
    {
     "data": {
      "image/png": "[encoded data removed]",
      "text/plain": [
       "<Figure size 288x216 with 1 Axes>"
      ]
     },
     "metadata": {
      "needs_background": "light"
     },
     "output_type": "display_data"
    }
   ],
   "source": [
    "f, ax = plt.subplots(figsize=(4,3))\n",
    "ax.plot(x_diag*np.sqrt(2), gRdiag1, label='Coulomb')\n",
    "ax.plot(x_diag*np.sqrt(2), gRdiag2, label='Laughlin')\n",
    "ax.set_xlabel(r'$r$')\n",
    "ax.set_ylabel(r'$g(r)$')\n",
    "ax.set_xlim(0)\n",
    "ax.set_ylim(0)\n",
    "ax.legend(loc='best')"
   ]
  },
  {
   "cell_type": "markdown",
   "metadata": {},
   "source": [
    "## Gaussian interactions in the $n=1$ LL"
   ]
  },
  {
   "cell_type": "code",
   "execution_count": 18,
   "metadata": {},
   "outputs": [],
   "source": [
    "s_arr = np.r_[0.1:0.501:0.1, 0.55, 0.6:0.701:0.01, 0.8, 0.9]\n",
    "E1_arr = np.zeros((len(s_arr), 6))\n",
    "V1_arr = np.zeros((len(s_arr), sum(hilbLen_s), 6))\n",
    "ov1_arr = np.zeros((len(s_arr), 6))\n",
    "ov2_arr = np.zeros((len(s_arr), 6))\n",
    "\n",
    "hamParams = {'alpha': 1.0, 'n': 1, 'Nphi': Nphi} # mass anisotropy, Landau level index\n",
    "\n",
    "for cs, s in enumerate(s_arr):\n",
    "    vParams1 = {'power': (1.0, {'n': 0, 'x': s})}\n",
    "    pot1 = landau.Potential(torus=torus1, vParams=vParams1, hamParams=hamParams)\n",
    "    pot1.setV2()\n",
    "    T41 = np.real(utils.Utils.make4tensorsym(torus1, pot1.V2))\n",
    "    dij1 = hilbert.getMatAux(Nphi, Ne, NH, hilb_s, hilbLen_s, T41, dictx, Nth)\n",
    "    HMat1 = hilbert.dijToCsr(dij1, NH)\n",
    "    Ex, Vx = ssp.linalg.eigsh(HMat1, k=6, which='SA')\n",
    "    E1_arr[cs, :] = Ex\n",
    "    V1_arr[cs, :, :] = Vx\n",
    "    ov1_arr[cs, :] = np.dot(Vx.T, V1[:, 0])**2\n",
    "    ov2_arr[cs, :] = np.dot(Vx.T, V2[:, 0])**2"
   ]
  },
  {
   "cell_type": "code",
   "execution_count": 19,
   "metadata": {},
   "outputs": [
    {
     "data": {
      "image/png": "[encoded data removed]",
      "text/plain": [
       "<Figure size 360x360 with 2 Axes>"
      ]
     },
     "metadata": {
      "needs_background": "light"
     },
     "output_type": "display_data"
    }
   ],
   "source": [
    "f, ax = plt.subplots(2, 1, figsize=(5, 5))\n",
    "for i in np.arange(1):\n",
    "    ax[0].plot(s_arr, E1_arr[:, i+1] - E1_arr[:, i])\n",
    "    ax[1].plot(s_arr, ov1_arr[:, i], label='Coulomb overlap')\n",
    "    ax[1].plot(s_arr, ov2_arr[:, i], label='Laughlin overlap')\n",
    "ax[0].set_xlim([s_arr[0], s_arr[-1]])\n",
    "ax[1].set_xlim([s_arr[0], s_arr[-1]])\n",
    "ax[0].set_ylabel(r'energy gap')\n",
    "ax[1].set_ylabel(r'overlap $| \\langle \\psi | \\psi_0 \\rangle |^2$')\n",
    "ax[1].set_xlabel(r'interaction length scale $s$')\n",
    "ax[1].legend(loc='best')\n",
    "\n",
    "ax[0].set_yscale('log')\n",
    "# f.savefig('/home/ak20/QH/plots/gaussian_n1.pdf')"
   ]
  },
  {
   "cell_type": "code",
   "execution_count": 16,
   "metadata": {},
   "outputs": [],
   "source": [
    "aH_arr = np.r_[0, 0.03, 0.04, 0.05, 0.06, 0.1]\n",
    "E1_arr = np.zeros((len(aH_arr), 6))\n",
    "V1_arr = np.zeros((len(aH_arr), sum(hilbLen_s), 6))\n",
    "ov_arr = np.zeros((len(aH_arr), 6))\n",
    "\n",
    "for caH, aH in enumerate(aH_arr):\n",
    "    vParams1 = {'power': (1.0, {'n': 1, 'x': np.inf}),\n",
    "                'haldane': (aH, {'Vm': [0, 1]})}\n",
    "    pot1 = landau.Potential(torus=torus1, vParams=vParams1, hamParams=hamParams)\n",
    "    pot1.setV2()\n",
    "    T41 = np.real(utils.Utils.make4tensorsym(torus1, pot1.V2))\n",
    "    dij1 = hilbert.getMatAux(Nphi, Ne, NH, hilb_s, hilbLen_s, T41, dictx, Nth)\n",
    "    HMat1 = hilbert.dijToCsr(dij1, NH)\n",
    "    Ex, Vx = ssp.linalg.eigsh(HMat1, k=6, which='SA')\n",
    "    E1_arr[caH, :] = Ex\n",
    "    V1_arr[caH, :, :] = Vx\n",
    "    ov_arr[caH, :] = np.dot(Vx.T, V2[:, 0])**2"
   ]
  },
  {
   "cell_type": "code",
   "execution_count": 19,
   "metadata": {},
   "outputs": [
    {
     "data": {
      "text/plain": [
       "Text(0.5, 0, '$\\\\delta V_1$')"
      ]
     },
     "execution_count": 19,
     "metadata": {},
     "output_type": "execute_result"
    },
    {
     "data": {
      "image/png": "[encoded data removed]",
      "text/plain": [
       "<Figure size 360x360 with 2 Axes>"
      ]
     },
     "metadata": {
      "needs_background": "light"
     },
     "output_type": "display_data"
    }
   ],
   "source": [
    "f, ax = plt.subplots(2, 1, figsize=(5, 5))\n",
    "for i in np.arange(6):\n",
    "    ax[0].plot(aH_arr, E1_arr[:, i])\n",
    "    ax[1].plot(aH_arr, ov_arr[:, i])\n",
    "ax[0].set_xlim([aH_arr[0], aH_arr[-1]])\n",
    "ax[1].set_xlim([aH_arr[0], aH_arr[-1]])\n",
    "ax[0].set_ylabel(r'energy')\n",
    "ax[1].set_ylabel(r'overlap $\\langle \\psi | \\psi_H \\rangle$')\n",
    "ax[1].set_xlabel(r'$\\delta V_1$')"
   ]
  },
  {
   "cell_type": "code",
   "execution_count": 82,
   "metadata": {},
   "outputs": [
    {
     "data": {
      "text/plain": [
       "<matplotlib.legend.Legend at 0x2adf6f75d650>"
      ]
     },
     "execution_count": 82,
     "metadata": {},
     "output_type": "execute_result"
    },
    {
     "data": {
      "image/png": "[encoded data removed]",
      "text/plain": [
       "<Figure size 432x288 with 1 Axes>"
      ]
     },
     "metadata": {
      "needs_background": "light"
     },
     "output_type": "display_data"
    }
   ],
   "source": [
    "f, ax = plt.subplots(1, 1)\n",
    "for caH, aH in enumerate(aH_arr):\n",
    "    if aH in [0, 0.06]:\n",
    "        ax.plot(V1_arr[caH, :]**2, color=plt.cm.jet(caH/len(aH_arr)),\n",
    "            alpha=1-0.05*caH, label='{0:.2f}'.format(aH))\n",
    "ax.set_xlim([0, sum(hilbLen_s)])\n",
    "ax.set_ylim(0)\n",
    "ax.legend(loc='upper left', bbox_to_anchor=(0.25, 0.99), title='$\\delta V_1$')"
   ]
  },
  {
   "cell_type": "code",
   "execution_count": null,
   "metadata": {},
   "outputs": [],
   "source": [
    "s_arr = np.r_[0.1, 0.5, 1.0, 2.0, 3.0, 10.0]\n",
    "E1_arr = np.zeros((len(s_arr), 6))\n",
    "V1_arr = np.zeros((len(s_arr), sum(hilbLen_s), 6))\n",
    "ov_arr = np.zeros((len(s_arr), 6))\n",
    "\n",
    "hamParams = {'alpha': 1.0, 'n': 1, 'Nphi': Nphi} # mass anisotropy, Landau level index\n",
    "\n",
    "for cs, s in enumerate(s_arr):\n",
    "    vParams1 = {'power': (1.0, {'n': 0, 'x': s})}\n",
    "    pot1 = landau.Potential(torus=torus1, vParams=vParams1, hamParams=hamParams)\n",
    "    pot1.setV2()\n",
    "    T41 = np.real(utils.Utils.make4tensorsym(torus1, pot1.V2))\n",
    "    dij1 = hilbert.getMatAux(Nphi, Ne, NH, hilb_s, hilbLen_s, T41, dictx, Nth)\n",
    "    HMat1 = hilbert.dijToCsr(dij1, NH)\n",
    "    Ex, Vx = ssp.linalg.eigsh(HMat1, k=6, which='SA')\n",
    "    E1_arr[cs, :] = Ex\n",
    "    V1_arr[cs, :, :] = Vx\n",
    "    ov_arr[cs, :] = np.dot(Vx.T, V2[:, 0])**2"
   ]
  },
  {
   "cell_type": "markdown",
   "metadata": {},
   "source": [
    "## other experiments"
   ]
  },
  {
   "cell_type": "code",
   "execution_count": 35,
   "metadata": {},
   "outputs": [],
   "source": [
    "Nphi = 24\n",
    "Ne = 8\n",
    "sector = 4\n",
    "Nth = 4\n",
    "\n",
    "torus1 = landau.Torus(Nphi, aspect_ratio=1.0)\n",
    "hamParams = {'alpha': 1.0, 'n': 1, 'Nphi': Nphi} # mass anisotropy, Landau level index\n",
    "vParams2 = {'power': (1.0, {'n': 1, 'x': np.inf}), \n",
    "            'haldane': (0.06, {'Vm': [0, 1]})} # Haldane pseudopotential\n",
    "\n",
    "pot2 = landau.Potential(torus=torus1, vParams=vParams2, hamParams=hamParams)\n",
    "pot2.setV2()\n",
    "T4 = np.real(utils.Utils.make4tensorsym(torus1, pot2.V2))\n",
    "\n",
    "hilb = [None]*Ne\n",
    "hilbLen = [None]*Ne\n",
    "dictx = [None]*Ne\n",
    "\n",
    "for sector in range(Ne):\n",
    "    hilb[sector], hilbLen[sector] = utils.Utils.getHilb(Nphi, Ne, sector)\n",
    "    dictx[sector] = hilbert.getDict(hilb[sector])\n",
    "    \n",
    "E_all = [None]*Ne\n",
    "V_all = [None]*Ne\n",
    "    \n",
    "for sector in range(Ne):\n",
    "    NH = len(hilb[sector])\n",
    "    dij = hilbert.getMatAux(Nphi, Ne, NH, hilb[sector], hilbLen[sector], T4, dictx[sector], Nth)\n",
    "    HMat = hilbert.dijToCsr(dij, NH)\n",
    "    E_all[sector], V_all[sector] = scipy.sparse.linalg.eigsh(HMat, k=16, which='SA')"
   ]
  },
  {
   "cell_type": "code",
   "execution_count": 28,
   "metadata": {},
   "outputs": [
    {
     "data": {
      "text/plain": [
       "[array([-1.06135108, -1.03562816, -1.031939  , -1.031939  , -1.03001798,\n",
       "        -1.03001798, -1.0272241 , -1.0272241 , -1.02714516, -1.02075938,\n",
       "        -1.00237354, -1.00237354, -0.99800678, -0.99609205, -0.99609205,\n",
       "        -0.99362559]),\n",
       " array([-1.04837756, -1.04837756, -1.03741783, -1.03741783, -1.0320879 ,\n",
       "        -1.03001798, -1.01720797, -1.01720797, -1.01341052, -1.01341052,\n",
       "        -1.01102112, -1.01102112, -1.00872786, -1.00237354, -0.99373338,\n",
       "        -0.99373338]),\n",
       " array([-1.05107838, -1.05107838, -1.04190971, -1.03741783, -1.03741783,\n",
       "        -1.03217606, -1.03217606, -1.0272241 , -1.02400301, -1.01341052,\n",
       "        -1.01341052, -1.01073165, -1.01073165, -1.00975404, -1.00975404,\n",
       "        -0.99609205]),\n",
       " array([-1.04837756, -1.04837756, -1.03217606, -1.03217606, -1.031939  ,\n",
       "        -1.02405765, -1.02405765, -1.00975404, -1.00975404, -1.00907011,\n",
       "        -1.00718729, -1.00195506, -1.00195506, -0.99373338, -0.99373338,\n",
       "        -0.99017925]),\n",
       " array([-1.0676262 , -1.06752381, -1.04190971, -1.04190971, -1.03562816,\n",
       "        -1.0320879 , -1.0320879 , -1.02400301, -1.02400301, -1.02075938,\n",
       "        -1.01604254, -1.00907011, -1.00907011, -1.00872786, -1.00872786,\n",
       "        -1.00718729]),\n",
       " array([-1.04837756, -1.04837756, -1.03217606, -1.03217606, -1.031939  ,\n",
       "        -1.02405765, -1.02405765, -1.00975404, -1.00975404, -1.00907011,\n",
       "        -1.00718729, -1.00195506, -1.00195506, -0.99373338, -0.99373338,\n",
       "        -0.99017925]),\n",
       " array([-1.05107838, -1.05107838, -1.04190971, -1.03741783, -1.03741783,\n",
       "        -1.03217606, -1.03217606, -1.0272241 , -1.02400301, -1.01341052,\n",
       "        -1.01341052, -1.01073165, -1.01073165, -1.00975404, -1.00975404,\n",
       "        -0.99609205]),\n",
       " array([-1.04837756, -1.04837756, -1.03741783, -1.03741783, -1.0320879 ,\n",
       "        -1.03001798, -1.01720797, -1.01720797, -1.01341052, -1.01341052,\n",
       "        -1.01102112, -1.01102112, -1.00872786, -1.00237354, -0.99373338,\n",
       "        -0.99373338])]"
      ]
     },
     "execution_count": 28,
     "metadata": {},
     "output_type": "execute_result"
    }
   ],
   "source": [
    "E_all"
   ]
  },
  {
   "cell_type": "code",
   "execution_count": 34,
   "metadata": {},
   "outputs": [
    {
     "data": {
      "text/plain": [
       "1.2819578407083784e-23"
      ]
     },
     "execution_count": 34,
     "metadata": {},
     "output_type": "execute_result"
    }
   ],
   "source": [
    "np.dot(V_all[4][:, 0], V2[:, 0])**2"
   ]
  },
  {
   "cell_type": "code",
   "execution_count": null,
   "metadata": {},
   "outputs": [],
   "source": [
    "        "
   ]
  }
 ],
 "metadata": {
  "kernelspec": {
   "display_name": "Python 3",
   "language": "python",
   "name": "python3"
  },
  "language_info": {
   "codemirror_mode": {
    "name": "ipython",
    "version": 3
   },
   "file_extension": ".py",
   "mimetype": "text/x-python",
   "name": "python",
   "nbconvert_exporter": "python",
   "pygments_lexer": "ipython3",
   "version": "3.7.7"
  }
 },
 "nbformat": 4,
 "nbformat_minor": 4
}

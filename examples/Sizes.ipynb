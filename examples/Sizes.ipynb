{
 "cells": [
  {
   "cell_type": "markdown",
   "metadata": {},
   "source": [
    "# Hilbert space sizes\n",
    "\n",
    "The quantum many-body problem explodes really quickly, so solving a many-body system is extremely difficult for any reasonably sized system.\n",
    "\n",
    "Below, I tabulate the system sizes for various different cases.\n",
    "The following abbreviations are used:\n",
    "- $N_e$  \n",
    "   number of electrons\n",
    "- $N_H$   \n",
    "   Hilbert space dimension in the absence of symmetries.\n",
    "- $N_H(s)$   \n",
    "   Hilbert space dimension in each momentum sector.\n",
    "- $N_{elem}$    \n",
    "   (upper bound on the) number of non-zero matrix elements in each momentum sector (it is much less than $N_H(s)^2$ because the systems are very sparse)\n",
    "- $N_H(H)$    \n",
    "   Hilbert space dimension if the Hamiltonian is block-diagonalized according to Haldane's many-body translation symmetries in each momentum sector. The price paid is that the matrix becomes much less sparse, so I don't know if there are great computational benefits."
   ]
  },
  {
   "cell_type": "code",
   "execution_count": 1,
   "metadata": {},
   "outputs": [],
   "source": [
    "import numpy as np\n",
    "import scipy.special\n",
    "from IPython.display import display, Math\n",
    "\n",
    "Nphi = lambda Ne, p, q: q*Ne/p"
   ]
  },
  {
   "cell_type": "code",
   "execution_count": 2,
   "metadata": {},
   "outputs": [],
   "source": [
    "def toScientific(num, prec=3):\n",
    "    \"\"\"\n",
    "    return a number in scientific notation \n",
    "    \"\"\"\n",
    "    exp = np.floor(np.log10(np.abs(num)))\n",
    "    coeff = num/10**(exp)\n",
    "    return r\"{1:.{0}f} \\times 10^{{ {2:d} }}\".format(prec, coeff, int(exp)) \n",
    "\n",
    "def prettyDisp(NeMin, NeMax, p, q, g=1):\n",
    "    \"\"\"\n",
    "    display all details for a particular size\n",
    "    \"\"\"\n",
    "    display(Math(r\"N_e \\qquad N_H  \\qquad \\quad \\: N_H (s) \\qquad \\quad \\: N_{elem} \\qquad \\quad N_H (H)\"))\n",
    "    for Ne in np.arange(NeMin, NeMax+1, g):\n",
    "        NH1 = scipy.special.comb(Nphi(Ne, p, q), Ne)\n",
    "        display(Math(\"{0:2d} {5:s} \\quad  {1:s} \\quad {2:s} \\quad {3:s} \\quad {4:s}\".format(\n",
    "                     Ne, \n",
    "                     toScientific(NH1), # NH\n",
    "                     toScientific(NH1/(Nphi(Ne, p, q))), # NH(sector) \n",
    "                     toScientific(NH1*(Nphi(Ne, p, q)-Ne)*Ne*(Ne-1)/(4*Nphi(Ne, p, q))), # N_elem\n",
    "                     toScientific(NH1/(q*Ne*Ne)), # NH(Haldane)\n",
    "                     \"\\ \\ \" if Ne < 10 else \" \"\n",
    "        )))"
   ]
  },
  {
   "cell_type": "markdown",
   "metadata": {},
   "source": [
    "## $\\nu = 1/3$\n",
    "\n",
    "At this filling, the number of orbitals $N_\\phi  = 3N_e$.\n"
   ]
  },
  {
   "cell_type": "code",
   "execution_count": 3,
   "metadata": {},
   "outputs": [
    {
     "data": {
      "text/latex": [
       "$\\displaystyle N_e \\qquad N_H  \\qquad \\quad \\: N_H (s) \\qquad \\quad \\: N_{elem} \\qquad \\quad N_H (H)$"
      ],
      "text/plain": [
       "<IPython.core.display.Math object>"
      ]
     },
     "metadata": {},
     "output_type": "display_data"
    },
    {
     "data": {
      "text/latex": [
       "$\\displaystyle  3 \\ \\  \\quad  8.400 \\times 10^{ 1 } \\quad 9.333 \\times 10^{ 0 } \\quad 8.400 \\times 10^{ 1 } \\quad 3.111 \\times 10^{ 0 }$"
      ],
      "text/plain": [
       "<IPython.core.display.Math object>"
      ]
     },
     "metadata": {},
     "output_type": "display_data"
    },
    {
     "data": {
      "text/latex": [
       "$\\displaystyle  4 \\ \\  \\quad  4.950 \\times 10^{ 2 } \\quad 4.125 \\times 10^{ 1 } \\quad 9.900 \\times 10^{ 2 } \\quad 1.031 \\times 10^{ 1 }$"
      ],
      "text/plain": [
       "<IPython.core.display.Math object>"
      ]
     },
     "metadata": {},
     "output_type": "display_data"
    },
    {
     "data": {
      "text/latex": [
       "$\\displaystyle  5 \\ \\  \\quad  3.003 \\times 10^{ 3 } \\quad 2.002 \\times 10^{ 2 } \\quad 1.001 \\times 10^{ 4 } \\quad 4.004 \\times 10^{ 1 }$"
      ],
      "text/plain": [
       "<IPython.core.display.Math object>"
      ]
     },
     "metadata": {},
     "output_type": "display_data"
    },
    {
     "data": {
      "text/latex": [
       "$\\displaystyle  6 \\ \\  \\quad  1.856 \\times 10^{ 4 } \\quad 1.031 \\times 10^{ 3 } \\quad 9.282 \\times 10^{ 4 } \\quad 1.719 \\times 10^{ 2 }$"
      ],
      "text/plain": [
       "<IPython.core.display.Math object>"
      ]
     },
     "metadata": {},
     "output_type": "display_data"
    },
    {
     "data": {
      "text/latex": [
       "$\\displaystyle  7 \\ \\  \\quad  1.163 \\times 10^{ 5 } \\quad 5.537 \\times 10^{ 3 } \\quad 8.140 \\times 10^{ 5 } \\quad 7.910 \\times 10^{ 2 }$"
      ],
      "text/plain": [
       "<IPython.core.display.Math object>"
      ]
     },
     "metadata": {},
     "output_type": "display_data"
    },
    {
     "data": {
      "text/latex": [
       "$\\displaystyle  8 \\ \\  \\quad  7.355 \\times 10^{ 5 } \\quad 3.064 \\times 10^{ 4 } \\quad 6.864 \\times 10^{ 6 } \\quad 3.831 \\times 10^{ 3 }$"
      ],
      "text/plain": [
       "<IPython.core.display.Math object>"
      ]
     },
     "metadata": {},
     "output_type": "display_data"
    },
    {
     "data": {
      "text/latex": [
       "$\\displaystyle  9 \\ \\  \\quad  4.687 \\times 10^{ 6 } \\quad 1.736 \\times 10^{ 5 } \\quad 5.624 \\times 10^{ 7 } \\quad 1.929 \\times 10^{ 4 }$"
      ],
      "text/plain": [
       "<IPython.core.display.Math object>"
      ]
     },
     "metadata": {},
     "output_type": "display_data"
    },
    {
     "data": {
      "text/latex": [
       "$\\displaystyle 10   \\quad  3.005 \\times 10^{ 7 } \\quad 1.002 \\times 10^{ 6 } \\quad 4.507 \\times 10^{ 8 } \\quad 1.002 \\times 10^{ 5 }$"
      ],
      "text/plain": [
       "<IPython.core.display.Math object>"
      ]
     },
     "metadata": {},
     "output_type": "display_data"
    },
    {
     "data": {
      "text/latex": [
       "$\\displaystyle 11   \\quad  1.935 \\times 10^{ 8 } \\quad 5.865 \\times 10^{ 6 } \\quad 3.548 \\times 10^{ 9 } \\quad 5.332 \\times 10^{ 5 }$"
      ],
      "text/plain": [
       "<IPython.core.display.Math object>"
      ]
     },
     "metadata": {},
     "output_type": "display_data"
    },
    {
     "data": {
      "text/latex": [
       "$\\displaystyle 12   \\quad  1.252 \\times 10^{ 9 } \\quad 3.477 \\times 10^{ 7 } \\quad 2.754 \\times 10^{ 10 } \\quad 2.897 \\times 10^{ 6 }$"
      ],
      "text/plain": [
       "<IPython.core.display.Math object>"
      ]
     },
     "metadata": {},
     "output_type": "display_data"
    },
    {
     "data": {
      "text/latex": [
       "$\\displaystyle 13   \\quad  8.122 \\times 10^{ 9 } \\quad 2.083 \\times 10^{ 8 } \\quad 2.112 \\times 10^{ 11 } \\quad 1.602 \\times 10^{ 7 }$"
      ],
      "text/plain": [
       "<IPython.core.display.Math object>"
      ]
     },
     "metadata": {},
     "output_type": "display_data"
    },
    {
     "data": {
      "text/latex": [
       "$\\displaystyle 14   \\quad  5.286 \\times 10^{ 10 } \\quad 1.259 \\times 10^{ 9 } \\quad 1.603 \\times 10^{ 12 } \\quad 8.990 \\times 10^{ 7 }$"
      ],
      "text/plain": [
       "<IPython.core.display.Math object>"
      ]
     },
     "metadata": {},
     "output_type": "display_data"
    },
    {
     "data": {
      "text/latex": [
       "$\\displaystyle 15   \\quad  3.449 \\times 10^{ 11 } \\quad 7.664 \\times 10^{ 9 } \\quad 1.207 \\times 10^{ 13 } \\quad 5.109 \\times 10^{ 8 }$"
      ],
      "text/plain": [
       "<IPython.core.display.Math object>"
      ]
     },
     "metadata": {},
     "output_type": "display_data"
    }
   ],
   "source": [
    "prettyDisp(NeMin=3, NeMax=15, p=1, q=3)"
   ]
  },
  {
   "cell_type": "markdown",
   "metadata": {},
   "source": [
    "## $\\nu = 1/5$\n",
    "\n",
    "At this filling, the number of orbitals $N_\\phi  = 5N_e$."
   ]
  },
  {
   "cell_type": "code",
   "execution_count": 4,
   "metadata": {},
   "outputs": [
    {
     "data": {
      "text/latex": [
       "$\\displaystyle N_e \\qquad N_H  \\qquad \\quad \\: N_H (s) \\qquad \\quad \\: N_{elem} \\qquad \\quad N_H (H)$"
      ],
      "text/plain": [
       "<IPython.core.display.Math object>"
      ]
     },
     "metadata": {},
     "output_type": "display_data"
    },
    {
     "data": {
      "text/latex": [
       "$\\displaystyle  3 \\ \\  \\quad  4.550 \\times 10^{ 2 } \\quad 3.033 \\times 10^{ 1 } \\quad 5.460 \\times 10^{ 2 } \\quad 1.011 \\times 10^{ 1 }$"
      ],
      "text/plain": [
       "<IPython.core.display.Math object>"
      ]
     },
     "metadata": {},
     "output_type": "display_data"
    },
    {
     "data": {
      "text/latex": [
       "$\\displaystyle  4 \\ \\  \\quad  4.845 \\times 10^{ 3 } \\quad 2.422 \\times 10^{ 2 } \\quad 1.163 \\times 10^{ 4 } \\quad 6.056 \\times 10^{ 1 }$"
      ],
      "text/plain": [
       "<IPython.core.display.Math object>"
      ]
     },
     "metadata": {},
     "output_type": "display_data"
    },
    {
     "data": {
      "text/latex": [
       "$\\displaystyle  5 \\ \\  \\quad  5.313 \\times 10^{ 4 } \\quad 2.125 \\times 10^{ 3 } \\quad 2.125 \\times 10^{ 5 } \\quad 4.250 \\times 10^{ 2 }$"
      ],
      "text/plain": [
       "<IPython.core.display.Math object>"
      ]
     },
     "metadata": {},
     "output_type": "display_data"
    },
    {
     "data": {
      "text/latex": [
       "$\\displaystyle  6 \\ \\  \\quad  5.938 \\times 10^{ 5 } \\quad 1.979 \\times 10^{ 4 } \\quad 3.563 \\times 10^{ 6 } \\quad 3.299 \\times 10^{ 3 }$"
      ],
      "text/plain": [
       "<IPython.core.display.Math object>"
      ]
     },
     "metadata": {},
     "output_type": "display_data"
    },
    {
     "data": {
      "text/latex": [
       "$\\displaystyle  7 \\ \\  \\quad  6.725 \\times 10^{ 6 } \\quad 1.921 \\times 10^{ 5 } \\quad 5.649 \\times 10^{ 7 } \\quad 2.745 \\times 10^{ 4 }$"
      ],
      "text/plain": [
       "<IPython.core.display.Math object>"
      ]
     },
     "metadata": {},
     "output_type": "display_data"
    },
    {
     "data": {
      "text/latex": [
       "$\\displaystyle  8 \\ \\  \\quad  7.690 \\times 10^{ 7 } \\quad 1.923 \\times 10^{ 6 } \\quad 8.613 \\times 10^{ 8 } \\quad 2.403 \\times 10^{ 5 }$"
      ],
      "text/plain": [
       "<IPython.core.display.Math object>"
      ]
     },
     "metadata": {},
     "output_type": "display_data"
    },
    {
     "data": {
      "text/latex": [
       "$\\displaystyle  9 \\ \\  \\quad  8.862 \\times 10^{ 8 } \\quad 1.969 \\times 10^{ 7 } \\quad 1.276 \\times 10^{ 10 } \\quad 2.188 \\times 10^{ 6 }$"
      ],
      "text/plain": [
       "<IPython.core.display.Math object>"
      ]
     },
     "metadata": {},
     "output_type": "display_data"
    },
    {
     "data": {
      "text/latex": [
       "$\\displaystyle 10   \\quad  1.027 \\times 10^{ 10 } \\quad 2.054 \\times 10^{ 8 } \\quad 1.849 \\times 10^{ 11 } \\quad 2.054 \\times 10^{ 7 }$"
      ],
      "text/plain": [
       "<IPython.core.display.Math object>"
      ]
     },
     "metadata": {},
     "output_type": "display_data"
    },
    {
     "data": {
      "text/latex": [
       "$\\displaystyle 11   \\quad  1.197 \\times 10^{ 11 } \\quad 2.176 \\times 10^{ 9 } \\quad 2.632 \\times 10^{ 12 } \\quad 1.978 \\times 10^{ 8 }$"
      ],
      "text/plain": [
       "<IPython.core.display.Math object>"
      ]
     },
     "metadata": {},
     "output_type": "display_data"
    }
   ],
   "source": [
    "prettyDisp(NeMin=3, NeMax=11, p=1, q=5)"
   ]
  },
  {
   "cell_type": "markdown",
   "metadata": {},
   "source": [
    "## $\\nu = 2/5$\n",
    "\n",
    "At this filling, the number of orbitals $N_\\phi  = 5N_e/2$."
   ]
  },
  {
   "cell_type": "code",
   "execution_count": 5,
   "metadata": {},
   "outputs": [
    {
     "data": {
      "text/latex": [
       "$\\displaystyle N_e \\qquad N_H  \\qquad \\quad \\: N_H (s) \\qquad \\quad \\: N_{elem} \\qquad \\quad N_H (H)$"
      ],
      "text/plain": [
       "<IPython.core.display.Math object>"
      ]
     },
     "metadata": {},
     "output_type": "display_data"
    },
    {
     "data": {
      "text/latex": [
       "$\\displaystyle  4 \\ \\  \\quad  2.100 \\times 10^{ 2 } \\quad 2.100 \\times 10^{ 1 } \\quad 3.780 \\times 10^{ 2 } \\quad 2.625 \\times 10^{ 0 }$"
      ],
      "text/plain": [
       "<IPython.core.display.Math object>"
      ]
     },
     "metadata": {},
     "output_type": "display_data"
    },
    {
     "data": {
      "text/latex": [
       "$\\displaystyle  6 \\ \\  \\quad  5.005 \\times 10^{ 3 } \\quad 3.337 \\times 10^{ 2 } \\quad 2.252 \\times 10^{ 4 } \\quad 2.781 \\times 10^{ 1 }$"
      ],
      "text/plain": [
       "<IPython.core.display.Math object>"
      ]
     },
     "metadata": {},
     "output_type": "display_data"
    },
    {
     "data": {
      "text/latex": [
       "$\\displaystyle  8 \\ \\  \\quad  1.260 \\times 10^{ 5 } \\quad 6.298 \\times 10^{ 3 } \\quad 1.058 \\times 10^{ 6 } \\quad 3.937 \\times 10^{ 2 }$"
      ],
      "text/plain": [
       "<IPython.core.display.Math object>"
      ]
     },
     "metadata": {},
     "output_type": "display_data"
    },
    {
     "data": {
      "text/latex": [
       "$\\displaystyle 10   \\quad  3.269 \\times 10^{ 6 } \\quad 1.308 \\times 10^{ 5 } \\quad 4.413 \\times 10^{ 7 } \\quad 6.538 \\times 10^{ 3 }$"
      ],
      "text/plain": [
       "<IPython.core.display.Math object>"
      ]
     },
     "metadata": {},
     "output_type": "display_data"
    },
    {
     "data": {
      "text/latex": [
       "$\\displaystyle 12   \\quad  8.649 \\times 10^{ 7 } \\quad 2.883 \\times 10^{ 6 } \\quad 1.713 \\times 10^{ 9 } \\quad 1.201 \\times 10^{ 5 }$"
      ],
      "text/plain": [
       "<IPython.core.display.Math object>"
      ]
     },
     "metadata": {},
     "output_type": "display_data"
    },
    {
     "data": {
      "text/latex": [
       "$\\displaystyle 14   \\quad  2.320 \\times 10^{ 9 } \\quad 6.628 \\times 10^{ 7 } \\quad 6.333 \\times 10^{ 10 } \\quad 2.367 \\times 10^{ 6 }$"
      ],
      "text/plain": [
       "<IPython.core.display.Math object>"
      ]
     },
     "metadata": {},
     "output_type": "display_data"
    },
    {
     "data": {
      "text/latex": [
       "$\\displaystyle 16   \\quad  6.285 \\times 10^{ 10 } \\quad 1.571 \\times 10^{ 9 } \\quad 2.263 \\times 10^{ 12 } \\quad 4.910 \\times 10^{ 7 }$"
      ],
      "text/plain": [
       "<IPython.core.display.Math object>"
      ]
     },
     "metadata": {},
     "output_type": "display_data"
    }
   ],
   "source": [
    "prettyDisp(NeMin=4, NeMax=17, p=2, q=5, g=2)"
   ]
  },
  {
   "cell_type": "markdown",
   "metadata": {},
   "source": [
    "## $\\nu = 1/2$\n",
    "\n",
    "At this filling, the number of orbitals $N_\\phi  = 2 N_e$."
   ]
  },
  {
   "cell_type": "code",
   "execution_count": 6,
   "metadata": {},
   "outputs": [
    {
     "data": {
      "text/latex": [
       "$\\displaystyle N_e \\qquad N_H  \\qquad \\quad \\: N_H (s) \\qquad \\quad \\: N_{elem} \\qquad \\quad N_H (H)$"
      ],
      "text/plain": [
       "<IPython.core.display.Math object>"
      ]
     },
     "metadata": {},
     "output_type": "display_data"
    },
    {
     "data": {
      "text/latex": [
       "$\\displaystyle  3 \\ \\  \\quad  2.000 \\times 10^{ 1 } \\quad 3.333 \\times 10^{ 0 } \\quad 1.500 \\times 10^{ 1 } \\quad 1.111 \\times 10^{ 0 }$"
      ],
      "text/plain": [
       "<IPython.core.display.Math object>"
      ]
     },
     "metadata": {},
     "output_type": "display_data"
    },
    {
     "data": {
      "text/latex": [
       "$\\displaystyle  4 \\ \\  \\quad  7.000 \\times 10^{ 1 } \\quad 8.750 \\times 10^{ 0 } \\quad 1.050 \\times 10^{ 2 } \\quad 2.188 \\times 10^{ 0 }$"
      ],
      "text/plain": [
       "<IPython.core.display.Math object>"
      ]
     },
     "metadata": {},
     "output_type": "display_data"
    },
    {
     "data": {
      "text/latex": [
       "$\\displaystyle  5 \\ \\  \\quad  2.520 \\times 10^{ 2 } \\quad 2.520 \\times 10^{ 1 } \\quad 6.300 \\times 10^{ 2 } \\quad 5.040 \\times 10^{ 0 }$"
      ],
      "text/plain": [
       "<IPython.core.display.Math object>"
      ]
     },
     "metadata": {},
     "output_type": "display_data"
    },
    {
     "data": {
      "text/latex": [
       "$\\displaystyle  6 \\ \\  \\quad  9.240 \\times 10^{ 2 } \\quad 7.700 \\times 10^{ 1 } \\quad 3.465 \\times 10^{ 3 } \\quad 1.283 \\times 10^{ 1 }$"
      ],
      "text/plain": [
       "<IPython.core.display.Math object>"
      ]
     },
     "metadata": {},
     "output_type": "display_data"
    },
    {
     "data": {
      "text/latex": [
       "$\\displaystyle  7 \\ \\  \\quad  3.432 \\times 10^{ 3 } \\quad 2.451 \\times 10^{ 2 } \\quad 1.802 \\times 10^{ 4 } \\quad 3.502 \\times 10^{ 1 }$"
      ],
      "text/plain": [
       "<IPython.core.display.Math object>"
      ]
     },
     "metadata": {},
     "output_type": "display_data"
    },
    {
     "data": {
      "text/latex": [
       "$\\displaystyle  8 \\ \\  \\quad  1.287 \\times 10^{ 4 } \\quad 8.044 \\times 10^{ 2 } \\quad 9.009 \\times 10^{ 4 } \\quad 1.005 \\times 10^{ 2 }$"
      ],
      "text/plain": [
       "<IPython.core.display.Math object>"
      ]
     },
     "metadata": {},
     "output_type": "display_data"
    },
    {
     "data": {
      "text/latex": [
       "$\\displaystyle  9 \\ \\  \\quad  4.862 \\times 10^{ 4 } \\quad 2.701 \\times 10^{ 3 } \\quad 4.376 \\times 10^{ 5 } \\quad 3.001 \\times 10^{ 2 }$"
      ],
      "text/plain": [
       "<IPython.core.display.Math object>"
      ]
     },
     "metadata": {},
     "output_type": "display_data"
    },
    {
     "data": {
      "text/latex": [
       "$\\displaystyle 10   \\quad  1.848 \\times 10^{ 5 } \\quad 9.238 \\times 10^{ 3 } \\quad 2.079 \\times 10^{ 6 } \\quad 9.238 \\times 10^{ 2 }$"
      ],
      "text/plain": [
       "<IPython.core.display.Math object>"
      ]
     },
     "metadata": {},
     "output_type": "display_data"
    },
    {
     "data": {
      "text/latex": [
       "$\\displaystyle 11   \\quad  7.054 \\times 10^{ 5 } \\quad 3.207 \\times 10^{ 4 } \\quad 9.700 \\times 10^{ 6 } \\quad 2.915 \\times 10^{ 3 }$"
      ],
      "text/plain": [
       "<IPython.core.display.Math object>"
      ]
     },
     "metadata": {},
     "output_type": "display_data"
    },
    {
     "data": {
      "text/latex": [
       "$\\displaystyle 12   \\quad  2.704 \\times 10^{ 6 } \\quad 1.127 \\times 10^{ 5 } \\quad 4.462 \\times 10^{ 7 } \\quad 9.389 \\times 10^{ 3 }$"
      ],
      "text/plain": [
       "<IPython.core.display.Math object>"
      ]
     },
     "metadata": {},
     "output_type": "display_data"
    },
    {
     "data": {
      "text/latex": [
       "$\\displaystyle 13   \\quad  1.040 \\times 10^{ 7 } \\quad 4.000 \\times 10^{ 5 } \\quad 2.028 \\times 10^{ 8 } \\quad 3.077 \\times 10^{ 4 }$"
      ],
      "text/plain": [
       "<IPython.core.display.Math object>"
      ]
     },
     "metadata": {},
     "output_type": "display_data"
    },
    {
     "data": {
      "text/latex": [
       "$\\displaystyle 14   \\quad  4.012 \\times 10^{ 7 } \\quad 1.433 \\times 10^{ 6 } \\quad 9.127 \\times 10^{ 8 } \\quad 1.023 \\times 10^{ 5 }$"
      ],
      "text/plain": [
       "<IPython.core.display.Math object>"
      ]
     },
     "metadata": {},
     "output_type": "display_data"
    },
    {
     "data": {
      "text/latex": [
       "$\\displaystyle 15   \\quad  1.551 \\times 10^{ 8 } \\quad 5.171 \\times 10^{ 6 } \\quad 4.072 \\times 10^{ 9 } \\quad 3.447 \\times 10^{ 5 }$"
      ],
      "text/plain": [
       "<IPython.core.display.Math object>"
      ]
     },
     "metadata": {},
     "output_type": "display_data"
    },
    {
     "data": {
      "text/latex": [
       "$\\displaystyle 16   \\quad  6.011 \\times 10^{ 8 } \\quad 1.878 \\times 10^{ 7 } \\quad 1.803 \\times 10^{ 10 } \\quad 1.174 \\times 10^{ 6 }$"
      ],
      "text/plain": [
       "<IPython.core.display.Math object>"
      ]
     },
     "metadata": {},
     "output_type": "display_data"
    },
    {
     "data": {
      "text/latex": [
       "$\\displaystyle 17   \\quad  2.334 \\times 10^{ 9 } \\quad 6.864 \\times 10^{ 7 } \\quad 7.934 \\times 10^{ 10 } \\quad 4.037 \\times 10^{ 6 }$"
      ],
      "text/plain": [
       "<IPython.core.display.Math object>"
      ]
     },
     "metadata": {},
     "output_type": "display_data"
    },
    {
     "data": {
      "text/latex": [
       "$\\displaystyle 18   \\quad  9.075 \\times 10^{ 9 } \\quad 2.521 \\times 10^{ 8 } \\quad 3.471 \\times 10^{ 11 } \\quad 1.400 \\times 10^{ 7 }$"
      ],
      "text/plain": [
       "<IPython.core.display.Math object>"
      ]
     },
     "metadata": {},
     "output_type": "display_data"
    },
    {
     "data": {
      "text/latex": [
       "$\\displaystyle 19   \\quad  3.535 \\times 10^{ 10 } \\quad 9.301 \\times 10^{ 8 } \\quad 1.511 \\times 10^{ 12 } \\quad 4.895 \\times 10^{ 7 }$"
      ],
      "text/plain": [
       "<IPython.core.display.Math object>"
      ]
     },
     "metadata": {},
     "output_type": "display_data"
    }
   ],
   "source": [
    "prettyDisp(NeMin=3, NeMax=19, p=1, q=2)"
   ]
  }
 ],
 "metadata": {
  "kernelspec": {
   "display_name": "Python 3",
   "language": "python",
   "name": "python3"
  },
  "language_info": {
   "codemirror_mode": {
    "name": "ipython",
    "version": 3
   },
   "file_extension": ".py",
   "mimetype": "text/x-python",
   "name": "python",
   "nbconvert_exporter": "python",
   "pygments_lexer": "ipython3",
   "version": "3.7.7"
  }
 },
 "nbformat": 4,
 "nbformat_minor": 4
}
